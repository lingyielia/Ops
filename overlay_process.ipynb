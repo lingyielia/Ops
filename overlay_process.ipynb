{
 "cells": [
  {
   "cell_type": "markdown",
   "metadata": {},
   "source": [
    "Using Python 3 Kernel"
   ]
  },
  {
   "cell_type": "code",
   "execution_count": 1,
   "metadata": {
    "ExecuteTime": {
     "end_time": "2018-01-06T01:50:32.014172Z",
     "start_time": "2018-01-06T01:50:31.200684Z"
    }
   },
   "outputs": [],
   "source": [
    "%matplotlib inline\n",
    "from __future__ import print_function, division\n",
    "import numpy as np\n",
    "import pandas as pd\n",
    "import matplotlib.pyplot as plt\n",
    "import os\n",
    "import geopandas as gpd\n",
    "from fiona.crs import from_epsg\n",
    "from geopandas.tools import overlay"
   ]
  },
  {
   "cell_type": "code",
   "execution_count": 2,
   "metadata": {
    "ExecuteTime": {
     "end_time": "2018-01-06T01:50:32.494800Z",
     "start_time": "2018-01-06T01:50:32.016773Z"
    },
    "code_folding": [
     1
    ]
   },
   "outputs": [],
   "source": [
    "#Function for overlay\n",
    "def spatial_overlays(df1, df2, how='intersection', reproject=True):\n",
    "    \"\"\"Perform spatial overlay between two polygons.\n",
    "\n",
    "    Currently only supports data GeoDataFrames with polygons.\n",
    "    Implements several methods that are all effectively subsets of\n",
    "    the union.\n",
    "\n",
    "    Parameters\n",
    "    ----------\n",
    "    df1 : GeoDataFrame with MultiPolygon or Polygon geometry column\n",
    "    df2 : GeoDataFrame with MultiPolygon or Polygon geometry column\n",
    "    how : string\n",
    "        Method of spatial overlay: 'intersection', 'union',\n",
    "        'identity', 'symmetric_difference' or 'difference'.\n",
    "    use_sindex : boolean, default True\n",
    "        Use the spatial index to speed up operation if available.\n",
    "\n",
    "    Returns\n",
    "    -------\n",
    "    df : GeoDataFrame\n",
    "        GeoDataFrame with new set of polygons and attributes\n",
    "        resulting from the overlay\n",
    "\n",
    "    \"\"\"\n",
    "    from functools import reduce\n",
    "    df1 = df1.copy()\n",
    "    df2 = df2.copy()\n",
    "    df1['geometry'] = df1.geometry.buffer(0)\n",
    "    df2['geometry'] = df2.geometry.buffer(0)\n",
    "    if df1.crs!=df2.crs and reproject:\n",
    "        print('Data has different projections.')\n",
    "        print('Converted data to projection of first GeoPandas DatFrame')\n",
    "        df2.to_crs(crs=df1.crs, inplace=True)\n",
    "    if how=='intersection':\n",
    "        # Spatial Index to create intersections\n",
    "        spatial_index = df2.sindex\n",
    "        df1['bbox'] = df1.geometry.apply(lambda x: x.bounds)\n",
    "        df1['sidx']=df1.bbox.apply(lambda x:list(spatial_index.intersection(x)))\n",
    "        pairs = df1['sidx'].to_dict()\n",
    "        nei = []\n",
    "        for i,j in pairs.items():\n",
    "            for k in j:\n",
    "                nei.append([i,k])\n",
    "        pairs = gpd.GeoDataFrame(nei, columns=['idx1','idx2'], crs=df1.crs)\n",
    "        pairs = pairs.merge(df1, left_on='idx1', right_index=True)\n",
    "        pairs = pairs.merge(df2, left_on='idx2', right_index=True, suffixes=['_1','_2'])\n",
    "        pairs['Intersection'] = pairs.apply(lambda x: (x['geometry_1'].intersection(x['geometry_2'])).buffer(0), axis=1)\n",
    "        pairs = gpd.GeoDataFrame(pairs, columns=pairs.columns, crs=df1.crs)\n",
    "        cols = pairs.columns.tolist()\n",
    "        cols.remove('geometry_1')\n",
    "        cols.remove('geometry_2')\n",
    "        cols.remove('sidx')\n",
    "        cols.remove('bbox')\n",
    "        cols.remove('Intersection')\n",
    "        dfinter = pairs[cols+['Intersection']].copy()\n",
    "        dfinter.rename(columns={'Intersection':'geometry'}, inplace=True)\n",
    "        dfinter = gpd.GeoDataFrame(dfinter, columns=dfinter.columns, crs=pairs.crs)\n",
    "        dfinter = dfinter.loc[dfinter.geometry.is_empty==False]\n",
    "        dfinter.drop(['idx1','idx2'], inplace=True, axis=1)\n",
    "        return dfinter\n",
    "    elif how=='difference':\n",
    "        spatial_index = df2.sindex\n",
    "        df1['bbox'] = df1.geometry.apply(lambda x: x.bounds)\n",
    "        df1['sidx']=df1.bbox.apply(lambda x:list(spatial_index.intersection(x)))\n",
    "        df1['new_g'] = df1.apply(lambda x: reduce(lambda x, y: x.difference(y).buffer(0), \n",
    "                                 [x.geometry]+list(df2.iloc[x.sidx].geometry)) , axis=1)\n",
    "        df1.geometry = df1.new_g\n",
    "        df1 = df1.loc[df1.geometry.is_empty==False].copy()\n",
    "        df1.drop(['bbox', 'sidx', 'new_g'], axis=1, inplace=True)\n",
    "        return df1\n",
    "    elif how=='symmetric_difference':\n",
    "        df1['idx1'] = df1.index.tolist()\n",
    "        df2['idx2'] = df2.index.tolist()\n",
    "        df1['idx2'] = np.nan\n",
    "        df2['idx1'] = np.nan\n",
    "        dfsym = df1.merge(df2, on=['idx1','idx2'], how='outer', suffixes=['_1','_2'])\n",
    "        dfsym['geometry'] = dfsym.geometry_1\n",
    "        dfsym.loc[dfsym.geometry_2.isnull()==False, 'geometry'] = dfsym.loc[dfsym.geometry_2.isnull()==False, 'geometry_2']\n",
    "        dfsym.drop(['geometry_1', 'geometry_2'], axis=1, inplace=True)\n",
    "        dfsym = gpd.GeoDataFrame(dfsym, columns=dfsym.columns, crs=df1.crs)\n",
    "        spatial_index = dfsym.sindex\n",
    "        dfsym['bbox'] = dfsym.geometry.apply(lambda x: x.bounds)\n",
    "        dfsym['sidx'] = dfsym.bbox.apply(lambda x:list(spatial_index.intersection(x)))\n",
    "        dfsym['idx'] = dfsym.index.values\n",
    "        dfsym.apply(lambda x: x.sidx.remove(x.idx), axis=1)\n",
    "        dfsym['new_g'] = dfsym.apply(lambda x: reduce(lambda x, y: x.difference(y).buffer(0), \n",
    "                         [x.geometry]+list(dfsym.iloc[x.sidx].geometry)) , axis=1)\n",
    "        dfsym.geometry = dfsym.new_g\n",
    "        dfsym = dfsym.loc[dfsym.geometry.is_empty==False].copy()\n",
    "        dfsym.drop(['bbox', 'sidx', 'idx', 'idx1','idx2', 'new_g'], axis=1, inplace=True)\n",
    "        return dfsym\n",
    "    elif how=='union':\n",
    "        dfinter = spatial_overlays(df1, df2, how='intersection')\n",
    "        dfsym = spatial_overlays(df1, df2, how='symmetric_difference')\n",
    "        dfunion = dfinter.append(dfsym)\n",
    "        dfunion.reset_index(inplace=True, drop=True)\n",
    "        return dfunion\n",
    "    elif how=='identity':\n",
    "        dfunion = spatial_overlays(df1, df2, how='union')\n",
    "        cols1 = df1.columns.tolist()\n",
    "        cols2 = df2.columns.tolist()\n",
    "        cols1.remove('geometry')\n",
    "        cols2.remove('geometry')\n",
    "        cols2 = set(cols2).intersection(set(cols1))\n",
    "        cols1 = list(set(cols1).difference(set(cols2)))\n",
    "        cols2 = [col+'_1' for col in cols2]\n",
    "        dfunion = dfunion[(dfunion[cols1+cols2].isnull()==False).values]\n",
    "        return dfunion"
   ]
  },
  {
   "cell_type": "code",
   "execution_count": 3,
   "metadata": {
    "ExecuteTime": {
     "end_time": "2018-01-06T01:50:32.507417Z",
     "start_time": "2018-01-06T01:50:32.497251Z"
    },
    "code_folding": [
     1
    ]
   },
   "outputs": [],
   "source": [
    "#function for download data from egis3\n",
    "def download_egis3(url, zipname, folder, shpname):\n",
    "    #take in download url, downloaded zipfile name, folder name\n",
    "    #containing unzipped shapefile, shapefile name\n",
    "    #return the downloaded geodataframe\n",
    "    os.system(\"curl -O \" + url)\n",
    "    os.system(\"unzip \" + zipname + \" -d \" + folder)\n",
    "    \n",
    "    df = folder\n",
    "    df = gpd.read_file(folder + \"/\" + shpname)\n",
    "\n",
    "    df.crs = from_epsg(2229)\n",
    "    df = df.to_crs(epsg=4326)\n",
    "    return df"
   ]
  },
  {
   "cell_type": "code",
   "execution_count": 4,
   "metadata": {
    "ExecuteTime": {
     "end_time": "2018-01-06T01:50:32.516519Z",
     "start_time": "2018-01-06T01:50:32.509624Z"
    },
    "code_folding": [
     1
    ]
   },
   "outputs": [],
   "source": [
    "#function for reading downloaded census data from Census Bureau\n",
    "def read_census(zipname, folder, shpname):\n",
    "    os.system(\"curl -O \" + url)\n",
    "    os.system(\"unzip \" + zipname + \" -d \" + folder)\n",
    "    \n",
    "    df = folder\n",
    "    df = gpd.read_file(folder + \"/\" + shpname)\n",
    "\n",
    "    return df "
   ]
  },
  {
   "cell_type": "code",
   "execution_count": 5,
   "metadata": {
    "ExecuteTime": {
     "end_time": "2018-01-06T01:50:32.537370Z",
     "start_time": "2018-01-06T01:50:32.519706Z"
    },
    "code_folding": [
     1
    ]
   },
   "outputs": [],
   "source": [
    "#function to check the data quality\n",
    "def checkdf(dfname):\n",
    "    #take in geodataframe\n",
    "    #return number of null values and unique values\n",
    "    tota_poly = dfname.shape[0]\n",
    "    print ('Total polygon number: {}'.format(tota_poly))    \n",
    "    print ('number of null and unique values in each column:')\n",
    "    \n",
    "    for i in dfname.columns[:-1]:\n",
    "        tota_valu = dfname.count()[i]\n",
    "        null_valu = tota_poly - tota_valu\n",
    "        uniq_valu = len(dfname[i].unique())\n",
    "        print ('{}: null {}, unique {}'.format(i, null_valu, uniq_valu))\n",
    "    return dfname.head(3)"
   ]
  },
  {
   "cell_type": "code",
   "execution_count": 6,
   "metadata": {
    "ExecuteTime": {
     "end_time": "2018-01-06T01:50:32.553138Z",
     "start_time": "2018-01-06T01:50:32.539536Z"
    },
    "code_folding": [
     1
    ]
   },
   "outputs": [],
   "source": [
    "#function to drop redundant columns\n",
    "def cleandf(dfname, droplist):\n",
    "    #take in geodataframe and list of column name redundant\n",
    "    #return the clean df\n",
    "    notneedlist = ['OBJECTID', 'Shape_area', 'Shape_len']\n",
    "    \n",
    "    for i in dfname.columns[:-1]:\n",
    "        if i in notneedlist:\n",
    "            dfname.drop([i], axis=1, inplace=True)\n",
    "            \n",
    "    for i in droplist:\n",
    "        dfname.drop([i], axis=1, inplace=True)\n",
    "    \n",
    "    return dfname.head(3)"
   ]
  },
  {
   "cell_type": "markdown",
   "metadata": {},
   "source": [
    "## Datasets used:"
   ]
  },
  {
   "cell_type": "markdown",
   "metadata": {},
   "source": [
    "- [Law Enforcement Reporting Districts](https://egis3.lacounty.gov/dataportal/2010/10/05/law-enforcement-reporting-districts/)\n",
    "- [LAcounty_COMMUNITIES](https://egis3.lacounty.gov/dataportal/2010/10/21/citycommunity-boundaries/)\n",
    "- [Registrar Recorder Precincts](https://egis3.lacounty.gov/dataportal/2012/12/20/2012-precincts-as-of-march-9th/)\n",
    "- [Census Block (2010)](http://egis3.lacounty.gov/dataportal/2016/01/26/census_blocks/)"
   ]
  },
  {
   "cell_type": "code",
   "execution_count": 7,
   "metadata": {
    "ExecuteTime": {
     "end_time": "2018-01-06T01:50:32.559131Z",
     "start_time": "2018-01-06T01:50:32.555216Z"
    }
   },
   "outputs": [],
   "source": [
    "dfname_list = []"
   ]
  },
  {
   "cell_type": "markdown",
   "metadata": {},
   "source": [
    "#### 1. Law Enforcement Reporting Districts"
   ]
  },
  {
   "cell_type": "code",
   "execution_count": 8,
   "metadata": {
    "ExecuteTime": {
     "end_time": "2018-01-06T01:50:40.289911Z",
     "start_time": "2018-01-06T01:50:32.562462Z"
    }
   },
   "outputs": [
    {
     "name": "stdout",
     "output_type": "stream",
     "text": [
      "Total polygon number: 5745\n",
      "number of null and unique values in each column:\n",
      "RD: null 0, unique 3667\n",
      "Name: null 0, unique 519\n",
      "Layer: null 0, unique 3\n"
     ]
    },
    {
     "data": {
      "text/html": [
       "<div>\n",
       "<style scoped>\n",
       "    .dataframe tbody tr th:only-of-type {\n",
       "        vertical-align: middle;\n",
       "    }\n",
       "\n",
       "    .dataframe tbody tr th {\n",
       "        vertical-align: top;\n",
       "    }\n",
       "\n",
       "    .dataframe thead th {\n",
       "        text-align: right;\n",
       "    }\n",
       "</style>\n",
       "<table border=\"1\" class=\"dataframe\">\n",
       "  <thead>\n",
       "    <tr style=\"text-align: right;\">\n",
       "      <th></th>\n",
       "      <th>RD</th>\n",
       "      <th>Name</th>\n",
       "      <th>Layer</th>\n",
       "      <th>geometry</th>\n",
       "    </tr>\n",
       "  </thead>\n",
       "  <tbody>\n",
       "    <tr>\n",
       "      <th>0</th>\n",
       "      <td>0230</td>\n",
       "      <td>Belvedere</td>\n",
       "      <td>Parks Bureau</td>\n",
       "      <td>POLYGON ((-118.1604325432619 34.03712079823092...</td>\n",
       "    </tr>\n",
       "    <tr>\n",
       "      <th>1</th>\n",
       "      <td>0231</td>\n",
       "      <td>Atlantic Avenue</td>\n",
       "      <td>Parks Bureau</td>\n",
       "      <td>POLYGON ((-118.1550797745909 34.0257529106941,...</td>\n",
       "    </tr>\n",
       "    <tr>\n",
       "      <th>2</th>\n",
       "      <td>0232</td>\n",
       "      <td>City Terrace</td>\n",
       "      <td>Parks Bureau</td>\n",
       "      <td>POLYGON ((-118.1784888821586 34.04781649689102...</td>\n",
       "    </tr>\n",
       "  </tbody>\n",
       "</table>\n",
       "</div>"
      ],
      "text/plain": [
       "     RD             Name         Layer  \\\n",
       "0  0230        Belvedere  Parks Bureau   \n",
       "1  0231  Atlantic Avenue  Parks Bureau   \n",
       "2  0232     City Terrace  Parks Bureau   \n",
       "\n",
       "                                            geometry  \n",
       "0  POLYGON ((-118.1604325432619 34.03712079823092...  \n",
       "1  POLYGON ((-118.1550797745909 34.0257529106941,...  \n",
       "2  POLYGON ((-118.1784888821586 34.04781649689102...  "
      ]
     },
     "execution_count": 8,
     "metadata": {},
     "output_type": "execute_result"
    }
   ],
   "source": [
    "#Law Enforcement Reporting Districts\n",
    "url = \"http://egis3.lacounty.gov/dataportal/wp-content/uploads/\" \\\n",
    "      \"ShapefilePackages/LACOUNTY_LAW_ENFORCEMENT_RDs.zip\"\n",
    "law_enforcement = download_egis3(url, 'LACOUNTY_LAW_ENFORCEMENT_RDs.zip', 'law_enforcement', 'LACOUNTY_LAW_ENFORCEMENT_RDs.shp')\n",
    "dfname_list.append('law_enforcement')\n",
    "checkdf(law_enforcement)"
   ]
  },
  {
   "cell_type": "code",
   "execution_count": 9,
   "metadata": {
    "ExecuteTime": {
     "end_time": "2018-01-06T01:50:40.306725Z",
     "start_time": "2018-01-06T01:50:40.292536Z"
    }
   },
   "outputs": [
    {
     "data": {
      "text/html": [
       "<div>\n",
       "<style scoped>\n",
       "    .dataframe tbody tr th:only-of-type {\n",
       "        vertical-align: middle;\n",
       "    }\n",
       "\n",
       "    .dataframe tbody tr th {\n",
       "        vertical-align: top;\n",
       "    }\n",
       "\n",
       "    .dataframe thead th {\n",
       "        text-align: right;\n",
       "    }\n",
       "</style>\n",
       "<table border=\"1\" class=\"dataframe\">\n",
       "  <thead>\n",
       "    <tr style=\"text-align: right;\">\n",
       "      <th></th>\n",
       "      <th>RD</th>\n",
       "      <th>Name</th>\n",
       "      <th>geometry</th>\n",
       "    </tr>\n",
       "  </thead>\n",
       "  <tbody>\n",
       "    <tr>\n",
       "      <th>0</th>\n",
       "      <td>0230</td>\n",
       "      <td>Belvedere</td>\n",
       "      <td>POLYGON ((-118.1604325432619 34.03712079823092...</td>\n",
       "    </tr>\n",
       "    <tr>\n",
       "      <th>1</th>\n",
       "      <td>0231</td>\n",
       "      <td>Atlantic Avenue</td>\n",
       "      <td>POLYGON ((-118.1550797745909 34.0257529106941,...</td>\n",
       "    </tr>\n",
       "    <tr>\n",
       "      <th>2</th>\n",
       "      <td>0232</td>\n",
       "      <td>City Terrace</td>\n",
       "      <td>POLYGON ((-118.1784888821586 34.04781649689102...</td>\n",
       "    </tr>\n",
       "  </tbody>\n",
       "</table>\n",
       "</div>"
      ],
      "text/plain": [
       "     RD             Name                                           geometry\n",
       "0  0230        Belvedere  POLYGON ((-118.1604325432619 34.03712079823092...\n",
       "1  0231  Atlantic Avenue  POLYGON ((-118.1550797745909 34.0257529106941,...\n",
       "2  0232     City Terrace  POLYGON ((-118.1784888821586 34.04781649689102..."
      ]
     },
     "execution_count": 9,
     "metadata": {},
     "output_type": "execute_result"
    }
   ],
   "source": [
    "droplist = ['Layer']\n",
    "cleandf(law_enforcement, droplist)"
   ]
  },
  {
   "cell_type": "code",
   "execution_count": 10,
   "metadata": {
    "ExecuteTime": {
     "end_time": "2018-01-06T01:50:40.312577Z",
     "start_time": "2018-01-06T01:50:40.309363Z"
    }
   },
   "outputs": [],
   "source": [
    "law_enforcement.columns = ['repo_dist_num', 'repo_dist_name',\n",
    "                           'geometry']"
   ]
  },
  {
   "cell_type": "markdown",
   "metadata": {},
   "source": [
    "#### 2. LAcounty_COMMUNITIES"
   ]
  },
  {
   "cell_type": "code",
   "execution_count": 11,
   "metadata": {
    "ExecuteTime": {
     "end_time": "2018-01-06T01:50:47.965530Z",
     "start_time": "2018-01-06T01:50:40.315157Z"
    }
   },
   "outputs": [
    {
     "name": "stdout",
     "output_type": "stream",
     "text": [
      "Total polygon number: 353\n",
      "number of null and unique values in each column:\n",
      "COMMTYPE: null 0, unique 3\n",
      "NAME: null 0, unique 206\n",
      "COLOR: null 0, unique 7\n",
      "PO_NAME: null 0, unique 177\n",
      "STATNAME: null 0, unique 193\n",
      "X_CENTER: null 0, unique 353\n",
      "Y_CENTER: null 0, unique 353\n",
      "ST_NAME: null 0, unique 88\n",
      "LABEL_CITY: null 0, unique 89\n",
      "LABEL_COMM: null 0, unique 143\n",
      "AREA_SQMI: null 0, unique 322\n",
      "Shape_area: null 0, unique 353\n",
      "Shape_len: null 0, unique 353\n"
     ]
    },
    {
     "data": {
      "text/html": [
       "<div>\n",
       "<style scoped>\n",
       "    .dataframe tbody tr th:only-of-type {\n",
       "        vertical-align: middle;\n",
       "    }\n",
       "\n",
       "    .dataframe tbody tr th {\n",
       "        vertical-align: top;\n",
       "    }\n",
       "\n",
       "    .dataframe thead th {\n",
       "        text-align: right;\n",
       "    }\n",
       "</style>\n",
       "<table border=\"1\" class=\"dataframe\">\n",
       "  <thead>\n",
       "    <tr style=\"text-align: right;\">\n",
       "      <th></th>\n",
       "      <th>COMMTYPE</th>\n",
       "      <th>NAME</th>\n",
       "      <th>COLOR</th>\n",
       "      <th>PO_NAME</th>\n",
       "      <th>STATNAME</th>\n",
       "      <th>X_CENTER</th>\n",
       "      <th>Y_CENTER</th>\n",
       "      <th>ST_NAME</th>\n",
       "      <th>LABEL_CITY</th>\n",
       "      <th>LABEL_COMM</th>\n",
       "      <th>AREA_SQMI</th>\n",
       "      <th>Shape_area</th>\n",
       "      <th>Shape_len</th>\n",
       "      <th>geometry</th>\n",
       "    </tr>\n",
       "  </thead>\n",
       "  <tbody>\n",
       "    <tr>\n",
       "      <th>0</th>\n",
       "      <td>Unincorporated</td>\n",
       "      <td>Edwards</td>\n",
       "      <td>Yellow</td>\n",
       "      <td>Edwards</td>\n",
       "      <td>East Antelope Valley</td>\n",
       "      <td>6590507</td>\n",
       "      <td>2111007</td>\n",
       "      <td>Lancaster</td>\n",
       "      <td>Unincorporated</td>\n",
       "      <td>Edwards</td>\n",
       "      <td>93.961</td>\n",
       "      <td>2.619470e+09</td>\n",
       "      <td>337914.985138</td>\n",
       "      <td>POLYGON ((-118.1407088589749 34.81827748625132...</td>\n",
       "    </tr>\n",
       "    <tr>\n",
       "      <th>1</th>\n",
       "      <td>Unincorporated</td>\n",
       "      <td>Gorman</td>\n",
       "      <td>Yellow</td>\n",
       "      <td>West Antelope Valley</td>\n",
       "      <td>West Antelope Valley</td>\n",
       "      <td>6357449</td>\n",
       "      <td>2089258</td>\n",
       "      <td>Santa Clarita Valley</td>\n",
       "      <td>Unincorporated</td>\n",
       "      <td>Gorman</td>\n",
       "      <td>173.752</td>\n",
       "      <td>4.843936e+09</td>\n",
       "      <td>442757.717076</td>\n",
       "      <td>POLYGON ((-118.4662754936974 34.81837563424517...</td>\n",
       "    </tr>\n",
       "    <tr>\n",
       "      <th>2</th>\n",
       "      <td>Unincorporated</td>\n",
       "      <td>Del Sur</td>\n",
       "      <td>Yellow</td>\n",
       "      <td>Lancaster</td>\n",
       "      <td>Quartz Hill</td>\n",
       "      <td>6469031</td>\n",
       "      <td>2091460</td>\n",
       "      <td>Lancaster</td>\n",
       "      <td>Unincorporated</td>\n",
       "      <td>Del Sur</td>\n",
       "      <td>135.398</td>\n",
       "      <td>3.774671e+09</td>\n",
       "      <td>423904.059503</td>\n",
       "      <td>POLYGON ((-118.4662754936974 34.81837563424517...</td>\n",
       "    </tr>\n",
       "  </tbody>\n",
       "</table>\n",
       "</div>"
      ],
      "text/plain": [
       "         COMMTYPE     NAME   COLOR               PO_NAME  \\\n",
       "0  Unincorporated  Edwards  Yellow               Edwards   \n",
       "1  Unincorporated   Gorman  Yellow  West Antelope Valley   \n",
       "2  Unincorporated  Del Sur  Yellow             Lancaster   \n",
       "\n",
       "               STATNAME  X_CENTER  Y_CENTER               ST_NAME  \\\n",
       "0  East Antelope Valley   6590507   2111007             Lancaster   \n",
       "1  West Antelope Valley   6357449   2089258  Santa Clarita Valley   \n",
       "2           Quartz Hill   6469031   2091460             Lancaster   \n",
       "\n",
       "       LABEL_CITY LABEL_COMM  AREA_SQMI    Shape_area      Shape_len  \\\n",
       "0  Unincorporated    Edwards     93.961  2.619470e+09  337914.985138   \n",
       "1  Unincorporated     Gorman    173.752  4.843936e+09  442757.717076   \n",
       "2  Unincorporated    Del Sur    135.398  3.774671e+09  423904.059503   \n",
       "\n",
       "                                            geometry  \n",
       "0  POLYGON ((-118.1407088589749 34.81827748625132...  \n",
       "1  POLYGON ((-118.4662754936974 34.81837563424517...  \n",
       "2  POLYGON ((-118.4662754936974 34.81837563424517...  "
      ]
     },
     "execution_count": 11,
     "metadata": {},
     "output_type": "execute_result"
    }
   ],
   "source": [
    "#LAcounty_COMMUNITIES\n",
    "url = \"http://egis3.lacounty.gov/dataportal/wp-content/uploads/2010/10/\" \\\n",
    "      \"Communities1.zip\"\n",
    "county_communities = download_egis3(url, 'Communities1.zip', 'county_communities', 'Communities.shp')\n",
    "dfname_list.append('county_communities')\n",
    "checkdf(county_communities)"
   ]
  },
  {
   "cell_type": "code",
   "execution_count": 12,
   "metadata": {
    "ExecuteTime": {
     "end_time": "2018-01-06T01:50:48.005851Z",
     "start_time": "2018-01-06T01:50:47.968197Z"
    }
   },
   "outputs": [
    {
     "data": {
      "text/html": [
       "<div>\n",
       "<style scoped>\n",
       "    .dataframe tbody tr th:only-of-type {\n",
       "        vertical-align: middle;\n",
       "    }\n",
       "\n",
       "    .dataframe tbody tr th {\n",
       "        vertical-align: top;\n",
       "    }\n",
       "\n",
       "    .dataframe thead th {\n",
       "        text-align: right;\n",
       "    }\n",
       "</style>\n",
       "<table border=\"1\" class=\"dataframe\">\n",
       "  <thead>\n",
       "    <tr style=\"text-align: right;\">\n",
       "      <th></th>\n",
       "      <th>NAME</th>\n",
       "      <th>geometry</th>\n",
       "    </tr>\n",
       "  </thead>\n",
       "  <tbody>\n",
       "    <tr>\n",
       "      <th>0</th>\n",
       "      <td>Edwards</td>\n",
       "      <td>POLYGON ((-118.1407088589749 34.81827748625132...</td>\n",
       "    </tr>\n",
       "    <tr>\n",
       "      <th>1</th>\n",
       "      <td>Gorman</td>\n",
       "      <td>POLYGON ((-118.4662754936974 34.81837563424517...</td>\n",
       "    </tr>\n",
       "    <tr>\n",
       "      <th>2</th>\n",
       "      <td>Del Sur</td>\n",
       "      <td>POLYGON ((-118.4662754936974 34.81837563424517...</td>\n",
       "    </tr>\n",
       "  </tbody>\n",
       "</table>\n",
       "</div>"
      ],
      "text/plain": [
       "      NAME                                           geometry\n",
       "0  Edwards  POLYGON ((-118.1407088589749 34.81827748625132...\n",
       "1   Gorman  POLYGON ((-118.4662754936974 34.81837563424517...\n",
       "2  Del Sur  POLYGON ((-118.4662754936974 34.81837563424517..."
      ]
     },
     "execution_count": 12,
     "metadata": {},
     "output_type": "execute_result"
    }
   ],
   "source": [
    "droplist = ['COMMTYPE', 'COLOR', 'PO_NAME', 'STATNAME', 'X_CENTER',\n",
    "       'Y_CENTER', 'ST_NAME', 'LABEL_CITY', 'LABEL_COMM', 'AREA_SQMI']\n",
    "cleandf(county_communities, droplist)"
   ]
  },
  {
   "cell_type": "code",
   "execution_count": 13,
   "metadata": {
    "ExecuteTime": {
     "end_time": "2018-01-06T01:50:48.013431Z",
     "start_time": "2018-01-06T01:50:48.008929Z"
    }
   },
   "outputs": [],
   "source": [
    "county_communities.columns = ['coun_comm_name', 'geometry']"
   ]
  },
  {
   "cell_type": "code",
   "execution_count": null,
   "metadata": {
    "ExecuteTime": {
     "start_time": "2018-01-06T01:23:12.002Z"
    }
   },
   "outputs": [],
   "source": [
    "print ('overlay_shp {}'.format(law_enforcement.shape))\n",
    "print ('county_communities {}'.format(county_communities.shape))"
   ]
  },
  {
   "cell_type": "code",
   "execution_count": 14,
   "metadata": {
    "ExecuteTime": {
     "end_time": "2018-01-06T01:51:54.786872Z",
     "start_time": "2018-01-06T01:50:48.016180Z"
    }
   },
   "outputs": [],
   "source": [
    "overlay_shp = spatial_overlays(law_enforcement, county_communities)"
   ]
  },
  {
   "cell_type": "code",
   "execution_count": 15,
   "metadata": {
    "ExecuteTime": {
     "end_time": "2018-01-06T01:51:54.799223Z",
     "start_time": "2018-01-06T01:51:54.792552Z"
    }
   },
   "outputs": [
    {
     "name": "stdout",
     "output_type": "stream",
     "text": [
      "After overlay: (9599, 4)\n"
     ]
    }
   ],
   "source": [
    "print ('After overlay: {}'.format(overlay_shp.shape))\n",
    "#overlay_shp.plot()"
   ]
  },
  {
   "cell_type": "markdown",
   "metadata": {},
   "source": [
    "####  3. Registrar Recorder Precincts"
   ]
  },
  {
   "cell_type": "code",
   "execution_count": 16,
   "metadata": {
    "ExecuteTime": {
     "end_time": "2018-01-06T01:52:48.941547Z",
     "start_time": "2018-01-06T01:51:54.803999Z"
    },
    "scrolled": false
   },
   "outputs": [
    {
     "name": "stdout",
     "output_type": "stream",
     "text": [
      "Total polygon number: 33601\n",
      "number of null and unique values in each column:\n",
      "PRECINCT: null 0, unique 33601\n",
      "CITY_EST: null 0, unique 7992\n",
      "SUBCODE: null 0, unique 26\n",
      "MAP1: null 0, unique 1\n",
      "DIST_RES: null 0, unique 1\n",
      "DIST_CONG: null 0, unique 18\n",
      "DIST_STSEN: null 0, unique 15\n",
      "DIST_STASS: null 0, unique 24\n",
      "DIST_SUP: null 0, unique 5\n",
      "DIST_MCRT: null 0, unique 1\n",
      "DIST_BEQ: null 0, unique 2\n",
      "DST_CITY: null 0, unique 89\n",
      "DIV_CITY: null 0, unique 95\n",
      "DST_RES2: null 0, unique 1\n",
      "DIV_RES2: null 0, unique 1\n",
      "DST_JRC: null 0, unique 15\n",
      "DIV_JRC: null 0, unique 8\n",
      "DST_USD: null 0, unique 50\n",
      "DIV_USD: null 0, unique 8\n",
      "DST_HSD: null 0, unique 8\n",
      "DIV_HSD: null 0, unique 6\n",
      "DST_ESD: null 0, unique 30\n",
      "DIV_ESD: null 0, unique 6\n",
      "DST_HOSP: null 0, unique 3\n",
      "DIV_HOSP: null 0, unique 1\n",
      "DST_PARK: null 0, unique 5\n",
      "DIV_PARK: null 0, unique 3\n",
      "DST_WA: null 0, unique 2\n",
      "DIV_WA: null 0, unique 1\n",
      "DST_MWD: null 0, unique 9\n",
      "DIV_MWD: null 0, unique 8\n",
      "DST_WR: null 0, unique 2\n",
      "DIV_WR: null 0, unique 6\n",
      "DST_WAG: null 0, unique 3\n",
      "DIV_WAG: null 0, unique 8\n",
      "DST_CW: null 0, unique 14\n",
      "DIV_CW: null 0, unique 6\n",
      "DST_IRR: null 0, unique 7\n",
      "DIV_IRR: null 0, unique 6\n",
      "DST_CS: null 0, unique 1\n",
      "DIV_CS: null 0, unique 1\n",
      "DST_LIB: null 0, unique 5\n",
      "DIV_LIB: null 0, unique 1\n",
      "DST_RC: null 0, unique 4\n",
      "DIV_RC: null 0, unique 1\n",
      "DST_CAW: null 0, unique 2\n",
      "DIV_CAW: null 0, unique 6\n",
      "DST_CEM: null 0, unique 1\n",
      "DIV_CEM: null 0, unique 1\n",
      "DST_MOS: null 0, unique 6\n",
      "DIV_MOS: null 0, unique 1\n",
      "DST_SAN: null 0, unique 2\n",
      "DIV_SAN: null 0, unique 1\n",
      "DST_TRN: null 0, unique 1\n",
      "DIV_TRN: null 0, unique 1\n",
      "DST_RES3: null 0, unique 1\n",
      "DIV_RES3: null 0, unique 1\n",
      "DST_FIR: null 0, unique 2\n",
      "DIV_FIR: null 0, unique 1\n",
      "DST_FLD: null 0, unique 2\n",
      "DIV_FLD: null 0, unique 1\n",
      "DST_GARB: null 0, unique 8\n",
      "DIV_GARB: null 0, unique 1\n",
      "DIST_OLDC: null 0, unique 18\n",
      "DIST_OLDS: null 0, unique 14\n",
      "DIST_OLDA: null 0, unique 26\n",
      "DST_CL: null 0, unique 1\n",
      "DIV_CL: null 0, unique 1\n",
      "DST_SM: null 0, unique 1\n",
      "DIV_SM: null 0, unique 1\n",
      "DST_RD: null 0, unique 1\n",
      "DIV_RD: null 0, unique 1\n",
      "DST_MISC1: null 0, unique 7\n",
      "DIV_MISC1: null 0, unique 1\n",
      "DST_MISC2: null 0, unique 1\n",
      "DIV_MISC2: null 0, unique 1\n",
      "DST_MISC3: null 0, unique 4\n",
      "DIV_MISC3: null 0, unique 1\n",
      "DST_MISC4: null 0, unique 1\n",
      "DIV_MISC4: null 0, unique 1\n",
      "DST_MISC5: null 0, unique 5\n",
      "DIV_MISC5: null 0, unique 1\n",
      "DST_MISC6: null 0, unique 3\n",
      "DIV_MISC6: null 0, unique 1\n",
      "DST_ANX1: null 0, unique 1\n",
      "DIV_ANX1: null 0, unique 1\n",
      "DST_ANX2: null 0, unique 1\n",
      "DIV_ANX2: null 0, unique 1\n",
      "DST_ANX3: null 0, unique 1\n",
      "DIV_ANX3: null 0, unique 1\n",
      "DST_ANX4: null 0, unique 1\n",
      "DIV_ANX4: null 0, unique 1\n",
      "DST_ANX5: null 0, unique 1\n",
      "DIV_ANX5: null 0, unique 1\n",
      "CT_YEAR1: null 0, unique 1\n",
      "CT_YEAR2: null 0, unique 1\n",
      "CTRACT1: null 0, unique 2343\n",
      "CTRACT2: null 0, unique 2054\n",
      "COMM_CODE: null 0, unique 170\n",
      "COMM_NAME: null 0, unique 170\n",
      "AREA_CODE: null 0, unique 36\n",
      "AREA_NAME: null 0, unique 36\n",
      "PRC_NAME: null 0, unique 170\n",
      "CITY: null 0, unique 170\n",
      "ESTAB: null 0, unique 3100\n",
      "Shape_STAr: null 0, unique 33601\n",
      "Shape_STLe: null 0, unique 33601\n"
     ]
    },
    {
     "data": {
      "text/html": [
       "<div>\n",
       "<style scoped>\n",
       "    .dataframe tbody tr th:only-of-type {\n",
       "        vertical-align: middle;\n",
       "    }\n",
       "\n",
       "    .dataframe tbody tr th {\n",
       "        vertical-align: top;\n",
       "    }\n",
       "\n",
       "    .dataframe thead th {\n",
       "        text-align: right;\n",
       "    }\n",
       "</style>\n",
       "<table border=\"1\" class=\"dataframe\">\n",
       "  <thead>\n",
       "    <tr style=\"text-align: right;\">\n",
       "      <th></th>\n",
       "      <th>PRECINCT</th>\n",
       "      <th>CITY_EST</th>\n",
       "      <th>SUBCODE</th>\n",
       "      <th>MAP1</th>\n",
       "      <th>DIST_RES</th>\n",
       "      <th>DIST_CONG</th>\n",
       "      <th>DIST_STSEN</th>\n",
       "      <th>DIST_STASS</th>\n",
       "      <th>DIST_SUP</th>\n",
       "      <th>DIST_MCRT</th>\n",
       "      <th>...</th>\n",
       "      <th>COMM_CODE</th>\n",
       "      <th>COMM_NAME</th>\n",
       "      <th>AREA_CODE</th>\n",
       "      <th>AREA_NAME</th>\n",
       "      <th>PRC_NAME</th>\n",
       "      <th>CITY</th>\n",
       "      <th>ESTAB</th>\n",
       "      <th>Shape_STAr</th>\n",
       "      <th>Shape_STLe</th>\n",
       "      <th>geometry</th>\n",
       "    </tr>\n",
       "  </thead>\n",
       "  <tbody>\n",
       "    <tr>\n",
       "      <th>0</th>\n",
       "      <td>9001742B</td>\n",
       "      <td>9001742</td>\n",
       "      <td>B</td>\n",
       "      <td>0.0</td>\n",
       "      <td></td>\n",
       "      <td>34.0</td>\n",
       "      <td>24.0</td>\n",
       "      <td>53.0</td>\n",
       "      <td>1.0</td>\n",
       "      <td></td>\n",
       "      <td>...</td>\n",
       "      <td>900.0</td>\n",
       "      <td>LOS ANGELES</td>\n",
       "      <td>809.0</td>\n",
       "      <td>CENTRAL AREA</td>\n",
       "      <td>LOS ANGELES</td>\n",
       "      <td>900</td>\n",
       "      <td>1742</td>\n",
       "      <td>453984.737305</td>\n",
       "      <td>2713.125981</td>\n",
       "      <td>POLYGON ((-118.2776159595675 34.05073225085379...</td>\n",
       "    </tr>\n",
       "    <tr>\n",
       "      <th>1</th>\n",
       "      <td>9001742C</td>\n",
       "      <td>9001742</td>\n",
       "      <td>C</td>\n",
       "      <td>0.0</td>\n",
       "      <td></td>\n",
       "      <td>34.0</td>\n",
       "      <td>24.0</td>\n",
       "      <td>53.0</td>\n",
       "      <td>1.0</td>\n",
       "      <td></td>\n",
       "      <td>...</td>\n",
       "      <td>900.0</td>\n",
       "      <td>LOS ANGELES</td>\n",
       "      <td>809.0</td>\n",
       "      <td>CENTRAL AREA</td>\n",
       "      <td>LOS ANGELES</td>\n",
       "      <td>900</td>\n",
       "      <td>1742</td>\n",
       "      <td>766784.173828</td>\n",
       "      <td>3820.588904</td>\n",
       "      <td>POLYGON ((-118.2828304354189 34.04931735342003...</td>\n",
       "    </tr>\n",
       "    <tr>\n",
       "      <th>2</th>\n",
       "      <td>9001742E</td>\n",
       "      <td>9001742</td>\n",
       "      <td>E</td>\n",
       "      <td>0.0</td>\n",
       "      <td></td>\n",
       "      <td>34.0</td>\n",
       "      <td>24.0</td>\n",
       "      <td>53.0</td>\n",
       "      <td>1.0</td>\n",
       "      <td></td>\n",
       "      <td>...</td>\n",
       "      <td>900.0</td>\n",
       "      <td>LOS ANGELES</td>\n",
       "      <td>809.0</td>\n",
       "      <td>CENTRAL AREA</td>\n",
       "      <td>LOS ANGELES</td>\n",
       "      <td>900</td>\n",
       "      <td>1742</td>\n",
       "      <td>566946.030273</td>\n",
       "      <td>3362.362112</td>\n",
       "      <td>POLYGON ((-118.2835241269783 34.05237068362484...</td>\n",
       "    </tr>\n",
       "  </tbody>\n",
       "</table>\n",
       "<p>3 rows × 108 columns</p>\n",
       "</div>"
      ],
      "text/plain": [
       "   PRECINCT CITY_EST SUBCODE  MAP1 DIST_RES  DIST_CONG  DIST_STSEN  \\\n",
       "0  9001742B  9001742       B   0.0                34.0        24.0   \n",
       "1  9001742C  9001742       C   0.0                34.0        24.0   \n",
       "2  9001742E  9001742       E   0.0                34.0        24.0   \n",
       "\n",
       "   DIST_STASS  DIST_SUP DIST_MCRT  \\\n",
       "0        53.0       1.0             \n",
       "1        53.0       1.0             \n",
       "2        53.0       1.0             \n",
       "\n",
       "                         ...                          COMM_CODE    COMM_NAME  \\\n",
       "0                        ...                              900.0  LOS ANGELES   \n",
       "1                        ...                              900.0  LOS ANGELES   \n",
       "2                        ...                              900.0  LOS ANGELES   \n",
       "\n",
       "   AREA_CODE     AREA_NAME     PRC_NAME  CITY  ESTAB     Shape_STAr  \\\n",
       "0      809.0  CENTRAL AREA  LOS ANGELES   900   1742  453984.737305   \n",
       "1      809.0  CENTRAL AREA  LOS ANGELES   900   1742  766784.173828   \n",
       "2      809.0  CENTRAL AREA  LOS ANGELES   900   1742  566946.030273   \n",
       "\n",
       "    Shape_STLe                                           geometry  \n",
       "0  2713.125981  POLYGON ((-118.2776159595675 34.05073225085379...  \n",
       "1  3820.588904  POLYGON ((-118.2828304354189 34.04931735342003...  \n",
       "2  3362.362112  POLYGON ((-118.2835241269783 34.05237068362484...  \n",
       "\n",
       "[3 rows x 108 columns]"
      ]
     },
     "execution_count": 16,
     "metadata": {},
     "output_type": "execute_result"
    }
   ],
   "source": [
    "#Registrar Recorder Precincts\n",
    "url = \"http://egis3.lacounty.gov/dataportal/wp-content/uploads/\" \\\n",
    "      \"ShapefilePackages/RRCC_PRECINCTS.zip\"\n",
    "election_precinct = download_egis3(url, 'RRCC_PRECINCTS.zip', 'election_precinct', 'RRCC_PRECINCTS.shp')\n",
    "dfname_list.append('election_precinct')\n",
    "checkdf(election_precinct)"
   ]
  },
  {
   "cell_type": "code",
   "execution_count": 17,
   "metadata": {
    "ExecuteTime": {
     "end_time": "2018-01-06T01:52:52.755232Z",
     "start_time": "2018-01-06T01:52:48.945439Z"
    }
   },
   "outputs": [
    {
     "data": {
      "text/html": [
       "<div>\n",
       "<style scoped>\n",
       "    .dataframe tbody tr th:only-of-type {\n",
       "        vertical-align: middle;\n",
       "    }\n",
       "\n",
       "    .dataframe tbody tr th {\n",
       "        vertical-align: top;\n",
       "    }\n",
       "\n",
       "    .dataframe thead th {\n",
       "        text-align: right;\n",
       "    }\n",
       "</style>\n",
       "<table border=\"1\" class=\"dataframe\">\n",
       "  <thead>\n",
       "    <tr style=\"text-align: right;\">\n",
       "      <th></th>\n",
       "      <th>PRECINCT</th>\n",
       "      <th>DIST_CONG</th>\n",
       "      <th>DIST_STSEN</th>\n",
       "      <th>DIST_STASS</th>\n",
       "      <th>COMM_CODE</th>\n",
       "      <th>COMM_NAME</th>\n",
       "      <th>AREA_CODE</th>\n",
       "      <th>AREA_NAME</th>\n",
       "      <th>PRC_NAME</th>\n",
       "      <th>geometry</th>\n",
       "    </tr>\n",
       "  </thead>\n",
       "  <tbody>\n",
       "    <tr>\n",
       "      <th>0</th>\n",
       "      <td>9001742B</td>\n",
       "      <td>34.0</td>\n",
       "      <td>24.0</td>\n",
       "      <td>53.0</td>\n",
       "      <td>900.0</td>\n",
       "      <td>LOS ANGELES</td>\n",
       "      <td>809.0</td>\n",
       "      <td>CENTRAL AREA</td>\n",
       "      <td>LOS ANGELES</td>\n",
       "      <td>POLYGON ((-118.2776159595675 34.05073225085379...</td>\n",
       "    </tr>\n",
       "    <tr>\n",
       "      <th>1</th>\n",
       "      <td>9001742C</td>\n",
       "      <td>34.0</td>\n",
       "      <td>24.0</td>\n",
       "      <td>53.0</td>\n",
       "      <td>900.0</td>\n",
       "      <td>LOS ANGELES</td>\n",
       "      <td>809.0</td>\n",
       "      <td>CENTRAL AREA</td>\n",
       "      <td>LOS ANGELES</td>\n",
       "      <td>POLYGON ((-118.2828304354189 34.04931735342003...</td>\n",
       "    </tr>\n",
       "    <tr>\n",
       "      <th>2</th>\n",
       "      <td>9001742E</td>\n",
       "      <td>34.0</td>\n",
       "      <td>24.0</td>\n",
       "      <td>53.0</td>\n",
       "      <td>900.0</td>\n",
       "      <td>LOS ANGELES</td>\n",
       "      <td>809.0</td>\n",
       "      <td>CENTRAL AREA</td>\n",
       "      <td>LOS ANGELES</td>\n",
       "      <td>POLYGON ((-118.2835241269783 34.05237068362484...</td>\n",
       "    </tr>\n",
       "  </tbody>\n",
       "</table>\n",
       "</div>"
      ],
      "text/plain": [
       "   PRECINCT  DIST_CONG  DIST_STSEN  DIST_STASS  COMM_CODE    COMM_NAME  \\\n",
       "0  9001742B       34.0        24.0        53.0      900.0  LOS ANGELES   \n",
       "1  9001742C       34.0        24.0        53.0      900.0  LOS ANGELES   \n",
       "2  9001742E       34.0        24.0        53.0      900.0  LOS ANGELES   \n",
       "\n",
       "   AREA_CODE     AREA_NAME     PRC_NAME  \\\n",
       "0      809.0  CENTRAL AREA  LOS ANGELES   \n",
       "1      809.0  CENTRAL AREA  LOS ANGELES   \n",
       "2      809.0  CENTRAL AREA  LOS ANGELES   \n",
       "\n",
       "                                            geometry  \n",
       "0  POLYGON ((-118.2776159595675 34.05073225085379...  \n",
       "1  POLYGON ((-118.2828304354189 34.04931735342003...  \n",
       "2  POLYGON ((-118.2835241269783 34.05237068362484...  "
      ]
     },
     "execution_count": 17,
     "metadata": {},
     "output_type": "execute_result"
    }
   ],
   "source": [
    "droplist = [ 'CITY_EST', 'SUBCODE', 'MAP1',\n",
    " 'DIST_RES', 'DIST_MCRT', 'DIST_BEQ',\n",
    " 'DST_CITY', 'DIV_CITY', 'DST_RES2', 'DIV_RES2',\n",
    " 'DST_JRC', 'DIV_JRC', 'DST_USD', 'DIV_USD',\n",
    " 'DST_HSD', 'DIV_HSD', 'DST_ESD', 'DIV_ESD',\n",
    " 'DST_HOSP', 'DIV_HOSP', 'DST_PARK', 'DIV_PARK',\n",
    " 'DST_WA', 'DIV_WA', 'DST_MWD', 'DIV_MWD',\n",
    " 'DST_WR', 'DIV_WR', 'DST_WAG', 'DIV_WAG',\n",
    " 'DST_CW', 'DIV_CW', 'DST_IRR', 'DIV_IRR',\n",
    " 'DST_CS', 'DIV_CS', 'DST_LIB', 'DIV_LIB',\n",
    " 'DST_RC', 'DIV_RC', 'DST_CAW', 'DIV_CAW',\n",
    " 'DST_CEM', 'DIV_CEM', 'DST_MOS', 'DIV_MOS',\n",
    " 'DST_SAN', 'DIV_SAN', 'DST_TRN', 'DIV_TRN',\n",
    " 'DST_RES3', 'DIV_RES3', 'DST_FIR', 'DIV_FIR',\n",
    " 'DST_FLD', 'DIV_FLD', 'DST_GARB', 'DIV_GARB',\n",
    " 'DIST_OLDC', 'DIST_OLDS', 'DIST_OLDA', 'DST_CL', 'DIV_CL',\n",
    " 'DST_SM', 'DIV_SM', 'DST_RD', 'DIV_RD',\n",
    " 'DST_MISC1', 'DIV_MISC1', 'DST_MISC2', 'DIV_MISC2',\n",
    " 'DST_MISC3', 'DIV_MISC3', 'DST_MISC4', 'DIV_MISC4',\n",
    " 'DST_MISC5', 'DIV_MISC5', 'DST_MISC6', 'DIV_MISC6',\n",
    " 'DST_ANX1', 'DIV_ANX1', 'DST_ANX2', 'DIV_ANX2',\n",
    " 'DST_ANX3', 'DIV_ANX3', 'DST_ANX4', 'DIV_ANX4',\n",
    " 'DST_ANX5', 'DIV_ANX5', 'CT_YEAR1', 'CT_YEAR2', 'CTRACT1',\n",
    " 'CTRACT2', 'ESTAB', 'Shape_STAr', 'Shape_STLe',\n",
    "           'DIST_SUP', 'CITY']\n",
    "cleandf(election_precinct, droplist)"
   ]
  },
  {
   "cell_type": "code",
   "execution_count": 18,
   "metadata": {
    "ExecuteTime": {
     "end_time": "2018-01-06T01:52:52.774498Z",
     "start_time": "2018-01-06T01:52:52.767140Z"
    }
   },
   "outputs": [],
   "source": [
    "election_precinct.columns = ['precinct_num', 'congress_dist', 'senate_dist', \n",
    "                    'assembly_dist', 'community_num',\n",
    "                    'community_name', 'area_num', 'area_name', \n",
    "                    'precinct_name', 'geometry']"
   ]
  },
  {
   "cell_type": "code",
   "execution_count": 19,
   "metadata": {
    "ExecuteTime": {
     "end_time": "2018-01-06T01:52:52.789876Z",
     "start_time": "2018-01-06T01:52:52.779718Z"
    }
   },
   "outputs": [
    {
     "name": "stdout",
     "output_type": "stream",
     "text": [
      "overlay_shp (9599, 4)\n",
      "election_precinct (33601, 10)\n"
     ]
    }
   ],
   "source": [
    "print ('overlay_shp {}'.format(overlay_shp.shape))\n",
    "print ('election_precinct {}'.format(election_precinct.shape))"
   ]
  },
  {
   "cell_type": "code",
   "execution_count": 20,
   "metadata": {
    "ExecuteTime": {
     "end_time": "2018-01-06T01:57:41.532675Z",
     "start_time": "2018-01-06T01:52:52.796195Z"
    }
   },
   "outputs": [],
   "source": [
    "overlay_shp = spatial_overlays(overlay_shp, election_precinct)"
   ]
  },
  {
   "cell_type": "code",
   "execution_count": 21,
   "metadata": {
    "ExecuteTime": {
     "end_time": "2018-01-06T01:57:41.539766Z",
     "start_time": "2018-01-06T01:57:41.534562Z"
    }
   },
   "outputs": [
    {
     "name": "stdout",
     "output_type": "stream",
     "text": [
      "After overlay: (98406, 13)\n"
     ]
    }
   ],
   "source": [
    "print ('After overlay: {}'.format(overlay_shp.shape))\n",
    "#overlay_shp.plot()"
   ]
  },
  {
   "cell_type": "markdown",
   "metadata": {},
   "source": [
    "#### 4. Census Blocks"
   ]
  },
  {
   "cell_type": "code",
   "execution_count": 22,
   "metadata": {
    "ExecuteTime": {
     "end_time": "2018-01-06T01:59:09.582788Z",
     "start_time": "2018-01-06T01:57:41.542346Z"
    }
   },
   "outputs": [
    {
     "name": "stdout",
     "output_type": "stream",
     "text": [
      "Total polygon number: 109279\n",
      "number of null and unique values in each column:\n",
      "CT10: null 0, unique 2344\n",
      "BG10: null 0, unique 6422\n",
      "CB10: null 0, unique 1975\n",
      "CTCB10: null 0, unique 109279\n",
      "BG10FIP10: null 0, unique 6972\n",
      "CEN_FIP13: null 0, unique 142\n",
      "LA_FIP10: null 0, unique 89\n",
      "CITY: null 0, unique 89\n",
      "COMM: null 0, unique 232\n",
      "CITYCOM: null 0, unique 257\n",
      "ZCTA10: null 0, unique 301\n",
      "PUMA10: null 0, unique 70\n",
      "HD_2012: null 0, unique 26\n",
      "HD_NAME: null 0, unique 26\n",
      "SPA_2012: null 0, unique 8\n",
      "SPA_NAME: null 0, unique 8\n",
      "SUP_DIST: null 0, unique 5\n",
      "SUP_LABEL: null 0, unique 5\n",
      "HOUSING10: null 0, unique 639\n",
      "POP_2010: null 0, unique 1270\n",
      "CT12: null 0, unique 2345\n",
      "BG12: null 0, unique 6423\n",
      "Shape_STAr: null 0, unique 109259\n",
      "Shape_STLe: null 0, unique 109279\n"
     ]
    },
    {
     "data": {
      "text/html": [
       "<div>\n",
       "<style scoped>\n",
       "    .dataframe tbody tr th:only-of-type {\n",
       "        vertical-align: middle;\n",
       "    }\n",
       "\n",
       "    .dataframe tbody tr th {\n",
       "        vertical-align: top;\n",
       "    }\n",
       "\n",
       "    .dataframe thead th {\n",
       "        text-align: right;\n",
       "    }\n",
       "</style>\n",
       "<table border=\"1\" class=\"dataframe\">\n",
       "  <thead>\n",
       "    <tr style=\"text-align: right;\">\n",
       "      <th></th>\n",
       "      <th>CT10</th>\n",
       "      <th>BG10</th>\n",
       "      <th>CB10</th>\n",
       "      <th>CTCB10</th>\n",
       "      <th>BG10FIP10</th>\n",
       "      <th>CEN_FIP13</th>\n",
       "      <th>LA_FIP10</th>\n",
       "      <th>CITY</th>\n",
       "      <th>COMM</th>\n",
       "      <th>CITYCOM</th>\n",
       "      <th>...</th>\n",
       "      <th>SPA_NAME</th>\n",
       "      <th>SUP_DIST</th>\n",
       "      <th>SUP_LABEL</th>\n",
       "      <th>HOUSING10</th>\n",
       "      <th>POP_2010</th>\n",
       "      <th>CT12</th>\n",
       "      <th>BG12</th>\n",
       "      <th>Shape_STAr</th>\n",
       "      <th>Shape_STLe</th>\n",
       "      <th>geometry</th>\n",
       "    </tr>\n",
       "  </thead>\n",
       "  <tbody>\n",
       "    <tr>\n",
       "      <th>0</th>\n",
       "      <td>650001</td>\n",
       "      <td>6500012</td>\n",
       "      <td>2004</td>\n",
       "      <td>6500012004</td>\n",
       "      <td>650001280000</td>\n",
       "      <td>80000</td>\n",
       "      <td>80000</td>\n",
       "      <td>Torrance</td>\n",
       "      <td>Torrance</td>\n",
       "      <td>City of Torrance</td>\n",
       "      <td>...</td>\n",
       "      <td>South Bay</td>\n",
       "      <td>4</td>\n",
       "      <td>District 4</td>\n",
       "      <td>13</td>\n",
       "      <td>39</td>\n",
       "      <td>650001</td>\n",
       "      <td>6500012</td>\n",
       "      <td>122799.112305</td>\n",
       "      <td>1811.062718</td>\n",
       "      <td>POLYGON ((-118.3196050007964 33.88240599913712...</td>\n",
       "    </tr>\n",
       "    <tr>\n",
       "      <th>1</th>\n",
       "      <td>650902</td>\n",
       "      <td>6509021</td>\n",
       "      <td>1045</td>\n",
       "      <td>6509021045</td>\n",
       "      <td>650902180000</td>\n",
       "      <td>80000</td>\n",
       "      <td>80000</td>\n",
       "      <td>Torrance</td>\n",
       "      <td>Torrance</td>\n",
       "      <td>City of Torrance</td>\n",
       "      <td>...</td>\n",
       "      <td>South Bay</td>\n",
       "      <td>4</td>\n",
       "      <td>District 4</td>\n",
       "      <td>0</td>\n",
       "      <td>0</td>\n",
       "      <td>650902</td>\n",
       "      <td>6509021</td>\n",
       "      <td>19197.034180</td>\n",
       "      <td>845.026552</td>\n",
       "      <td>POLYGON ((-118.3154650016074 33.82442799911141...</td>\n",
       "    </tr>\n",
       "    <tr>\n",
       "      <th>2</th>\n",
       "      <td>670407</td>\n",
       "      <td>6704071</td>\n",
       "      <td>1015</td>\n",
       "      <td>6704071015</td>\n",
       "      <td>670407159514</td>\n",
       "      <td>59514</td>\n",
       "      <td>59514</td>\n",
       "      <td>Rancho Palos Verdes</td>\n",
       "      <td>Rancho Palos Verdes</td>\n",
       "      <td>City of Rancho Palos Verdes</td>\n",
       "      <td>...</td>\n",
       "      <td>South Bay</td>\n",
       "      <td>4</td>\n",
       "      <td>District 4</td>\n",
       "      <td>1</td>\n",
       "      <td>5</td>\n",
       "      <td>670407</td>\n",
       "      <td>6704071</td>\n",
       "      <td>4159.323242</td>\n",
       "      <td>317.758051</td>\n",
       "      <td>POLYGON ((-118.3899240008091 33.77733799949572...</td>\n",
       "    </tr>\n",
       "  </tbody>\n",
       "</table>\n",
       "<p>3 rows × 25 columns</p>\n",
       "</div>"
      ],
      "text/plain": [
       "     CT10     BG10  CB10      CTCB10     BG10FIP10 CEN_FIP13 LA_FIP10  \\\n",
       "0  650001  6500012  2004  6500012004  650001280000     80000    80000   \n",
       "1  650902  6509021  1045  6509021045  650902180000     80000    80000   \n",
       "2  670407  6704071  1015  6704071015  670407159514     59514    59514   \n",
       "\n",
       "                  CITY                 COMM                      CITYCOM  \\\n",
       "0             Torrance             Torrance             City of Torrance   \n",
       "1             Torrance             Torrance             City of Torrance   \n",
       "2  Rancho Palos Verdes  Rancho Palos Verdes  City of Rancho Palos Verdes   \n",
       "\n",
       "                         ...                           SPA_NAME SUP_DIST  \\\n",
       "0                        ...                          South Bay        4   \n",
       "1                        ...                          South Bay        4   \n",
       "2                        ...                          South Bay        4   \n",
       "\n",
       "    SUP_LABEL HOUSING10  POP_2010    CT12     BG12     Shape_STAr  \\\n",
       "0  District 4        13        39  650001  6500012  122799.112305   \n",
       "1  District 4         0         0  650902  6509021   19197.034180   \n",
       "2  District 4         1         5  670407  6704071    4159.323242   \n",
       "\n",
       "    Shape_STLe                                           geometry  \n",
       "0  1811.062718  POLYGON ((-118.3196050007964 33.88240599913712...  \n",
       "1   845.026552  POLYGON ((-118.3154650016074 33.82442799911141...  \n",
       "2   317.758051  POLYGON ((-118.3899240008091 33.77733799949572...  \n",
       "\n",
       "[3 rows x 25 columns]"
      ]
     },
     "execution_count": 22,
     "metadata": {},
     "output_type": "execute_result"
    }
   ],
   "source": [
    "#Census Blocks\n",
    "url = \"http://egis3.lacounty.gov/dataportal/wp-content/uploads/\" \\\n",
    "      \"ShapefilePackages/CENSUS_BLOCKS_2010.zip\"\n",
    "census_blocks = download_egis3(url, 'CENSUS_BLOCKS_2010.zip', 'census_blocks', 'CENSUS_BLOCKS_2010.shp')\n",
    "dfname_list.append('census_blocks')\n",
    "checkdf(census_blocks)"
   ]
  },
  {
   "cell_type": "code",
   "execution_count": 23,
   "metadata": {
    "ExecuteTime": {
     "end_time": "2018-01-06T01:59:10.540210Z",
     "start_time": "2018-01-06T01:59:09.585109Z"
    }
   },
   "outputs": [
    {
     "data": {
      "text/html": [
       "<div>\n",
       "<style scoped>\n",
       "    .dataframe tbody tr th:only-of-type {\n",
       "        vertical-align: middle;\n",
       "    }\n",
       "\n",
       "    .dataframe tbody tr th {\n",
       "        vertical-align: top;\n",
       "    }\n",
       "\n",
       "    .dataframe thead th {\n",
       "        text-align: right;\n",
       "    }\n",
       "</style>\n",
       "<table border=\"1\" class=\"dataframe\">\n",
       "  <thead>\n",
       "    <tr style=\"text-align: right;\">\n",
       "      <th></th>\n",
       "      <th>CT10</th>\n",
       "      <th>BG10</th>\n",
       "      <th>CB10</th>\n",
       "      <th>LA_FIP10</th>\n",
       "      <th>CITY</th>\n",
       "      <th>ZCTA10</th>\n",
       "      <th>PUMA10</th>\n",
       "      <th>HD_2012</th>\n",
       "      <th>HD_NAME</th>\n",
       "      <th>SUP_DIST</th>\n",
       "      <th>geometry</th>\n",
       "    </tr>\n",
       "  </thead>\n",
       "  <tbody>\n",
       "    <tr>\n",
       "      <th>0</th>\n",
       "      <td>650001</td>\n",
       "      <td>6500012</td>\n",
       "      <td>2004</td>\n",
       "      <td>80000</td>\n",
       "      <td>Torrance</td>\n",
       "      <td>90504</td>\n",
       "      <td>03761</td>\n",
       "      <td>79</td>\n",
       "      <td>Torrance</td>\n",
       "      <td>4</td>\n",
       "      <td>POLYGON ((-118.3196050007964 33.88240599913712...</td>\n",
       "    </tr>\n",
       "    <tr>\n",
       "      <th>1</th>\n",
       "      <td>650902</td>\n",
       "      <td>6509021</td>\n",
       "      <td>1045</td>\n",
       "      <td>80000</td>\n",
       "      <td>Torrance</td>\n",
       "      <td>90501</td>\n",
       "      <td>03761</td>\n",
       "      <td>79</td>\n",
       "      <td>Torrance</td>\n",
       "      <td>4</td>\n",
       "      <td>POLYGON ((-118.3154650016074 33.82442799911141...</td>\n",
       "    </tr>\n",
       "    <tr>\n",
       "      <th>2</th>\n",
       "      <td>670407</td>\n",
       "      <td>6704071</td>\n",
       "      <td>1015</td>\n",
       "      <td>59514</td>\n",
       "      <td>Rancho Palos Verdes</td>\n",
       "      <td>90275</td>\n",
       "      <td>03768</td>\n",
       "      <td>31</td>\n",
       "      <td>Harbor</td>\n",
       "      <td>4</td>\n",
       "      <td>POLYGON ((-118.3899240008091 33.77733799949572...</td>\n",
       "    </tr>\n",
       "  </tbody>\n",
       "</table>\n",
       "</div>"
      ],
      "text/plain": [
       "     CT10     BG10  CB10 LA_FIP10                 CITY ZCTA10 PUMA10  HD_2012  \\\n",
       "0  650001  6500012  2004    80000             Torrance  90504  03761       79   \n",
       "1  650902  6509021  1045    80000             Torrance  90501  03761       79   \n",
       "2  670407  6704071  1015    59514  Rancho Palos Verdes  90275  03768       31   \n",
       "\n",
       "    HD_NAME SUP_DIST                                           geometry  \n",
       "0  Torrance        4  POLYGON ((-118.3196050007964 33.88240599913712...  \n",
       "1  Torrance        4  POLYGON ((-118.3154650016074 33.82442799911141...  \n",
       "2    Harbor        4  POLYGON ((-118.3899240008091 33.77733799949572...  "
      ]
     },
     "execution_count": 23,
     "metadata": {},
     "output_type": "execute_result"
    }
   ],
   "source": [
    "droplist = ['POP_2010', 'CT12', 'BG12', 'Shape_STAr', 'Shape_STLe',\n",
    "           'HOUSING10', 'SUP_LABEL', 'SPA_NAME', 'CEN_FIP13', \n",
    "            'SPA_2012', 'CTCB10', 'BG10FIP10', 'COMM', 'CITYCOM']\n",
    "cleandf(census_blocks, droplist)"
   ]
  },
  {
   "cell_type": "code",
   "execution_count": 24,
   "metadata": {
    "ExecuteTime": {
     "end_time": "2018-01-06T01:59:10.546808Z",
     "start_time": "2018-01-06T01:59:10.542635Z"
    }
   },
   "outputs": [],
   "source": [
    "census_blocks.columns = ['census_tract', 'block_group', \n",
    "                         'census_block', 'FIP', 'city',\n",
    "                         'zip_code', 'PUMA', \n",
    "                         'health_dist_num', 'health_districts_name',\n",
    "                         'sup_dist', 'geometry']"
   ]
  },
  {
   "cell_type": "code",
   "execution_count": 25,
   "metadata": {
    "ExecuteTime": {
     "end_time": "2018-01-06T01:59:10.554444Z",
     "start_time": "2018-01-06T01:59:10.549495Z"
    }
   },
   "outputs": [
    {
     "name": "stdout",
     "output_type": "stream",
     "text": [
      "overlay_shp (98406, 13)\n",
      "census_blocks (109279, 11)\n"
     ]
    }
   ],
   "source": [
    "print ('overlay_shp {}'.format(overlay_shp.shape))\n",
    "print ('census_blocks {}'.format(census_blocks.shape))"
   ]
  },
  {
   "cell_type": "code",
   "execution_count": 26,
   "metadata": {
    "ExecuteTime": {
     "end_time": "2018-01-06T02:11:17.971384Z",
     "start_time": "2018-01-06T01:59:10.556968Z"
    }
   },
   "outputs": [],
   "source": [
    "overlay_shp = spatial_overlays(overlay_shp, census_blocks)"
   ]
  },
  {
   "cell_type": "code",
   "execution_count": 27,
   "metadata": {
    "ExecuteTime": {
     "end_time": "2018-01-06T02:11:17.978277Z",
     "start_time": "2018-01-06T02:11:17.973676Z"
    }
   },
   "outputs": [
    {
     "name": "stdout",
     "output_type": "stream",
     "text": [
      "After overlay: (462901, 23)\n"
     ]
    }
   ],
   "source": [
    "print ('After overlay: {}'.format(overlay_shp.shape))\n",
    "#overlay_shp.plot()"
   ]
  },
  {
   "cell_type": "raw",
   "metadata": {
    "ExecuteTime": {
     "end_time": "2018-01-06T02:18:09.287560Z",
     "start_time": "2018-01-06T02:11:24.902604Z"
    }
   },
   "source": [
    "overlay_shp.to_file(\"result.shp\")"
   ]
  },
  {
   "cell_type": "markdown",
   "metadata": {},
   "source": [
    "# Notebook for reproducing the result ends here."
   ]
  },
  {
   "cell_type": "markdown",
   "metadata": {},
   "source": [
    "------------------------------------"
   ]
  },
  {
   "cell_type": "markdown",
   "metadata": {},
   "source": [
    "    \n",
    "    \n",
    "    \n",
    "    \n",
    "    \n",
    "    \n",
    "     "
   ]
  },
  {
   "cell_type": "markdown",
   "metadata": {},
   "source": [
    "   "
   ]
  },
  {
   "cell_type": "markdown",
   "metadata": {},
   "source": [
    "    "
   ]
  },
  {
   "cell_type": "markdown",
   "metadata": {},
   "source": [
    "     "
   ]
  },
  {
   "cell_type": "markdown",
   "metadata": {},
   "source": [
    "- [School District Boundaries (2011)](http://egis3.lacounty.gov/dataportal/2012/01/20/school-district-boundaries-2011/)\n",
    "(overlaying this one takes forever )"
   ]
  },
  {
   "cell_type": "code",
   "execution_count": 29,
   "metadata": {
    "ExecuteTime": {
     "end_time": "2018-01-06T02:18:50.350785Z",
     "start_time": "2018-01-06T02:18:48.378014Z"
    }
   },
   "outputs": [
    {
     "name": "stdout",
     "output_type": "stream",
     "text": [
      "Total polygon number: 79\n",
      "number of null and unique values in each column:\n",
      "DISTRICT: null 0, unique 78\n",
      "UNIFIED: null 0, unique 49\n",
      "HIGH: null 0, unique 9\n",
      "ELEMENTARY: null 0, unique 31\n",
      "PH: null 0, unique 78\n",
      "ADDR: null 0, unique 78\n",
      "PH2: null 0, unique 20\n",
      "PH3: null 0, unique 6\n",
      "STU: null 0, unique 78\n",
      "HI_ADDR: null 0, unique 9\n",
      "HI_PH: null 0, unique 9\n",
      "HI_STU: null 0, unique 9\n",
      "LABEL: null 0, unique 78\n"
     ]
    },
    {
     "data": {
      "text/html": [
       "<div>\n",
       "<style scoped>\n",
       "    .dataframe tbody tr th:only-of-type {\n",
       "        vertical-align: middle;\n",
       "    }\n",
       "\n",
       "    .dataframe tbody tr th {\n",
       "        vertical-align: top;\n",
       "    }\n",
       "\n",
       "    .dataframe thead th {\n",
       "        text-align: right;\n",
       "    }\n",
       "</style>\n",
       "<table border=\"1\" class=\"dataframe\">\n",
       "  <thead>\n",
       "    <tr style=\"text-align: right;\">\n",
       "      <th></th>\n",
       "      <th>DISTRICT</th>\n",
       "      <th>UNIFIED</th>\n",
       "      <th>HIGH</th>\n",
       "      <th>ELEMENTARY</th>\n",
       "      <th>PH</th>\n",
       "      <th>ADDR</th>\n",
       "      <th>PH2</th>\n",
       "      <th>PH3</th>\n",
       "      <th>STU</th>\n",
       "      <th>HI_ADDR</th>\n",
       "      <th>HI_PH</th>\n",
       "      <th>HI_STU</th>\n",
       "      <th>LABEL</th>\n",
       "      <th>geometry</th>\n",
       "    </tr>\n",
       "  </thead>\n",
       "  <tbody>\n",
       "    <tr>\n",
       "      <th>0</th>\n",
       "      <td>HERMOSA BEACH CITY ELEMENTARY</td>\n",
       "      <td></td>\n",
       "      <td></td>\n",
       "      <td>HERMOSA BEACH CITY ELEMENTARY</td>\n",
       "      <td>310 937 5877</td>\n",
       "      <td>1645 VALLEY DR HERMOSA BCH 90254</td>\n",
       "      <td></td>\n",
       "      <td></td>\n",
       "      <td>950</td>\n",
       "      <td></td>\n",
       "      <td></td>\n",
       "      <td></td>\n",
       "      <td>HERMOSA BEACH CITY ELEM</td>\n",
       "      <td>POLYGON ((-118.4048577253546 33.87782346394338...</td>\n",
       "    </tr>\n",
       "    <tr>\n",
       "      <th>1</th>\n",
       "      <td>CENTINELA VALLEY UNION HIGH/HAWTHORNE ELEMENTARY</td>\n",
       "      <td></td>\n",
       "      <td>CENTINELA VALLEY UNION HIGH</td>\n",
       "      <td>HAWTHORNE ELEMENTARY</td>\n",
       "      <td>310 676 2276</td>\n",
       "      <td>14120 S HAWTHORNE BL HAWTHORNE 90250</td>\n",
       "      <td></td>\n",
       "      <td></td>\n",
       "      <td>8145</td>\n",
       "      <td>14901 S INGLEWOOD AV LAWNDALE 90260</td>\n",
       "      <td>310 263 3200</td>\n",
       "      <td>6220</td>\n",
       "      <td>CENTINELA VALLEY UNION HIGH\\nHAWTHORNE ELEMENTARY</td>\n",
       "      <td>POLYGON ((-118.3607054443706 33.93093449396304...</td>\n",
       "    </tr>\n",
       "    <tr>\n",
       "      <th>2</th>\n",
       "      <td>CENTINELA VALLEY UNION HIGH/LAWNDALE ELEMENTARY</td>\n",
       "      <td></td>\n",
       "      <td>CENTINELA VALLEY UNION HIGH</td>\n",
       "      <td>LAWNDALE ELEMENTARY</td>\n",
       "      <td>310 973 1300</td>\n",
       "      <td>4161 W 147TH ST LAWNDALE 90260</td>\n",
       "      <td></td>\n",
       "      <td></td>\n",
       "      <td>5510</td>\n",
       "      <td>14901 S INGLEWOOD AV LAWNDALE 90260</td>\n",
       "      <td>310 263 3200</td>\n",
       "      <td>6220</td>\n",
       "      <td>CENTINELA VALLEY UNION HIGH\\nLAWNDALE ELEMENTARY</td>\n",
       "      <td>POLYGON ((-118.367294562588 33.90558198783078,...</td>\n",
       "    </tr>\n",
       "  </tbody>\n",
       "</table>\n",
       "</div>"
      ],
      "text/plain": [
       "                                           DISTRICT UNIFIED  \\\n",
       "0                     HERMOSA BEACH CITY ELEMENTARY           \n",
       "1  CENTINELA VALLEY UNION HIGH/HAWTHORNE ELEMENTARY           \n",
       "2   CENTINELA VALLEY UNION HIGH/LAWNDALE ELEMENTARY           \n",
       "\n",
       "                          HIGH                     ELEMENTARY            PH  \\\n",
       "0                               HERMOSA BEACH CITY ELEMENTARY  310 937 5877   \n",
       "1  CENTINELA VALLEY UNION HIGH           HAWTHORNE ELEMENTARY  310 676 2276   \n",
       "2  CENTINELA VALLEY UNION HIGH            LAWNDALE ELEMENTARY  310 973 1300   \n",
       "\n",
       "                                   ADDR PH2 PH3   STU  \\\n",
       "0      1645 VALLEY DR HERMOSA BCH 90254           950   \n",
       "1  14120 S HAWTHORNE BL HAWTHORNE 90250          8145   \n",
       "2        4161 W 147TH ST LAWNDALE 90260          5510   \n",
       "\n",
       "                               HI_ADDR         HI_PH HI_STU  \\\n",
       "0                                                             \n",
       "1  14901 S INGLEWOOD AV LAWNDALE 90260  310 263 3200   6220   \n",
       "2  14901 S INGLEWOOD AV LAWNDALE 90260  310 263 3200   6220   \n",
       "\n",
       "                                               LABEL  \\\n",
       "0                            HERMOSA BEACH CITY ELEM   \n",
       "1  CENTINELA VALLEY UNION HIGH\\nHAWTHORNE ELEMENTARY   \n",
       "2   CENTINELA VALLEY UNION HIGH\\nLAWNDALE ELEMENTARY   \n",
       "\n",
       "                                            geometry  \n",
       "0  POLYGON ((-118.4048577253546 33.87782346394338...  \n",
       "1  POLYGON ((-118.3607054443706 33.93093449396304...  \n",
       "2  POLYGON ((-118.367294562588 33.90558198783078,...  "
      ]
     },
     "execution_count": 29,
     "metadata": {},
     "output_type": "execute_result"
    }
   ],
   "source": [
    "#School District Boundaries (2011)\n",
    "url = \"http://egis3.lacounty.gov/dataportal/wp-content/uploads/2012/01/\" \\\n",
    "      \"rrcc_school_districts1.zip\"\n",
    "school_districts = download_egis3(url, 'rrcc_school_districts1.zip', 'school_districts', 'rrcc_school_districts.shp')\n",
    "dfname_list.append('school_districts')\n",
    "checkdf(school_districts)"
   ]
  },
  {
   "cell_type": "code",
   "execution_count": 30,
   "metadata": {
    "ExecuteTime": {
     "end_time": "2018-01-06T02:18:52.273646Z",
     "start_time": "2018-01-06T02:18:52.244217Z"
    }
   },
   "outputs": [
    {
     "data": {
      "text/html": [
       "<div>\n",
       "<style scoped>\n",
       "    .dataframe tbody tr th:only-of-type {\n",
       "        vertical-align: middle;\n",
       "    }\n",
       "\n",
       "    .dataframe tbody tr th {\n",
       "        vertical-align: top;\n",
       "    }\n",
       "\n",
       "    .dataframe thead th {\n",
       "        text-align: right;\n",
       "    }\n",
       "</style>\n",
       "<table border=\"1\" class=\"dataframe\">\n",
       "  <thead>\n",
       "    <tr style=\"text-align: right;\">\n",
       "      <th></th>\n",
       "      <th>DISTRICT</th>\n",
       "      <th>geometry</th>\n",
       "    </tr>\n",
       "  </thead>\n",
       "  <tbody>\n",
       "    <tr>\n",
       "      <th>0</th>\n",
       "      <td>HERMOSA BEACH CITY ELEMENTARY</td>\n",
       "      <td>POLYGON ((-118.4048577253546 33.87782346394338...</td>\n",
       "    </tr>\n",
       "    <tr>\n",
       "      <th>1</th>\n",
       "      <td>CENTINELA VALLEY UNION HIGH/HAWTHORNE ELEMENTARY</td>\n",
       "      <td>POLYGON ((-118.3607054443706 33.93093449396304...</td>\n",
       "    </tr>\n",
       "    <tr>\n",
       "      <th>2</th>\n",
       "      <td>CENTINELA VALLEY UNION HIGH/LAWNDALE ELEMENTARY</td>\n",
       "      <td>POLYGON ((-118.367294562588 33.90558198783078,...</td>\n",
       "    </tr>\n",
       "  </tbody>\n",
       "</table>\n",
       "</div>"
      ],
      "text/plain": [
       "                                           DISTRICT  \\\n",
       "0                     HERMOSA BEACH CITY ELEMENTARY   \n",
       "1  CENTINELA VALLEY UNION HIGH/HAWTHORNE ELEMENTARY   \n",
       "2   CENTINELA VALLEY UNION HIGH/LAWNDALE ELEMENTARY   \n",
       "\n",
       "                                            geometry  \n",
       "0  POLYGON ((-118.4048577253546 33.87782346394338...  \n",
       "1  POLYGON ((-118.3607054443706 33.93093449396304...  \n",
       "2  POLYGON ((-118.367294562588 33.90558198783078,...  "
      ]
     },
     "execution_count": 30,
     "metadata": {},
     "output_type": "execute_result"
    }
   ],
   "source": [
    "droplist = ['UNIFIED', 'HIGH', 'ELEMENTARY', 'PH', 'ADDR', 'PH2', 'PH3',\n",
    "       'STU', 'HI_ADDR', 'HI_PH', 'HI_STU', 'LABEL']\n",
    "cleandf(school_districts, droplist)"
   ]
  },
  {
   "cell_type": "code",
   "execution_count": 31,
   "metadata": {
    "ExecuteTime": {
     "end_time": "2018-01-06T02:18:56.379075Z",
     "start_time": "2018-01-06T02:18:56.375427Z"
    }
   },
   "outputs": [],
   "source": [
    "school_districts.columns = ['scho_dist_name', 'geometry']"
   ]
  },
  {
   "cell_type": "code",
   "execution_count": 32,
   "metadata": {
    "ExecuteTime": {
     "end_time": "2018-01-06T02:19:27.189065Z",
     "start_time": "2018-01-06T02:19:27.183552Z"
    }
   },
   "outputs": [
    {
     "name": "stdout",
     "output_type": "stream",
     "text": [
      "overlay_shp (462901, 23)\n",
      "school_districts (79, 2)\n"
     ]
    }
   ],
   "source": [
    "print ('overlay_shp {}'.format(overlay_shp.shape))\n",
    "print ('school_districts {}'.format(school_districts.shape))"
   ]
  },
  {
   "cell_type": "code",
   "execution_count": null,
   "metadata": {
    "ExecuteTime": {
     "end_time": "2018-01-06T03:35:40.186771Z",
     "start_time": "2018-01-06T02:19:42.923255Z"
    }
   },
   "outputs": [],
   "source": [
    "overlay_shp = spatial_overlays(overlay_shp, school_districts)"
   ]
  },
  {
   "cell_type": "code",
   "execution_count": null,
   "metadata": {
    "ExecuteTime": {
     "end_time": "2018-01-06T01:33:46.694205Z",
     "start_time": "2018-01-06T01:33:46.689463Z"
    }
   },
   "outputs": [],
   "source": [
    "print ('After overlay: {}'.format(overlay_shp.shape))\n",
    "#overlay_shp.plot()"
   ]
  }
 ],
 "metadata": {
  "kernelspec": {
   "display_name": "Python 3",
   "language": "python",
   "name": "python3"
  },
  "language_info": {
   "codemirror_mode": {
    "name": "ipython",
    "version": 3
   },
   "file_extension": ".py",
   "mimetype": "text/x-python",
   "name": "python",
   "nbconvert_exporter": "python",
   "pygments_lexer": "ipython3",
   "version": "3.6.1"
  }
 },
 "nbformat": 4,
 "nbformat_minor": 2
}
