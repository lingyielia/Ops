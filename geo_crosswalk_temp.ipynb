{
 "cells": [
  {
   "cell_type": "markdown",
   "metadata": {},
   "source": [
    "Using Python 3 Kernel"
   ]
  },
  {
   "cell_type": "code",
   "execution_count": 1,
   "metadata": {
    "ExecuteTime": {
     "end_time": "2018-01-04T04:15:02.177721Z",
     "start_time": "2018-01-04T04:15:01.441659Z"
    }
   },
   "outputs": [],
   "source": [
    "%matplotlib inline\n",
    "from __future__ import print_function, division\n",
    "import numpy as np\n",
    "import pandas as pd\n",
    "import matplotlib.pyplot as plt\n",
    "import os\n",
    "\n",
    "import geopandas as gpd\n",
    "from fiona.crs import from_epsg"
   ]
  },
  {
   "cell_type": "code",
   "execution_count": 2,
   "metadata": {
    "ExecuteTime": {
     "end_time": "2018-01-04T04:15:02.617524Z",
     "start_time": "2018-01-04T04:15:02.179434Z"
    },
    "code_folding": [
     1
    ]
   },
   "outputs": [],
   "source": [
    "#Function for overlay\n",
    "def spatial_overlays(df1, df2, how='intersection', reproject=True):\n",
    "    \"\"\"Perform spatial overlay between two polygons.\n",
    "\n",
    "    Currently only supports data GeoDataFrames with polygons.\n",
    "    Implements several methods that are all effectively subsets of\n",
    "    the union.\n",
    "\n",
    "    Parameters\n",
    "    ----------\n",
    "    df1 : GeoDataFrame with MultiPolygon or Polygon geometry column\n",
    "    df2 : GeoDataFrame with MultiPolygon or Polygon geometry column\n",
    "    how : string\n",
    "        Method of spatial overlay: 'intersection', 'union',\n",
    "        'identity', 'symmetric_difference' or 'difference'.\n",
    "    use_sindex : boolean, default True\n",
    "        Use the spatial index to speed up operation if available.\n",
    "\n",
    "    Returns\n",
    "    -------\n",
    "    df : GeoDataFrame\n",
    "        GeoDataFrame with new set of polygons and attributes\n",
    "        resulting from the overlay\n",
    "\n",
    "    \"\"\"\n",
    "    from functools import reduce\n",
    "    df1 = df1.copy()\n",
    "    df2 = df2.copy()\n",
    "    df1['geometry'] = df1.geometry.buffer(0)\n",
    "    df2['geometry'] = df2.geometry.buffer(0)\n",
    "    if df1.crs!=df2.crs and reproject:\n",
    "        print('Data has different projections.')\n",
    "        print('Converted data to projection of first GeoPandas DatFrame')\n",
    "        df2.to_crs(crs=df1.crs, inplace=True)\n",
    "    if how=='intersection':\n",
    "        # Spatial Index to create intersections\n",
    "        spatial_index = df2.sindex\n",
    "        df1['bbox'] = df1.geometry.apply(lambda x: x.bounds)\n",
    "        df1['sidx']=df1.bbox.apply(lambda x:list(spatial_index.intersection(x)))\n",
    "        pairs = df1['sidx'].to_dict()\n",
    "        nei = []\n",
    "        for i,j in pairs.items():\n",
    "            for k in j:\n",
    "                nei.append([i,k])\n",
    "        pairs = gpd.GeoDataFrame(nei, columns=['idx1','idx2'], crs=df1.crs)\n",
    "        pairs = pairs.merge(df1, left_on='idx1', right_index=True)\n",
    "        pairs = pairs.merge(df2, left_on='idx2', right_index=True, suffixes=['_1','_2'])\n",
    "        pairs['Intersection'] = pairs.apply(lambda x: (x['geometry_1'].intersection(x['geometry_2'])).buffer(0), axis=1)\n",
    "        pairs = gpd.GeoDataFrame(pairs, columns=pairs.columns, crs=df1.crs)\n",
    "        cols = pairs.columns.tolist()\n",
    "        cols.remove('geometry_1')\n",
    "        cols.remove('geometry_2')\n",
    "        cols.remove('sidx')\n",
    "        cols.remove('bbox')\n",
    "        cols.remove('Intersection')\n",
    "        dfinter = pairs[cols+['Intersection']].copy()\n",
    "        dfinter.rename(columns={'Intersection':'geometry'}, inplace=True)\n",
    "        dfinter = gpd.GeoDataFrame(dfinter, columns=dfinter.columns, crs=pairs.crs)\n",
    "        dfinter = dfinter.loc[dfinter.geometry.is_empty==False]\n",
    "        dfinter.drop(['idx1','idx2'], inplace=True, axis=1)\n",
    "        return dfinter\n",
    "    elif how=='difference':\n",
    "        spatial_index = df2.sindex\n",
    "        df1['bbox'] = df1.geometry.apply(lambda x: x.bounds)\n",
    "        df1['sidx']=df1.bbox.apply(lambda x:list(spatial_index.intersection(x)))\n",
    "        df1['new_g'] = df1.apply(lambda x: reduce(lambda x, y: x.difference(y).buffer(0), \n",
    "                                 [x.geometry]+list(df2.iloc[x.sidx].geometry)) , axis=1)\n",
    "        df1.geometry = df1.new_g\n",
    "        df1 = df1.loc[df1.geometry.is_empty==False].copy()\n",
    "        df1.drop(['bbox', 'sidx', 'new_g'], axis=1, inplace=True)\n",
    "        return df1\n",
    "    elif how=='symmetric_difference':\n",
    "        df1['idx1'] = df1.index.tolist()\n",
    "        df2['idx2'] = df2.index.tolist()\n",
    "        df1['idx2'] = np.nan\n",
    "        df2['idx1'] = np.nan\n",
    "        dfsym = df1.merge(df2, on=['idx1','idx2'], how='outer', suffixes=['_1','_2'])\n",
    "        dfsym['geometry'] = dfsym.geometry_1\n",
    "        dfsym.loc[dfsym.geometry_2.isnull()==False, 'geometry'] = dfsym.loc[dfsym.geometry_2.isnull()==False, 'geometry_2']\n",
    "        dfsym.drop(['geometry_1', 'geometry_2'], axis=1, inplace=True)\n",
    "        dfsym = gpd.GeoDataFrame(dfsym, columns=dfsym.columns, crs=df1.crs)\n",
    "        spatial_index = dfsym.sindex\n",
    "        dfsym['bbox'] = dfsym.geometry.apply(lambda x: x.bounds)\n",
    "        dfsym['sidx'] = dfsym.bbox.apply(lambda x:list(spatial_index.intersection(x)))\n",
    "        dfsym['idx'] = dfsym.index.values\n",
    "        dfsym.apply(lambda x: x.sidx.remove(x.idx), axis=1)\n",
    "        dfsym['new_g'] = dfsym.apply(lambda x: reduce(lambda x, y: x.difference(y).buffer(0), \n",
    "                         [x.geometry]+list(dfsym.iloc[x.sidx].geometry)) , axis=1)\n",
    "        dfsym.geometry = dfsym.new_g\n",
    "        dfsym = dfsym.loc[dfsym.geometry.is_empty==False].copy()\n",
    "        dfsym.drop(['bbox', 'sidx', 'idx', 'idx1','idx2', 'new_g'], axis=1, inplace=True)\n",
    "        return dfsym\n",
    "    elif how=='union':\n",
    "        dfinter = spatial_overlays(df1, df2, how='intersection')\n",
    "        dfsym = spatial_overlays(df1, df2, how='symmetric_difference')\n",
    "        dfunion = dfinter.append(dfsym)\n",
    "        dfunion.reset_index(inplace=True, drop=True)\n",
    "        return dfunion\n",
    "    elif how=='identity':\n",
    "        dfunion = spatial_overlays(df1, df2, how='union')\n",
    "        cols1 = df1.columns.tolist()\n",
    "        cols2 = df2.columns.tolist()\n",
    "        cols1.remove('geometry')\n",
    "        cols2.remove('geometry')\n",
    "        cols2 = set(cols2).intersection(set(cols1))\n",
    "        cols1 = list(set(cols1).difference(set(cols2)))\n",
    "        cols2 = [col+'_1' for col in cols2]\n",
    "        dfunion = dfunion[(dfunion[cols1+cols2].isnull()==False).values]\n",
    "        return dfunion"
   ]
  },
  {
   "cell_type": "code",
   "execution_count": 3,
   "metadata": {
    "ExecuteTime": {
     "end_time": "2018-01-04T04:15:02.632416Z",
     "start_time": "2018-01-04T04:15:02.620109Z"
    },
    "code_folding": []
   },
   "outputs": [],
   "source": [
    "#function for download data from egis3\n",
    "def download_egis3(url, zipname, folder, shpname):\n",
    "    #take in download url, downloaded zipfile name, folder name\n",
    "    #containing unzipped shapefile, shapefile name\n",
    "    #return the downloaded geodataframe\n",
    "    os.system(\"curl -O \" + url)\n",
    "    os.system(\"unzip \" + zipname + \" -d \" + folder)\n",
    "    \n",
    "    df = folder\n",
    "    df = gpd.read_file(folder + \"/\" + shpname)\n",
    "\n",
    "    df.crs = from_epsg(2229)\n",
    "    df = df.to_crs(epsg=4326)\n",
    "    return df"
   ]
  },
  {
   "cell_type": "code",
   "execution_count": 75,
   "metadata": {
    "ExecuteTime": {
     "end_time": "2018-01-05T04:13:41.820580Z",
     "start_time": "2018-01-05T04:13:41.803557Z"
    },
    "code_folding": []
   },
   "outputs": [],
   "source": [
    "def read_census(zipname, folder, shpname):\n",
    "    os.system(\"curl -O \" + url)\n",
    "    os.system(\"unzip \" + zipname + \" -d \" + folder)\n",
    "    \n",
    "    df = folder\n",
    "    df = gpd.read_file(folder + \"/\" + shpname)\n",
    "\n",
    "    return df    "
   ]
  },
  {
   "cell_type": "code",
   "execution_count": 4,
   "metadata": {
    "ExecuteTime": {
     "end_time": "2018-01-04T04:15:02.654148Z",
     "start_time": "2018-01-04T04:15:02.635434Z"
    },
    "code_folding": [
     1
    ]
   },
   "outputs": [],
   "source": [
    "#function to check the data quality\n",
    "def checkdf(dfname):\n",
    "    #take in geodataframe\n",
    "    #return number of null values and unique values\n",
    "    tota_poly = dfname.shape[0]\n",
    "    print ('Total polygon number: {}'.format(tota_poly))    \n",
    "    print ('number of null and unique values in each column:')\n",
    "    \n",
    "    for i in dfname.columns[:-1]:\n",
    "        tota_valu = dfname.count()[i]\n",
    "        null_valu = tota_poly - tota_valu\n",
    "        uniq_valu = len(dfname[i].unique())\n",
    "        print ('{}: null {}, unique {}'.format(i, null_valu, uniq_valu))\n",
    "    return dfname.head(3)"
   ]
  },
  {
   "cell_type": "code",
   "execution_count": 5,
   "metadata": {
    "ExecuteTime": {
     "end_time": "2018-01-04T04:15:02.676326Z",
     "start_time": "2018-01-04T04:15:02.656508Z"
    },
    "code_folding": [
     1
    ]
   },
   "outputs": [],
   "source": [
    "#function to drop redundant columns\n",
    "def cleandf(dfname, droplist):\n",
    "    #take in geodataframe and list of column name redundant\n",
    "    #return the clean df\n",
    "    notneedlist = ['OBJECTID', 'Shape_area', 'Shape_len']\n",
    "    \n",
    "    for i in dfname.columns[:-1]:\n",
    "        #uniq_valu = len(dfname[i].unique())\n",
    "        #tota_valu = dfname.count()[i]\n",
    "        #if uniq_valu < tota_valu:\n",
    "        #    print (uniq_valu, tota_valu)\n",
    "        #    dfname.drop([i], axis=1, inplace=True)\n",
    "        if i in notneedlist:\n",
    "            dfname.drop([i], axis=1, inplace=True)\n",
    "            \n",
    "    for i in droplist:\n",
    "        dfname.drop([i], axis=1, inplace=True)\n",
    "    \n",
    "    return dfname.head(3)"
   ]
  },
  {
   "cell_type": "markdown",
   "metadata": {},
   "source": [
    "## download data"
   ]
  },
  {
   "cell_type": "markdown",
   "metadata": {},
   "source": [
    "#### Including 5 geometries as:\n",
    "- Health Districts (HD) – 2012\n",
    "- Law Enforcement Reporting Districts\n",
    "- School District Boundaries (2011)\n",
    "- California State Senate Districts (2011)\n",
    "- US Congressional Districts\n",
    "- [ZIP Code Boundaries](https://egis3.lacounty.gov/dataportal/2016/08/11/zip-codes-with-parcel-specific-boundaries/)"
   ]
  },
  {
   "cell_type": "code",
   "execution_count": 6,
   "metadata": {
    "ExecuteTime": {
     "end_time": "2018-01-04T04:15:02.682740Z",
     "start_time": "2018-01-04T04:15:02.679402Z"
    }
   },
   "outputs": [],
   "source": [
    "dfname_list = []"
   ]
  },
  {
   "cell_type": "code",
   "execution_count": 7,
   "metadata": {
    "ExecuteTime": {
     "end_time": "2018-01-04T04:15:04.376135Z",
     "start_time": "2018-01-04T04:15:02.685430Z"
    },
    "code_folding": [
     0
    ]
   },
   "outputs": [
    {
     "name": "stdout",
     "output_type": "stream",
     "text": [
      "Total polygon number: 26\n",
      "number of null and unique values in each column:\n",
      "OBJECTID: null 0, unique 26\n",
      "HD_NAME: null 0, unique 26\n",
      "SPA_NAME: null 0, unique 8\n",
      "Shape_area: null 0, unique 26\n",
      "Shape_len: null 0, unique 26\n",
      "HD_2012: null 0, unique 26\n",
      "SPA_2012: null 0, unique 8\n"
     ]
    },
    {
     "data": {
      "text/html": [
       "<div>\n",
       "<style scoped>\n",
       "    .dataframe tbody tr th:only-of-type {\n",
       "        vertical-align: middle;\n",
       "    }\n",
       "\n",
       "    .dataframe tbody tr th {\n",
       "        vertical-align: top;\n",
       "    }\n",
       "\n",
       "    .dataframe thead th {\n",
       "        text-align: right;\n",
       "    }\n",
       "</style>\n",
       "<table border=\"1\" class=\"dataframe\">\n",
       "  <thead>\n",
       "    <tr style=\"text-align: right;\">\n",
       "      <th></th>\n",
       "      <th>OBJECTID</th>\n",
       "      <th>HD_NAME</th>\n",
       "      <th>SPA_NAME</th>\n",
       "      <th>Shape_area</th>\n",
       "      <th>Shape_len</th>\n",
       "      <th>HD_2012</th>\n",
       "      <th>SPA_2012</th>\n",
       "      <th>geometry</th>\n",
       "    </tr>\n",
       "  </thead>\n",
       "  <tbody>\n",
       "    <tr>\n",
       "      <th>0</th>\n",
       "      <td>1</td>\n",
       "      <td>Alhambra</td>\n",
       "      <td>San Gabriel</td>\n",
       "      <td>1.089719e+09</td>\n",
       "      <td>2.018927e+05</td>\n",
       "      <td>3</td>\n",
       "      <td>3</td>\n",
       "      <td>POLYGON ((-118.0942930008 34.13524499950874, -...</td>\n",
       "    </tr>\n",
       "    <tr>\n",
       "      <th>1</th>\n",
       "      <td>2</td>\n",
       "      <td>Antelope Valley</td>\n",
       "      <td>Antelope Valley</td>\n",
       "      <td>3.859238e+10</td>\n",
       "      <td>1.484948e+06</td>\n",
       "      <td>5</td>\n",
       "      <td>1</td>\n",
       "      <td>POLYGON ((-117.6552358399884 34.39722196554607...</td>\n",
       "    </tr>\n",
       "    <tr>\n",
       "      <th>2</th>\n",
       "      <td>3</td>\n",
       "      <td>Bellflower</td>\n",
       "      <td>East</td>\n",
       "      <td>1.086595e+09</td>\n",
       "      <td>2.620187e+05</td>\n",
       "      <td>6</td>\n",
       "      <td>7</td>\n",
       "      <td>(POLYGON ((-118.0287288746297 33.8733158131870...</td>\n",
       "    </tr>\n",
       "  </tbody>\n",
       "</table>\n",
       "</div>"
      ],
      "text/plain": [
       "   OBJECTID          HD_NAME         SPA_NAME    Shape_area     Shape_len  \\\n",
       "0         1         Alhambra      San Gabriel  1.089719e+09  2.018927e+05   \n",
       "1         2  Antelope Valley  Antelope Valley  3.859238e+10  1.484948e+06   \n",
       "2         3       Bellflower             East  1.086595e+09  2.620187e+05   \n",
       "\n",
       "   HD_2012  SPA_2012                                           geometry  \n",
       "0        3         3  POLYGON ((-118.0942930008 34.13524499950874, -...  \n",
       "1        5         1  POLYGON ((-117.6552358399884 34.39722196554607...  \n",
       "2        6         7  (POLYGON ((-118.0287288746297 33.8733158131870...  "
      ]
     },
     "execution_count": 7,
     "metadata": {},
     "output_type": "execute_result"
    }
   ],
   "source": [
    "#Health Districts (HD) – 2012\n",
    "url = \"http://egis3.lacounty.gov/dataportal/wp-content/uploads/2012/\" \\\n",
    "      \"02/HD_20121.zip\"\n",
    "health_districts = download_egis3(url, 'HD_20121.zip', 'health_districts', 'Health_Districts_2012.shp')\n",
    "dfname_list.append('health_districts')\n",
    "\n",
    "checkdf(health_districts)"
   ]
  },
  {
   "cell_type": "code",
   "execution_count": 8,
   "metadata": {
    "ExecuteTime": {
     "end_time": "2018-01-04T04:15:04.472168Z",
     "start_time": "2018-01-04T04:15:04.379597Z"
    }
   },
   "outputs": [
    {
     "data": {
      "text/html": [
       "<div>\n",
       "<style scoped>\n",
       "    .dataframe tbody tr th:only-of-type {\n",
       "        vertical-align: middle;\n",
       "    }\n",
       "\n",
       "    .dataframe tbody tr th {\n",
       "        vertical-align: top;\n",
       "    }\n",
       "\n",
       "    .dataframe thead th {\n",
       "        text-align: right;\n",
       "    }\n",
       "</style>\n",
       "<table border=\"1\" class=\"dataframe\">\n",
       "  <thead>\n",
       "    <tr style=\"text-align: right;\">\n",
       "      <th></th>\n",
       "      <th>HD_NAME</th>\n",
       "      <th>HD_2012</th>\n",
       "      <th>geometry</th>\n",
       "    </tr>\n",
       "  </thead>\n",
       "  <tbody>\n",
       "    <tr>\n",
       "      <th>0</th>\n",
       "      <td>Alhambra</td>\n",
       "      <td>3</td>\n",
       "      <td>POLYGON ((-118.0942930008 34.13524499950874, -...</td>\n",
       "    </tr>\n",
       "    <tr>\n",
       "      <th>1</th>\n",
       "      <td>Antelope Valley</td>\n",
       "      <td>5</td>\n",
       "      <td>POLYGON ((-117.6552358399884 34.39722196554607...</td>\n",
       "    </tr>\n",
       "    <tr>\n",
       "      <th>2</th>\n",
       "      <td>Bellflower</td>\n",
       "      <td>6</td>\n",
       "      <td>(POLYGON ((-118.0287288746297 33.8733158131870...</td>\n",
       "    </tr>\n",
       "  </tbody>\n",
       "</table>\n",
       "</div>"
      ],
      "text/plain": [
       "           HD_NAME  HD_2012                                           geometry\n",
       "0         Alhambra        3  POLYGON ((-118.0942930008 34.13524499950874, -...\n",
       "1  Antelope Valley        5  POLYGON ((-117.6552358399884 34.39722196554607...\n",
       "2       Bellflower        6  (POLYGON ((-118.0287288746297 33.8733158131870..."
      ]
     },
     "execution_count": 8,
     "metadata": {},
     "output_type": "execute_result"
    }
   ],
   "source": [
    "droplist = ['SPA_NAME', 'SPA_2012']\n",
    "cleandf(health_districts, droplist)"
   ]
  },
  {
   "cell_type": "raw",
   "metadata": {
    "ExecuteTime": {
     "end_time": "2018-01-04T04:15:04.716252Z",
     "start_time": "2018-01-04T04:15:04.476067Z"
    }
   },
   "source": [
    "health_districts.plot()"
   ]
  },
  {
   "cell_type": "code",
   "execution_count": 10,
   "metadata": {
    "ExecuteTime": {
     "end_time": "2018-01-04T04:15:12.153992Z",
     "start_time": "2018-01-04T04:15:04.719189Z"
    },
    "code_folding": [
     0
    ]
   },
   "outputs": [
    {
     "name": "stdout",
     "output_type": "stream",
     "text": [
      "Total polygon number: 5745\n",
      "number of null and unique values in each column:\n",
      "RD: null 0, unique 3667\n",
      "Name: null 0, unique 519\n",
      "Layer: null 0, unique 3\n"
     ]
    },
    {
     "data": {
      "text/html": [
       "<div>\n",
       "<style scoped>\n",
       "    .dataframe tbody tr th:only-of-type {\n",
       "        vertical-align: middle;\n",
       "    }\n",
       "\n",
       "    .dataframe tbody tr th {\n",
       "        vertical-align: top;\n",
       "    }\n",
       "\n",
       "    .dataframe thead th {\n",
       "        text-align: right;\n",
       "    }\n",
       "</style>\n",
       "<table border=\"1\" class=\"dataframe\">\n",
       "  <thead>\n",
       "    <tr style=\"text-align: right;\">\n",
       "      <th></th>\n",
       "      <th>RD</th>\n",
       "      <th>Name</th>\n",
       "      <th>Layer</th>\n",
       "      <th>geometry</th>\n",
       "    </tr>\n",
       "  </thead>\n",
       "  <tbody>\n",
       "    <tr>\n",
       "      <th>0</th>\n",
       "      <td>0230</td>\n",
       "      <td>Belvedere</td>\n",
       "      <td>Parks Bureau</td>\n",
       "      <td>POLYGON ((-118.1604325432619 34.03712079823092...</td>\n",
       "    </tr>\n",
       "    <tr>\n",
       "      <th>1</th>\n",
       "      <td>0231</td>\n",
       "      <td>Atlantic Avenue</td>\n",
       "      <td>Parks Bureau</td>\n",
       "      <td>POLYGON ((-118.1550797745909 34.0257529106941,...</td>\n",
       "    </tr>\n",
       "    <tr>\n",
       "      <th>2</th>\n",
       "      <td>0232</td>\n",
       "      <td>City Terrace</td>\n",
       "      <td>Parks Bureau</td>\n",
       "      <td>POLYGON ((-118.1784888821586 34.04781649689102...</td>\n",
       "    </tr>\n",
       "  </tbody>\n",
       "</table>\n",
       "</div>"
      ],
      "text/plain": [
       "     RD             Name         Layer  \\\n",
       "0  0230        Belvedere  Parks Bureau   \n",
       "1  0231  Atlantic Avenue  Parks Bureau   \n",
       "2  0232     City Terrace  Parks Bureau   \n",
       "\n",
       "                                            geometry  \n",
       "0  POLYGON ((-118.1604325432619 34.03712079823092...  \n",
       "1  POLYGON ((-118.1550797745909 34.0257529106941,...  \n",
       "2  POLYGON ((-118.1784888821586 34.04781649689102...  "
      ]
     },
     "execution_count": 10,
     "metadata": {},
     "output_type": "execute_result"
    }
   ],
   "source": [
    "#Law Enforcement Reporting Districts\n",
    "url = \"http://egis3.lacounty.gov/dataportal/wp-content/uploads/\" \\\n",
    "      \"ShapefilePackages/LACOUNTY_LAW_ENFORCEMENT_RDs.zip\"\n",
    "law_enforcement = download_egis3(url, 'LACOUNTY_LAW_ENFORCEMENT_RDs.zip', 'law_enforcement', 'LACOUNTY_LAW_ENFORCEMENT_RDs.shp')\n",
    "dfname_list.append('law_enforcement')\n",
    "#law_enforcement.head(3)\n",
    "checkdf(law_enforcement)"
   ]
  },
  {
   "cell_type": "code",
   "execution_count": 11,
   "metadata": {
    "ExecuteTime": {
     "end_time": "2018-01-04T04:15:12.181507Z",
     "start_time": "2018-01-04T04:15:12.157718Z"
    }
   },
   "outputs": [
    {
     "data": {
      "text/html": [
       "<div>\n",
       "<style scoped>\n",
       "    .dataframe tbody tr th:only-of-type {\n",
       "        vertical-align: middle;\n",
       "    }\n",
       "\n",
       "    .dataframe tbody tr th {\n",
       "        vertical-align: top;\n",
       "    }\n",
       "\n",
       "    .dataframe thead th {\n",
       "        text-align: right;\n",
       "    }\n",
       "</style>\n",
       "<table border=\"1\" class=\"dataframe\">\n",
       "  <thead>\n",
       "    <tr style=\"text-align: right;\">\n",
       "      <th></th>\n",
       "      <th>RD</th>\n",
       "      <th>Name</th>\n",
       "      <th>geometry</th>\n",
       "    </tr>\n",
       "  </thead>\n",
       "  <tbody>\n",
       "    <tr>\n",
       "      <th>0</th>\n",
       "      <td>0230</td>\n",
       "      <td>Belvedere</td>\n",
       "      <td>POLYGON ((-118.1604325432619 34.03712079823092...</td>\n",
       "    </tr>\n",
       "    <tr>\n",
       "      <th>1</th>\n",
       "      <td>0231</td>\n",
       "      <td>Atlantic Avenue</td>\n",
       "      <td>POLYGON ((-118.1550797745909 34.0257529106941,...</td>\n",
       "    </tr>\n",
       "    <tr>\n",
       "      <th>2</th>\n",
       "      <td>0232</td>\n",
       "      <td>City Terrace</td>\n",
       "      <td>POLYGON ((-118.1784888821586 34.04781649689102...</td>\n",
       "    </tr>\n",
       "  </tbody>\n",
       "</table>\n",
       "</div>"
      ],
      "text/plain": [
       "     RD             Name                                           geometry\n",
       "0  0230        Belvedere  POLYGON ((-118.1604325432619 34.03712079823092...\n",
       "1  0231  Atlantic Avenue  POLYGON ((-118.1550797745909 34.0257529106941,...\n",
       "2  0232     City Terrace  POLYGON ((-118.1784888821586 34.04781649689102..."
      ]
     },
     "execution_count": 11,
     "metadata": {},
     "output_type": "execute_result"
    }
   ],
   "source": [
    "droplist = ['Layer']\n",
    "cleandf(law_enforcement, droplist)"
   ]
  },
  {
   "cell_type": "raw",
   "metadata": {
    "ExecuteTime": {
     "end_time": "2018-01-04T04:15:14.646817Z",
     "start_time": "2018-01-04T04:15:12.184123Z"
    }
   },
   "source": [
    "law_enforcement.plot()"
   ]
  },
  {
   "cell_type": "code",
   "execution_count": 13,
   "metadata": {
    "ExecuteTime": {
     "end_time": "2018-01-04T15:17:51.140697Z",
     "start_time": "2018-01-04T15:17:46.783850Z"
    }
   },
   "outputs": [
    {
     "name": "stdout",
     "output_type": "stream",
     "text": [
      "Total polygon number: 79\n",
      "number of null and unique values in each column:\n",
      "DISTRICT: null 0, unique 78\n",
      "UNIFIED: null 0, unique 49\n",
      "HIGH: null 0, unique 9\n",
      "ELEMENTARY: null 0, unique 31\n",
      "PH: null 0, unique 78\n",
      "ADDR: null 0, unique 78\n",
      "PH2: null 0, unique 20\n",
      "PH3: null 0, unique 6\n",
      "STU: null 0, unique 78\n",
      "HI_ADDR: null 0, unique 9\n",
      "HI_PH: null 0, unique 9\n",
      "HI_STU: null 0, unique 9\n",
      "LABEL: null 0, unique 78\n"
     ]
    },
    {
     "data": {
      "text/html": [
       "<div>\n",
       "<style scoped>\n",
       "    .dataframe tbody tr th:only-of-type {\n",
       "        vertical-align: middle;\n",
       "    }\n",
       "\n",
       "    .dataframe tbody tr th {\n",
       "        vertical-align: top;\n",
       "    }\n",
       "\n",
       "    .dataframe thead th {\n",
       "        text-align: right;\n",
       "    }\n",
       "</style>\n",
       "<table border=\"1\" class=\"dataframe\">\n",
       "  <thead>\n",
       "    <tr style=\"text-align: right;\">\n",
       "      <th></th>\n",
       "      <th>DISTRICT</th>\n",
       "      <th>UNIFIED</th>\n",
       "      <th>HIGH</th>\n",
       "      <th>ELEMENTARY</th>\n",
       "      <th>PH</th>\n",
       "      <th>ADDR</th>\n",
       "      <th>PH2</th>\n",
       "      <th>PH3</th>\n",
       "      <th>STU</th>\n",
       "      <th>HI_ADDR</th>\n",
       "      <th>HI_PH</th>\n",
       "      <th>HI_STU</th>\n",
       "      <th>LABEL</th>\n",
       "      <th>geometry</th>\n",
       "    </tr>\n",
       "  </thead>\n",
       "  <tbody>\n",
       "    <tr>\n",
       "      <th>0</th>\n",
       "      <td>HERMOSA BEACH CITY ELEMENTARY</td>\n",
       "      <td></td>\n",
       "      <td></td>\n",
       "      <td>HERMOSA BEACH CITY ELEMENTARY</td>\n",
       "      <td>310 937 5877</td>\n",
       "      <td>1645 VALLEY DR HERMOSA BCH 90254</td>\n",
       "      <td></td>\n",
       "      <td></td>\n",
       "      <td>950</td>\n",
       "      <td></td>\n",
       "      <td></td>\n",
       "      <td></td>\n",
       "      <td>HERMOSA BEACH CITY ELEM</td>\n",
       "      <td>POLYGON ((-118.4048577253546 33.87782346394338...</td>\n",
       "    </tr>\n",
       "    <tr>\n",
       "      <th>1</th>\n",
       "      <td>CENTINELA VALLEY UNION HIGH/HAWTHORNE ELEMENTARY</td>\n",
       "      <td></td>\n",
       "      <td>CENTINELA VALLEY UNION HIGH</td>\n",
       "      <td>HAWTHORNE ELEMENTARY</td>\n",
       "      <td>310 676 2276</td>\n",
       "      <td>14120 S HAWTHORNE BL HAWTHORNE 90250</td>\n",
       "      <td></td>\n",
       "      <td></td>\n",
       "      <td>8145</td>\n",
       "      <td>14901 S INGLEWOOD AV LAWNDALE 90260</td>\n",
       "      <td>310 263 3200</td>\n",
       "      <td>6220</td>\n",
       "      <td>CENTINELA VALLEY UNION HIGH\\nHAWTHORNE ELEMENTARY</td>\n",
       "      <td>POLYGON ((-118.3607054443706 33.93093449396304...</td>\n",
       "    </tr>\n",
       "    <tr>\n",
       "      <th>2</th>\n",
       "      <td>CENTINELA VALLEY UNION HIGH/LAWNDALE ELEMENTARY</td>\n",
       "      <td></td>\n",
       "      <td>CENTINELA VALLEY UNION HIGH</td>\n",
       "      <td>LAWNDALE ELEMENTARY</td>\n",
       "      <td>310 973 1300</td>\n",
       "      <td>4161 W 147TH ST LAWNDALE 90260</td>\n",
       "      <td></td>\n",
       "      <td></td>\n",
       "      <td>5510</td>\n",
       "      <td>14901 S INGLEWOOD AV LAWNDALE 90260</td>\n",
       "      <td>310 263 3200</td>\n",
       "      <td>6220</td>\n",
       "      <td>CENTINELA VALLEY UNION HIGH\\nLAWNDALE ELEMENTARY</td>\n",
       "      <td>POLYGON ((-118.367294562588 33.90558198783078,...</td>\n",
       "    </tr>\n",
       "  </tbody>\n",
       "</table>\n",
       "</div>"
      ],
      "text/plain": [
       "                                           DISTRICT UNIFIED  \\\n",
       "0                     HERMOSA BEACH CITY ELEMENTARY           \n",
       "1  CENTINELA VALLEY UNION HIGH/HAWTHORNE ELEMENTARY           \n",
       "2   CENTINELA VALLEY UNION HIGH/LAWNDALE ELEMENTARY           \n",
       "\n",
       "                          HIGH                     ELEMENTARY            PH  \\\n",
       "0                               HERMOSA BEACH CITY ELEMENTARY  310 937 5877   \n",
       "1  CENTINELA VALLEY UNION HIGH           HAWTHORNE ELEMENTARY  310 676 2276   \n",
       "2  CENTINELA VALLEY UNION HIGH            LAWNDALE ELEMENTARY  310 973 1300   \n",
       "\n",
       "                                   ADDR PH2 PH3   STU  \\\n",
       "0      1645 VALLEY DR HERMOSA BCH 90254           950   \n",
       "1  14120 S HAWTHORNE BL HAWTHORNE 90250          8145   \n",
       "2        4161 W 147TH ST LAWNDALE 90260          5510   \n",
       "\n",
       "                               HI_ADDR         HI_PH HI_STU  \\\n",
       "0                                                             \n",
       "1  14901 S INGLEWOOD AV LAWNDALE 90260  310 263 3200   6220   \n",
       "2  14901 S INGLEWOOD AV LAWNDALE 90260  310 263 3200   6220   \n",
       "\n",
       "                                               LABEL  \\\n",
       "0                            HERMOSA BEACH CITY ELEM   \n",
       "1  CENTINELA VALLEY UNION HIGH\\nHAWTHORNE ELEMENTARY   \n",
       "2   CENTINELA VALLEY UNION HIGH\\nLAWNDALE ELEMENTARY   \n",
       "\n",
       "                                            geometry  \n",
       "0  POLYGON ((-118.4048577253546 33.87782346394338...  \n",
       "1  POLYGON ((-118.3607054443706 33.93093449396304...  \n",
       "2  POLYGON ((-118.367294562588 33.90558198783078,...  "
      ]
     },
     "execution_count": 13,
     "metadata": {},
     "output_type": "execute_result"
    }
   ],
   "source": [
    "#School District Boundaries (2011)\n",
    "url = \"http://egis3.lacounty.gov/dataportal/wp-content/uploads/2012/01/\" \\\n",
    "      \"rrcc_school_districts1.zip\"\n",
    "school_districts = download_egis3(url, 'rrcc_school_districts1.zip', 'school_districts', 'rrcc_school_districts.shp')\n",
    "dfname_list.append('school_districts')\n",
    "\n",
    "checkdf(school_districts)"
   ]
  },
  {
   "cell_type": "code",
   "execution_count": 17,
   "metadata": {
    "ExecuteTime": {
     "end_time": "2018-01-04T16:57:58.922593Z",
     "start_time": "2018-01-04T16:57:58.870574Z"
    }
   },
   "outputs": [
    {
     "data": {
      "text/html": [
       "<div>\n",
       "<style scoped>\n",
       "    .dataframe tbody tr th:only-of-type {\n",
       "        vertical-align: middle;\n",
       "    }\n",
       "\n",
       "    .dataframe tbody tr th {\n",
       "        vertical-align: top;\n",
       "    }\n",
       "\n",
       "    .dataframe thead th {\n",
       "        text-align: right;\n",
       "    }\n",
       "</style>\n",
       "<table border=\"1\" class=\"dataframe\">\n",
       "  <thead>\n",
       "    <tr style=\"text-align: right;\">\n",
       "      <th></th>\n",
       "      <th>DISTRICT</th>\n",
       "      <th>geometry</th>\n",
       "    </tr>\n",
       "  </thead>\n",
       "  <tbody>\n",
       "    <tr>\n",
       "      <th>0</th>\n",
       "      <td>HERMOSA BEACH CITY ELEMENTARY</td>\n",
       "      <td>POLYGON ((-118.4048577253546 33.87782346394338...</td>\n",
       "    </tr>\n",
       "    <tr>\n",
       "      <th>1</th>\n",
       "      <td>CENTINELA VALLEY UNION HIGH/HAWTHORNE ELEMENTARY</td>\n",
       "      <td>POLYGON ((-118.3607054443706 33.93093449396304...</td>\n",
       "    </tr>\n",
       "    <tr>\n",
       "      <th>2</th>\n",
       "      <td>CENTINELA VALLEY UNION HIGH/LAWNDALE ELEMENTARY</td>\n",
       "      <td>POLYGON ((-118.367294562588 33.90558198783078,...</td>\n",
       "    </tr>\n",
       "  </tbody>\n",
       "</table>\n",
       "</div>"
      ],
      "text/plain": [
       "                                           DISTRICT  \\\n",
       "0                     HERMOSA BEACH CITY ELEMENTARY   \n",
       "1  CENTINELA VALLEY UNION HIGH/HAWTHORNE ELEMENTARY   \n",
       "2   CENTINELA VALLEY UNION HIGH/LAWNDALE ELEMENTARY   \n",
       "\n",
       "                                            geometry  \n",
       "0  POLYGON ((-118.4048577253546 33.87782346394338...  \n",
       "1  POLYGON ((-118.3607054443706 33.93093449396304...  \n",
       "2  POLYGON ((-118.367294562588 33.90558198783078,...  "
      ]
     },
     "execution_count": 17,
     "metadata": {},
     "output_type": "execute_result"
    }
   ],
   "source": [
    "droplist = ['UNIFIED', 'HIGH', 'ELEMENTARY', 'PH', 'ADDR', 'PH2', 'PH3',\n",
    "       'STU', 'HI_ADDR', 'HI_PH', 'HI_STU', 'LABEL']\n",
    "cleandf(school_districts, droplist)"
   ]
  },
  {
   "cell_type": "raw",
   "metadata": {
    "ExecuteTime": {
     "end_time": "2018-01-04T16:58:32.609025Z",
     "start_time": "2018-01-04T16:58:32.263551Z"
    }
   },
   "source": [
    "school_districts.plot()"
   ]
  },
  {
   "cell_type": "code",
   "execution_count": 19,
   "metadata": {
    "ExecuteTime": {
     "end_time": "2018-01-04T20:24:28.973519Z",
     "start_time": "2018-01-04T20:24:27.334607Z"
    }
   },
   "outputs": [
    {
     "name": "stdout",
     "output_type": "stream",
     "text": [
      "Total polygon number: 16\n",
      "number of null and unique values in each column:\n",
      "DISTRICT: null 0, unique 16\n",
      "NAME: null 0, unique 16\n",
      "LABEL: null 0, unique 16\n"
     ]
    },
    {
     "data": {
      "text/html": [
       "<div>\n",
       "<style scoped>\n",
       "    .dataframe tbody tr th:only-of-type {\n",
       "        vertical-align: middle;\n",
       "    }\n",
       "\n",
       "    .dataframe tbody tr th {\n",
       "        vertical-align: top;\n",
       "    }\n",
       "\n",
       "    .dataframe thead th {\n",
       "        text-align: right;\n",
       "    }\n",
       "</style>\n",
       "<table border=\"1\" class=\"dataframe\">\n",
       "  <thead>\n",
       "    <tr style=\"text-align: right;\">\n",
       "      <th></th>\n",
       "      <th>DISTRICT</th>\n",
       "      <th>NAME</th>\n",
       "      <th>LABEL</th>\n",
       "      <th>geometry</th>\n",
       "    </tr>\n",
       "  </thead>\n",
       "  <tbody>\n",
       "    <tr>\n",
       "      <th>0</th>\n",
       "      <td>16</td>\n",
       "      <td>TULKE</td>\n",
       "      <td>Disrict 16</td>\n",
       "      <td>POLYGON ((-117.6671490011134 34.75005899908675...</td>\n",
       "    </tr>\n",
       "    <tr>\n",
       "      <th>1</th>\n",
       "      <td>18</td>\n",
       "      <td>LASFE</td>\n",
       "      <td>Disrict 18</td>\n",
       "      <td>POLYGON ((-118.3611510010984 34.19465099908038...</td>\n",
       "    </tr>\n",
       "    <tr>\n",
       "      <th>2</th>\n",
       "      <td>20</td>\n",
       "      <td>POMSB</td>\n",
       "      <td>Disrict 20</td>\n",
       "      <td>POLYGON ((-117.7676900009356 34.02350599909427...</td>\n",
       "    </tr>\n",
       "  </tbody>\n",
       "</table>\n",
       "</div>"
      ],
      "text/plain": [
       "  DISTRICT   NAME       LABEL  \\\n",
       "0       16  TULKE  Disrict 16   \n",
       "1       18  LASFE  Disrict 18   \n",
       "2       20  POMSB  Disrict 20   \n",
       "\n",
       "                                            geometry  \n",
       "0  POLYGON ((-117.6671490011134 34.75005899908675...  \n",
       "1  POLYGON ((-118.3611510010984 34.19465099908038...  \n",
       "2  POLYGON ((-117.7676900009356 34.02350599909427...  "
      ]
     },
     "execution_count": 19,
     "metadata": {},
     "output_type": "execute_result"
    }
   ],
   "source": [
    "#California State Senate Districts (2011)\n",
    "url = \"http://egis3.lacounty.gov/dataportal/wp-content/uploads/2011/11/\" \\\n",
    "      \"state-senate-2011.zip\"\n",
    "state_senate = download_egis3(url, 'state-senate-2011.zip', 'state_senate', 'senate.shp')\n",
    "dfname_list.append('state_senate')\n",
    "\n",
    "checkdf(state_senate)"
   ]
  },
  {
   "cell_type": "code",
   "execution_count": 20,
   "metadata": {
    "ExecuteTime": {
     "end_time": "2018-01-04T20:25:33.377119Z",
     "start_time": "2018-01-04T20:25:33.342350Z"
    }
   },
   "outputs": [
    {
     "data": {
      "text/html": [
       "<div>\n",
       "<style scoped>\n",
       "    .dataframe tbody tr th:only-of-type {\n",
       "        vertical-align: middle;\n",
       "    }\n",
       "\n",
       "    .dataframe tbody tr th {\n",
       "        vertical-align: top;\n",
       "    }\n",
       "\n",
       "    .dataframe thead th {\n",
       "        text-align: right;\n",
       "    }\n",
       "</style>\n",
       "<table border=\"1\" class=\"dataframe\">\n",
       "  <thead>\n",
       "    <tr style=\"text-align: right;\">\n",
       "      <th></th>\n",
       "      <th>DISTRICT</th>\n",
       "      <th>NAME</th>\n",
       "      <th>geometry</th>\n",
       "    </tr>\n",
       "  </thead>\n",
       "  <tbody>\n",
       "    <tr>\n",
       "      <th>0</th>\n",
       "      <td>16</td>\n",
       "      <td>TULKE</td>\n",
       "      <td>POLYGON ((-117.6671490011134 34.75005899908675...</td>\n",
       "    </tr>\n",
       "    <tr>\n",
       "      <th>1</th>\n",
       "      <td>18</td>\n",
       "      <td>LASFE</td>\n",
       "      <td>POLYGON ((-118.3611510010984 34.19465099908038...</td>\n",
       "    </tr>\n",
       "    <tr>\n",
       "      <th>2</th>\n",
       "      <td>20</td>\n",
       "      <td>POMSB</td>\n",
       "      <td>POLYGON ((-117.7676900009356 34.02350599909427...</td>\n",
       "    </tr>\n",
       "  </tbody>\n",
       "</table>\n",
       "</div>"
      ],
      "text/plain": [
       "  DISTRICT   NAME                                           geometry\n",
       "0       16  TULKE  POLYGON ((-117.6671490011134 34.75005899908675...\n",
       "1       18  LASFE  POLYGON ((-118.3611510010984 34.19465099908038...\n",
       "2       20  POMSB  POLYGON ((-117.7676900009356 34.02350599909427..."
      ]
     },
     "execution_count": 20,
     "metadata": {},
     "output_type": "execute_result"
    }
   ],
   "source": [
    "droplist = ['LABEL']\n",
    "cleandf(state_senate, droplist)"
   ]
  },
  {
   "cell_type": "raw",
   "metadata": {
    "ExecuteTime": {
     "end_time": "2018-01-04T20:26:12.366108Z",
     "start_time": "2018-01-04T20:26:12.125805Z"
    }
   },
   "source": [
    "state_senate.plot()"
   ]
  },
  {
   "cell_type": "code",
   "execution_count": 22,
   "metadata": {
    "ExecuteTime": {
     "end_time": "2018-01-04T20:28:01.425214Z",
     "start_time": "2018-01-04T20:27:59.681721Z"
    }
   },
   "outputs": [
    {
     "name": "stdout",
     "output_type": "stream",
     "text": [
      "Total polygon number: 18\n",
      "number of null and unique values in each column:\n",
      "DIST_CONG: null 0, unique 18\n",
      "Shape_area: null 0, unique 18\n",
      "Shape_len: null 0, unique 18\n"
     ]
    },
    {
     "data": {
      "text/html": [
       "<div>\n",
       "<style scoped>\n",
       "    .dataframe tbody tr th:only-of-type {\n",
       "        vertical-align: middle;\n",
       "    }\n",
       "\n",
       "    .dataframe tbody tr th {\n",
       "        vertical-align: top;\n",
       "    }\n",
       "\n",
       "    .dataframe thead th {\n",
       "        text-align: right;\n",
       "    }\n",
       "</style>\n",
       "<table border=\"1\" class=\"dataframe\">\n",
       "  <thead>\n",
       "    <tr style=\"text-align: right;\">\n",
       "      <th></th>\n",
       "      <th>DIST_CONG</th>\n",
       "      <th>Shape_area</th>\n",
       "      <th>Shape_len</th>\n",
       "      <th>geometry</th>\n",
       "    </tr>\n",
       "  </thead>\n",
       "  <tbody>\n",
       "    <tr>\n",
       "      <th>0</th>\n",
       "      <td>23</td>\n",
       "      <td>5.447776e+09</td>\n",
       "      <td>4.986277e+05</td>\n",
       "      <td>POLYGON ((-117.7736888188639 34.82248828448963...</td>\n",
       "    </tr>\n",
       "    <tr>\n",
       "      <th>1</th>\n",
       "      <td>25</td>\n",
       "      <td>4.598790e+10</td>\n",
       "      <td>1.449675e+06</td>\n",
       "      <td>(POLYGON ((-117.7668535002114 34.8232750430814...</td>\n",
       "    </tr>\n",
       "    <tr>\n",
       "      <th>2</th>\n",
       "      <td>26</td>\n",
       "      <td>1.535730e+08</td>\n",
       "      <td>6.420494e+04</td>\n",
       "      <td>POLYGON ((-118.7888893009787 34.16821405941698...</td>\n",
       "    </tr>\n",
       "  </tbody>\n",
       "</table>\n",
       "</div>"
      ],
      "text/plain": [
       "   DIST_CONG    Shape_area     Shape_len  \\\n",
       "0         23  5.447776e+09  4.986277e+05   \n",
       "1         25  4.598790e+10  1.449675e+06   \n",
       "2         26  1.535730e+08  6.420494e+04   \n",
       "\n",
       "                                            geometry  \n",
       "0  POLYGON ((-117.7736888188639 34.82248828448963...  \n",
       "1  (POLYGON ((-117.7668535002114 34.8232750430814...  \n",
       "2  POLYGON ((-118.7888893009787 34.16821405941698...  "
      ]
     },
     "execution_count": 22,
     "metadata": {},
     "output_type": "execute_result"
    }
   ],
   "source": [
    "#US Congressional Districts\n",
    "url = \"http://egis3.lacounty.gov/dataportal/wp-content/uploads/\" \\\n",
    "      \"ShapefilePackages/RRCC_CONGRESSIONAL_DISTRICTS.zip\"\n",
    "congressional_districts = download_egis3(url, 'RRCC_CONGRESSIONAL_DISTRICTS.zip', 'congressional_districts', 'RRCC_CONGRESSIONAL_DISTRICTS.shp')\n",
    "dfname_list.append('congressional_districts')\n",
    "\n",
    "checkdf(congressional_districts)"
   ]
  },
  {
   "cell_type": "code",
   "execution_count": 24,
   "metadata": {
    "ExecuteTime": {
     "end_time": "2018-01-04T20:28:41.702962Z",
     "start_time": "2018-01-04T20:28:41.653590Z"
    }
   },
   "outputs": [
    {
     "data": {
      "text/html": [
       "<div>\n",
       "<style scoped>\n",
       "    .dataframe tbody tr th:only-of-type {\n",
       "        vertical-align: middle;\n",
       "    }\n",
       "\n",
       "    .dataframe tbody tr th {\n",
       "        vertical-align: top;\n",
       "    }\n",
       "\n",
       "    .dataframe thead th {\n",
       "        text-align: right;\n",
       "    }\n",
       "</style>\n",
       "<table border=\"1\" class=\"dataframe\">\n",
       "  <thead>\n",
       "    <tr style=\"text-align: right;\">\n",
       "      <th></th>\n",
       "      <th>DIST_CONG</th>\n",
       "      <th>geometry</th>\n",
       "    </tr>\n",
       "  </thead>\n",
       "  <tbody>\n",
       "    <tr>\n",
       "      <th>0</th>\n",
       "      <td>23</td>\n",
       "      <td>POLYGON ((-117.7736888188639 34.82248828448963...</td>\n",
       "    </tr>\n",
       "    <tr>\n",
       "      <th>1</th>\n",
       "      <td>25</td>\n",
       "      <td>(POLYGON ((-117.7668535002114 34.8232750430814...</td>\n",
       "    </tr>\n",
       "    <tr>\n",
       "      <th>2</th>\n",
       "      <td>26</td>\n",
       "      <td>POLYGON ((-118.7888893009787 34.16821405941698...</td>\n",
       "    </tr>\n",
       "  </tbody>\n",
       "</table>\n",
       "</div>"
      ],
      "text/plain": [
       "   DIST_CONG                                           geometry\n",
       "0         23  POLYGON ((-117.7736888188639 34.82248828448963...\n",
       "1         25  (POLYGON ((-117.7668535002114 34.8232750430814...\n",
       "2         26  POLYGON ((-118.7888893009787 34.16821405941698..."
      ]
     },
     "execution_count": 24,
     "metadata": {},
     "output_type": "execute_result"
    }
   ],
   "source": [
    "droplist = []\n",
    "cleandf(congressional_districts, droplist)"
   ]
  },
  {
   "cell_type": "raw",
   "metadata": {
    "ExecuteTime": {
     "end_time": "2018-01-04T20:31:35.518751Z",
     "start_time": "2018-01-04T20:31:35.261537Z"
    }
   },
   "source": [
    "congressional_districts.plot()"
   ]
  },
  {
   "cell_type": "code",
   "execution_count": 63,
   "metadata": {
    "ExecuteTime": {
     "end_time": "2018-01-05T01:49:28.933615Z",
     "start_time": "2018-01-05T01:49:23.358723Z"
    }
   },
   "outputs": [
    {
     "name": "stdout",
     "output_type": "stream",
     "text": [
      "Total polygon number: 311\n",
      "number of null and unique values in each column:\n",
      "OBJECTID: null 0, unique 311\n",
      "ZIPCODE: null 0, unique 311\n",
      "Shape_area: null 0, unique 311\n",
      "Shape_len: null 0, unique 311\n"
     ]
    },
    {
     "data": {
      "text/html": [
       "<div>\n",
       "<style scoped>\n",
       "    .dataframe tbody tr th:only-of-type {\n",
       "        vertical-align: middle;\n",
       "    }\n",
       "\n",
       "    .dataframe tbody tr th {\n",
       "        vertical-align: top;\n",
       "    }\n",
       "\n",
       "    .dataframe thead th {\n",
       "        text-align: right;\n",
       "    }\n",
       "</style>\n",
       "<table border=\"1\" class=\"dataframe\">\n",
       "  <thead>\n",
       "    <tr style=\"text-align: right;\">\n",
       "      <th></th>\n",
       "      <th>OBJECTID</th>\n",
       "      <th>ZIPCODE</th>\n",
       "      <th>Shape_area</th>\n",
       "      <th>Shape_len</th>\n",
       "      <th>geometry</th>\n",
       "    </tr>\n",
       "  </thead>\n",
       "  <tbody>\n",
       "    <tr>\n",
       "      <th>0</th>\n",
       "      <td>1</td>\n",
       "      <td>90001</td>\n",
       "      <td>9.556340e+07</td>\n",
       "      <td>48677.278478</td>\n",
       "      <td>POLYGON ((-118.2433683541707 33.98923126419061...</td>\n",
       "    </tr>\n",
       "    <tr>\n",
       "      <th>1</th>\n",
       "      <td>2</td>\n",
       "      <td>90002</td>\n",
       "      <td>8.275222e+07</td>\n",
       "      <td>44972.017035</td>\n",
       "      <td>POLYGON ((-118.2342946311994 33.9610050725129,...</td>\n",
       "    </tr>\n",
       "    <tr>\n",
       "      <th>2</th>\n",
       "      <td>3</td>\n",
       "      <td>90003</td>\n",
       "      <td>1.026431e+08</td>\n",
       "      <td>63303.481758</td>\n",
       "      <td>POLYGON ((-118.2828356317466 33.97596170409104...</td>\n",
       "    </tr>\n",
       "  </tbody>\n",
       "</table>\n",
       "</div>"
      ],
      "text/plain": [
       "   OBJECTID ZIPCODE    Shape_area     Shape_len  \\\n",
       "0         1   90001  9.556340e+07  48677.278478   \n",
       "1         2   90002  8.275222e+07  44972.017035   \n",
       "2         3   90003  1.026431e+08  63303.481758   \n",
       "\n",
       "                                            geometry  \n",
       "0  POLYGON ((-118.2433683541707 33.98923126419061...  \n",
       "1  POLYGON ((-118.2342946311994 33.9610050725129,...  \n",
       "2  POLYGON ((-118.2828356317466 33.97596170409104...  "
      ]
     },
     "execution_count": 63,
     "metadata": {},
     "output_type": "execute_result"
    }
   ],
   "source": [
    "#ZIP Code Boundaries\n",
    "url = \"http://egis3.lacounty.gov/dataportal/wp-content/uploads/2011/01/\" \\\n",
    "      \"CAMS_ZIPCODE_PARCEL_SPECIFIC.zip\"\n",
    "zip_code = download_egis3(url, 'CAMS_ZIPCODE_PARCEL_SPECIFIC.zip', 'zip_code', 'CAMS_ZIPCODE_PARCEL_SPECIFIC.shp')\n",
    "dfname_list.append('zip_code')\n",
    "checkdf(zip_code)"
   ]
  },
  {
   "cell_type": "code",
   "execution_count": 64,
   "metadata": {
    "ExecuteTime": {
     "end_time": "2018-01-05T01:49:58.657820Z",
     "start_time": "2018-01-05T01:49:58.626853Z"
    }
   },
   "outputs": [
    {
     "data": {
      "text/html": [
       "<div>\n",
       "<style scoped>\n",
       "    .dataframe tbody tr th:only-of-type {\n",
       "        vertical-align: middle;\n",
       "    }\n",
       "\n",
       "    .dataframe tbody tr th {\n",
       "        vertical-align: top;\n",
       "    }\n",
       "\n",
       "    .dataframe thead th {\n",
       "        text-align: right;\n",
       "    }\n",
       "</style>\n",
       "<table border=\"1\" class=\"dataframe\">\n",
       "  <thead>\n",
       "    <tr style=\"text-align: right;\">\n",
       "      <th></th>\n",
       "      <th>ZIPCODE</th>\n",
       "      <th>geometry</th>\n",
       "    </tr>\n",
       "  </thead>\n",
       "  <tbody>\n",
       "    <tr>\n",
       "      <th>0</th>\n",
       "      <td>90001</td>\n",
       "      <td>POLYGON ((-118.2433683541707 33.98923126419061...</td>\n",
       "    </tr>\n",
       "    <tr>\n",
       "      <th>1</th>\n",
       "      <td>90002</td>\n",
       "      <td>POLYGON ((-118.2342946311994 33.9610050725129,...</td>\n",
       "    </tr>\n",
       "    <tr>\n",
       "      <th>2</th>\n",
       "      <td>90003</td>\n",
       "      <td>POLYGON ((-118.2828356317466 33.97596170409104...</td>\n",
       "    </tr>\n",
       "  </tbody>\n",
       "</table>\n",
       "</div>"
      ],
      "text/plain": [
       "  ZIPCODE                                           geometry\n",
       "0   90001  POLYGON ((-118.2433683541707 33.98923126419061...\n",
       "1   90002  POLYGON ((-118.2342946311994 33.9610050725129,...\n",
       "2   90003  POLYGON ((-118.2828356317466 33.97596170409104..."
      ]
     },
     "execution_count": 64,
     "metadata": {},
     "output_type": "execute_result"
    }
   ],
   "source": [
    "droplist = []\n",
    "cleandf(zip_code, droplist)"
   ]
  },
  {
   "cell_type": "raw",
   "metadata": {
    "ExecuteTime": {
     "end_time": "2018-01-05T01:50:37.343082Z",
     "start_time": "2018-01-05T01:50:36.892177Z"
    }
   },
   "source": [
    "zip_code.plot()"
   ]
  },
  {
   "cell_type": "markdown",
   "metadata": {},
   "source": [
    "#### Including geometries as:\n",
    "- Public Use Microdata Areas (PUMA)\n",
    "- [LAcounty_COMMUNITIES](https://egis3.lacounty.gov/dataportal/2010/10/21/citycommunity-boundaries/)\n",
    "- [Split 2010 Block Group/City – Community Statistical Area (formerly BASA)](https://egis3.lacounty.gov/dataportal/2016/01/18/split-2010-block-groupcity-basa/)\n",
    "- [Town Council / Community Group](https://egis3.lacounty.gov/dataportal/2014/12/29/town-council-areas/)\n",
    "- [Los Angeles County Fire Department Division Boundaries](http://egis3.lacounty.gov/dataportal/2016/04/28/los-angeles-county-fire-department-division-boundaties/)\n",
    "- [Los Angeles County Fire Department Battalion Boundaries](http://egis3.lacounty.gov/dataportal/2016/04/28/los-angeles-county-fire-department-battalion-boundaries/)"
   ]
  },
  {
   "cell_type": "code",
   "execution_count": 77,
   "metadata": {
    "ExecuteTime": {
     "end_time": "2018-01-05T04:17:09.449668Z",
     "start_time": "2018-01-05T04:17:07.340451Z"
    }
   },
   "outputs": [
    {
     "name": "stdout",
     "output_type": "stream",
     "text": [
      "URL transformed to HTTPS due to an HSTS policy\n",
      "--2018-01-04 23:17:07--  https://www2.census.gov/geo/tiger/GENZ2016/shp/cb_2016_06_puma10_500k.zip\n",
      "Resolving www2.census.gov... 2600:1408:24:599::208c, 104.121.83.95\n",
      "Connecting to www2.census.gov|2600:1408:24:599::208c|:443... connected.\n",
      "HTTP request sent, awaiting response... 200 OK\n",
      "Length: 742516 (725K) [application/zip]\n",
      "Saving to: 'cb_2016_06_puma10_500k.zip.3'\n",
      "\n",
      "cb_2016_06_puma10_5 100%[===================>] 725.11K  3.65MB/s    in 0.2s    \n",
      "\n",
      "2018-01-04 23:17:07 (3.65 MB/s) - 'cb_2016_06_puma10_500k.zip.3' saved [742516/742516]\n",
      "\n",
      "Total polygon number: 265\n",
      "number of null and unique values in each column:\n",
      "STATEFP10: null 0, unique 1\n",
      "PUMACE10: null 0, unique 265\n",
      "AFFGEOID10: null 0, unique 265\n",
      "GEOID10: null 0, unique 265\n",
      "NAME10: null 0, unique 265\n",
      "LSAD10: null 0, unique 1\n",
      "ALAND10: null 0, unique 265\n",
      "AWATER10: null 0, unique 254\n"
     ]
    },
    {
     "data": {
      "text/html": [
       "<div>\n",
       "<style scoped>\n",
       "    .dataframe tbody tr th:only-of-type {\n",
       "        vertical-align: middle;\n",
       "    }\n",
       "\n",
       "    .dataframe tbody tr th {\n",
       "        vertical-align: top;\n",
       "    }\n",
       "\n",
       "    .dataframe thead th {\n",
       "        text-align: right;\n",
       "    }\n",
       "</style>\n",
       "<table border=\"1\" class=\"dataframe\">\n",
       "  <thead>\n",
       "    <tr style=\"text-align: right;\">\n",
       "      <th></th>\n",
       "      <th>STATEFP10</th>\n",
       "      <th>PUMACE10</th>\n",
       "      <th>AFFGEOID10</th>\n",
       "      <th>GEOID10</th>\n",
       "      <th>NAME10</th>\n",
       "      <th>LSAD10</th>\n",
       "      <th>ALAND10</th>\n",
       "      <th>AWATER10</th>\n",
       "      <th>geometry</th>\n",
       "    </tr>\n",
       "  </thead>\n",
       "  <tbody>\n",
       "    <tr>\n",
       "      <th>0</th>\n",
       "      <td>06</td>\n",
       "      <td>01907</td>\n",
       "      <td>7950000US0601907</td>\n",
       "      <td>0601907</td>\n",
       "      <td>Fresno County (East)--Sanger, Reedley &amp; Parlie...</td>\n",
       "      <td>P0</td>\n",
       "      <td>7647644973</td>\n",
       "      <td>117294872</td>\n",
       "      <td>POLYGON ((-119.745652 36.938998, -119.743741 3...</td>\n",
       "    </tr>\n",
       "    <tr>\n",
       "      <th>1</th>\n",
       "      <td>06</td>\n",
       "      <td>00702</td>\n",
       "      <td>7950000US0600702</td>\n",
       "      <td>0600702</td>\n",
       "      <td>Butte County (Southeast)--Oroville City &amp; Para...</td>\n",
       "      <td>P0</td>\n",
       "      <td>2918880948</td>\n",
       "      <td>94035819</td>\n",
       "      <td>POLYGON ((-121.908697 39.30799, -121.907403 39...</td>\n",
       "    </tr>\n",
       "    <tr>\n",
       "      <th>2</th>\n",
       "      <td>06</td>\n",
       "      <td>07307</td>\n",
       "      <td>7950000US0607307</td>\n",
       "      <td>0607307</td>\n",
       "      <td>San Diego County (Central)--Lakeside, Winter G...</td>\n",
       "      <td>P0</td>\n",
       "      <td>632518078</td>\n",
       "      <td>8339612</td>\n",
       "      <td>POLYGON ((-116.993347 32.892625, -116.993058 3...</td>\n",
       "    </tr>\n",
       "  </tbody>\n",
       "</table>\n",
       "</div>"
      ],
      "text/plain": [
       "  STATEFP10 PUMACE10        AFFGEOID10  GEOID10  \\\n",
       "0        06    01907  7950000US0601907  0601907   \n",
       "1        06    00702  7950000US0600702  0600702   \n",
       "2        06    07307  7950000US0607307  0607307   \n",
       "\n",
       "                                              NAME10 LSAD10     ALAND10  \\\n",
       "0  Fresno County (East)--Sanger, Reedley & Parlie...     P0  7647644973   \n",
       "1  Butte County (Southeast)--Oroville City & Para...     P0  2918880948   \n",
       "2  San Diego County (Central)--Lakeside, Winter G...     P0   632518078   \n",
       "\n",
       "    AWATER10                                           geometry  \n",
       "0  117294872  POLYGON ((-119.745652 36.938998, -119.743741 3...  \n",
       "1   94035819  POLYGON ((-121.908697 39.30799, -121.907403 39...  \n",
       "2    8339612  POLYGON ((-116.993347 32.892625, -116.993058 3...  "
      ]
     },
     "execution_count": 77,
     "metadata": {},
     "output_type": "execute_result"
    }
   ],
   "source": [
    "!wget http://www2.census.gov/geo/tiger/GENZ2016/shp/cb_2016_06_puma10_500k.zip\n",
    "puma = read_census('cb_2016_06_puma10_500k.zip', 'puma', 'cb_2016_06_puma10_500k.shp')\n",
    "dfname_list.append('puma')\n",
    "\n",
    "checkdf(puma)"
   ]
  },
  {
   "cell_type": "raw",
   "metadata": {
    "ExecuteTime": {
     "end_time": "2018-01-04T21:12:26.069939Z",
     "start_time": "2018-01-04T21:12:25.957911Z"
    }
   },
   "source": [
    "#PUMA\n",
    "#manually download\n",
    "url = \"http://www2.census.gov/geo/tiger/GENZ2016/shp/\" \\\n",
    "      \"cb_2016_06_puma10_500k.zip\"\n",
    "puma = gpd.read_file('cb_2016_06_puma10_500k/cb_2016_06_puma10_500k.shp')\n",
    "\n",
    "#    df.crs = from_epsg()\n",
    "#    df = df.to_crs(epsg=4326)\n",
    "dfname_list.append('puma')\n",
    "\n",
    "checkdf(puma)"
   ]
  },
  {
   "cell_type": "code",
   "execution_count": 32,
   "metadata": {
    "ExecuteTime": {
     "end_time": "2018-01-04T21:13:11.936180Z",
     "start_time": "2018-01-04T21:13:11.931239Z"
    }
   },
   "outputs": [
    {
     "data": {
      "text/plain": [
       "Index(['STATEFP10', 'PUMACE10', 'AFFGEOID10', 'GEOID10', 'NAME10', 'LSAD10',\n",
       "       'ALAND10', 'AWATER10', 'geometry'],\n",
       "      dtype='object')"
      ]
     },
     "execution_count": 32,
     "metadata": {},
     "output_type": "execute_result"
    }
   ],
   "source": [
    "puma.columns"
   ]
  },
  {
   "cell_type": "code",
   "execution_count": 33,
   "metadata": {
    "ExecuteTime": {
     "end_time": "2018-01-04T21:16:17.630219Z",
     "start_time": "2018-01-04T21:16:17.559754Z"
    }
   },
   "outputs": [
    {
     "data": {
      "text/html": [
       "<div>\n",
       "<style scoped>\n",
       "    .dataframe tbody tr th:only-of-type {\n",
       "        vertical-align: middle;\n",
       "    }\n",
       "\n",
       "    .dataframe tbody tr th {\n",
       "        vertical-align: top;\n",
       "    }\n",
       "\n",
       "    .dataframe thead th {\n",
       "        text-align: right;\n",
       "    }\n",
       "</style>\n",
       "<table border=\"1\" class=\"dataframe\">\n",
       "  <thead>\n",
       "    <tr style=\"text-align: right;\">\n",
       "      <th></th>\n",
       "      <th>PUMACE10</th>\n",
       "      <th>NAME10</th>\n",
       "      <th>geometry</th>\n",
       "    </tr>\n",
       "  </thead>\n",
       "  <tbody>\n",
       "    <tr>\n",
       "      <th>0</th>\n",
       "      <td>01907</td>\n",
       "      <td>Fresno County (East)--Sanger, Reedley &amp; Parlie...</td>\n",
       "      <td>POLYGON ((-119.745652 36.938998, -119.743741 3...</td>\n",
       "    </tr>\n",
       "    <tr>\n",
       "      <th>1</th>\n",
       "      <td>00702</td>\n",
       "      <td>Butte County (Southeast)--Oroville City &amp; Para...</td>\n",
       "      <td>POLYGON ((-121.908697 39.30799, -121.907403 39...</td>\n",
       "    </tr>\n",
       "    <tr>\n",
       "      <th>2</th>\n",
       "      <td>07307</td>\n",
       "      <td>San Diego County (Central)--Lakeside, Winter G...</td>\n",
       "      <td>POLYGON ((-116.993347 32.892625, -116.993058 3...</td>\n",
       "    </tr>\n",
       "  </tbody>\n",
       "</table>\n",
       "</div>"
      ],
      "text/plain": [
       "  PUMACE10                                             NAME10  \\\n",
       "0    01907  Fresno County (East)--Sanger, Reedley & Parlie...   \n",
       "1    00702  Butte County (Southeast)--Oroville City & Para...   \n",
       "2    07307  San Diego County (Central)--Lakeside, Winter G...   \n",
       "\n",
       "                                            geometry  \n",
       "0  POLYGON ((-119.745652 36.938998, -119.743741 3...  \n",
       "1  POLYGON ((-121.908697 39.30799, -121.907403 39...  \n",
       "2  POLYGON ((-116.993347 32.892625, -116.993058 3...  "
      ]
     },
     "execution_count": 33,
     "metadata": {},
     "output_type": "execute_result"
    }
   ],
   "source": [
    "droplist = ['STATEFP10', 'AFFGEOID10', 'GEOID10', 'LSAD10',\n",
    "       'ALAND10', 'AWATER10']\n",
    "cleandf(puma, droplist)"
   ]
  },
  {
   "cell_type": "raw",
   "metadata": {
    "ExecuteTime": {
     "end_time": "2018-01-05T02:52:08.297055Z",
     "start_time": "2018-01-05T02:52:07.712228Z"
    }
   },
   "source": [
    "puma.plot()"
   ]
  },
  {
   "cell_type": "code",
   "execution_count": 35,
   "metadata": {
    "ExecuteTime": {
     "end_time": "2018-01-04T22:21:49.053631Z",
     "start_time": "2018-01-04T22:21:45.170528Z"
    }
   },
   "outputs": [
    {
     "name": "stdout",
     "output_type": "stream",
     "text": [
      "Total polygon number: 353\n",
      "number of null and unique values in each column:\n",
      "COMMTYPE: null 0, unique 3\n",
      "NAME: null 0, unique 206\n",
      "COLOR: null 0, unique 7\n",
      "PO_NAME: null 0, unique 177\n",
      "STATNAME: null 0, unique 193\n",
      "X_CENTER: null 0, unique 353\n",
      "Y_CENTER: null 0, unique 353\n",
      "ST_NAME: null 0, unique 88\n",
      "LABEL_CITY: null 0, unique 89\n",
      "LABEL_COMM: null 0, unique 143\n",
      "AREA_SQMI: null 0, unique 322\n",
      "Shape_area: null 0, unique 353\n",
      "Shape_len: null 0, unique 353\n"
     ]
    },
    {
     "data": {
      "text/html": [
       "<div>\n",
       "<style scoped>\n",
       "    .dataframe tbody tr th:only-of-type {\n",
       "        vertical-align: middle;\n",
       "    }\n",
       "\n",
       "    .dataframe tbody tr th {\n",
       "        vertical-align: top;\n",
       "    }\n",
       "\n",
       "    .dataframe thead th {\n",
       "        text-align: right;\n",
       "    }\n",
       "</style>\n",
       "<table border=\"1\" class=\"dataframe\">\n",
       "  <thead>\n",
       "    <tr style=\"text-align: right;\">\n",
       "      <th></th>\n",
       "      <th>COMMTYPE</th>\n",
       "      <th>NAME</th>\n",
       "      <th>COLOR</th>\n",
       "      <th>PO_NAME</th>\n",
       "      <th>STATNAME</th>\n",
       "      <th>X_CENTER</th>\n",
       "      <th>Y_CENTER</th>\n",
       "      <th>ST_NAME</th>\n",
       "      <th>LABEL_CITY</th>\n",
       "      <th>LABEL_COMM</th>\n",
       "      <th>AREA_SQMI</th>\n",
       "      <th>Shape_area</th>\n",
       "      <th>Shape_len</th>\n",
       "      <th>geometry</th>\n",
       "    </tr>\n",
       "  </thead>\n",
       "  <tbody>\n",
       "    <tr>\n",
       "      <th>0</th>\n",
       "      <td>Unincorporated</td>\n",
       "      <td>Edwards</td>\n",
       "      <td>Yellow</td>\n",
       "      <td>Edwards</td>\n",
       "      <td>East Antelope Valley</td>\n",
       "      <td>6590507</td>\n",
       "      <td>2111007</td>\n",
       "      <td>Lancaster</td>\n",
       "      <td>Unincorporated</td>\n",
       "      <td>Edwards</td>\n",
       "      <td>93.961</td>\n",
       "      <td>2.619470e+09</td>\n",
       "      <td>337914.985138</td>\n",
       "      <td>POLYGON ((-118.1407088589749 34.81827748625132...</td>\n",
       "    </tr>\n",
       "    <tr>\n",
       "      <th>1</th>\n",
       "      <td>Unincorporated</td>\n",
       "      <td>Gorman</td>\n",
       "      <td>Yellow</td>\n",
       "      <td>West Antelope Valley</td>\n",
       "      <td>West Antelope Valley</td>\n",
       "      <td>6357449</td>\n",
       "      <td>2089258</td>\n",
       "      <td>Santa Clarita Valley</td>\n",
       "      <td>Unincorporated</td>\n",
       "      <td>Gorman</td>\n",
       "      <td>173.752</td>\n",
       "      <td>4.843936e+09</td>\n",
       "      <td>442757.717076</td>\n",
       "      <td>POLYGON ((-118.4662754936974 34.81837563424517...</td>\n",
       "    </tr>\n",
       "    <tr>\n",
       "      <th>2</th>\n",
       "      <td>Unincorporated</td>\n",
       "      <td>Del Sur</td>\n",
       "      <td>Yellow</td>\n",
       "      <td>Lancaster</td>\n",
       "      <td>Quartz Hill</td>\n",
       "      <td>6469031</td>\n",
       "      <td>2091460</td>\n",
       "      <td>Lancaster</td>\n",
       "      <td>Unincorporated</td>\n",
       "      <td>Del Sur</td>\n",
       "      <td>135.398</td>\n",
       "      <td>3.774671e+09</td>\n",
       "      <td>423904.059503</td>\n",
       "      <td>POLYGON ((-118.4662754936974 34.81837563424517...</td>\n",
       "    </tr>\n",
       "  </tbody>\n",
       "</table>\n",
       "</div>"
      ],
      "text/plain": [
       "         COMMTYPE     NAME   COLOR               PO_NAME  \\\n",
       "0  Unincorporated  Edwards  Yellow               Edwards   \n",
       "1  Unincorporated   Gorman  Yellow  West Antelope Valley   \n",
       "2  Unincorporated  Del Sur  Yellow             Lancaster   \n",
       "\n",
       "               STATNAME  X_CENTER  Y_CENTER               ST_NAME  \\\n",
       "0  East Antelope Valley   6590507   2111007             Lancaster   \n",
       "1  West Antelope Valley   6357449   2089258  Santa Clarita Valley   \n",
       "2           Quartz Hill   6469031   2091460             Lancaster   \n",
       "\n",
       "       LABEL_CITY LABEL_COMM  AREA_SQMI    Shape_area      Shape_len  \\\n",
       "0  Unincorporated    Edwards     93.961  2.619470e+09  337914.985138   \n",
       "1  Unincorporated     Gorman    173.752  4.843936e+09  442757.717076   \n",
       "2  Unincorporated    Del Sur    135.398  3.774671e+09  423904.059503   \n",
       "\n",
       "                                            geometry  \n",
       "0  POLYGON ((-118.1407088589749 34.81827748625132...  \n",
       "1  POLYGON ((-118.4662754936974 34.81837563424517...  \n",
       "2  POLYGON ((-118.4662754936974 34.81837563424517...  "
      ]
     },
     "execution_count": 35,
     "metadata": {},
     "output_type": "execute_result"
    }
   ],
   "source": [
    "# LAcounty_COMMUNITIES\n",
    "url = \"http://egis3.lacounty.gov/dataportal/wp-content/uploads/2010/10/\" \\\n",
    "      \"Communities1.zip\"\n",
    "county_communities = download_egis3(url, 'Communities1.zip', 'county_communities', 'Communities.shp')\n",
    "dfname_list.append('county_communities')\n",
    "\n",
    "checkdf(county_communities)"
   ]
  },
  {
   "cell_type": "code",
   "execution_count": 41,
   "metadata": {
    "ExecuteTime": {
     "end_time": "2018-01-04T22:49:42.122114Z",
     "start_time": "2018-01-04T22:49:42.061639Z"
    }
   },
   "outputs": [
    {
     "data": {
      "text/html": [
       "<div>\n",
       "<style scoped>\n",
       "    .dataframe tbody tr th:only-of-type {\n",
       "        vertical-align: middle;\n",
       "    }\n",
       "\n",
       "    .dataframe tbody tr th {\n",
       "        vertical-align: top;\n",
       "    }\n",
       "\n",
       "    .dataframe thead th {\n",
       "        text-align: right;\n",
       "    }\n",
       "</style>\n",
       "<table border=\"1\" class=\"dataframe\">\n",
       "  <thead>\n",
       "    <tr style=\"text-align: right;\">\n",
       "      <th></th>\n",
       "      <th>NAME</th>\n",
       "      <th>geometry</th>\n",
       "    </tr>\n",
       "  </thead>\n",
       "  <tbody>\n",
       "    <tr>\n",
       "      <th>0</th>\n",
       "      <td>Edwards</td>\n",
       "      <td>POLYGON ((-118.1407088589749 34.81827748625132...</td>\n",
       "    </tr>\n",
       "    <tr>\n",
       "      <th>1</th>\n",
       "      <td>Gorman</td>\n",
       "      <td>POLYGON ((-118.4662754936974 34.81837563424517...</td>\n",
       "    </tr>\n",
       "    <tr>\n",
       "      <th>2</th>\n",
       "      <td>Del Sur</td>\n",
       "      <td>POLYGON ((-118.4662754936974 34.81837563424517...</td>\n",
       "    </tr>\n",
       "  </tbody>\n",
       "</table>\n",
       "</div>"
      ],
      "text/plain": [
       "      NAME                                           geometry\n",
       "0  Edwards  POLYGON ((-118.1407088589749 34.81827748625132...\n",
       "1   Gorman  POLYGON ((-118.4662754936974 34.81837563424517...\n",
       "2  Del Sur  POLYGON ((-118.4662754936974 34.81837563424517..."
      ]
     },
     "execution_count": 41,
     "metadata": {},
     "output_type": "execute_result"
    }
   ],
   "source": [
    "droplist = ['COMMTYPE', 'COLOR', 'PO_NAME', 'STATNAME', 'X_CENTER',\n",
    "       'Y_CENTER', 'ST_NAME', 'LABEL_CITY', 'LABEL_COMM', 'AREA_SQMI']\n",
    "cleandf(county_communities, droplist)"
   ]
  },
  {
   "cell_type": "raw",
   "metadata": {
    "ExecuteTime": {
     "end_time": "2018-01-04T22:50:09.517227Z",
     "start_time": "2018-01-04T22:50:09.025368Z"
    }
   },
   "source": [
    "county_communities.plot()"
   ]
  },
  {
   "cell_type": "code",
   "execution_count": 47,
   "metadata": {
    "ExecuteTime": {
     "end_time": "2018-01-04T23:31:48.445409Z",
     "start_time": "2018-01-04T23:31:39.187589Z"
    },
    "scrolled": true
   },
   "outputs": [
    {
     "name": "stdout",
     "output_type": "stream",
     "text": [
      "Total polygon number: 7137\n",
      "number of null and unique values in each column:\n",
      "OBJECTID: null 0, unique 7137\n",
      "BG10: null 0, unique 6422\n",
      "CT10: null 0, unique 2344\n",
      "FIP10: null 0, unique 89\n",
      "FIP11: null 0, unique 89\n",
      "FIP12: null 0, unique 89\n",
      "FIP13: null 0, unique 89\n",
      "FIP14: null 0, unique 89\n",
      "FIP15: null 0, unique 89\n",
      "FIP16: null 0, unique 89\n",
      "CITY_TYPE: null 0, unique 2\n",
      "LCITY: null 0, unique 89\n",
      "BASA: null 0, unique 257\n",
      "LABEL: null 0, unique 348\n",
      "SOURCE: null 0, unique 2\n",
      "BG10FIP10: null 0, unique 6882\n",
      "BG10FIP11: null 0, unique 6882\n",
      "BG10FIP12: null 0, unique 6881\n",
      "BG10FIP13: null 0, unique 6871\n",
      "BG10FIP14: null 0, unique 6870\n",
      "BG10FIP15: null 0, unique 6874\n",
      "BG10FIP16: null 0, unique 6874\n",
      "CT10FIP10: null 0, unique 2696\n",
      "CT10FIP11: null 0, unique 2696\n",
      "CT10FIP12: null 0, unique 2696\n",
      "CT10FIP13: null 0, unique 2690\n",
      "CT10FIP14: null 0, unique 2689\n",
      "CT10FIP15: null 0, unique 2693\n",
      "CT10FIP16: null 0, unique 2693\n",
      "DISTRICT: null 0, unique 5\n",
      "NOTES: null 0, unique 10\n",
      "PART: null 0, unique 6\n",
      "PARTS: null 0, unique 6\n",
      "BASA_ID: null 0, unique 6908\n",
      "MERGED: null 0, unique 2\n",
      "FIP17: null 0, unique 89\n",
      "BG10FIP17: null 0, unique 6874\n",
      "CT10FIP17: null 0, unique 2693\n",
      "Shape_STAr: null 0, unique 7137\n",
      "Shape_STLe: null 0, unique 7137\n"
     ]
    },
    {
     "data": {
      "text/html": [
       "<div>\n",
       "<style scoped>\n",
       "    .dataframe tbody tr th:only-of-type {\n",
       "        vertical-align: middle;\n",
       "    }\n",
       "\n",
       "    .dataframe tbody tr th {\n",
       "        vertical-align: top;\n",
       "    }\n",
       "\n",
       "    .dataframe thead th {\n",
       "        text-align: right;\n",
       "    }\n",
       "</style>\n",
       "<table border=\"1\" class=\"dataframe\">\n",
       "  <thead>\n",
       "    <tr style=\"text-align: right;\">\n",
       "      <th></th>\n",
       "      <th>OBJECTID</th>\n",
       "      <th>BG10</th>\n",
       "      <th>CT10</th>\n",
       "      <th>FIP10</th>\n",
       "      <th>FIP11</th>\n",
       "      <th>FIP12</th>\n",
       "      <th>FIP13</th>\n",
       "      <th>FIP14</th>\n",
       "      <th>FIP15</th>\n",
       "      <th>FIP16</th>\n",
       "      <th>...</th>\n",
       "      <th>PART</th>\n",
       "      <th>PARTS</th>\n",
       "      <th>BASA_ID</th>\n",
       "      <th>MERGED</th>\n",
       "      <th>FIP17</th>\n",
       "      <th>BG10FIP17</th>\n",
       "      <th>CT10FIP17</th>\n",
       "      <th>Shape_STAr</th>\n",
       "      <th>Shape_STLe</th>\n",
       "      <th>geometry</th>\n",
       "    </tr>\n",
       "  </thead>\n",
       "  <tbody>\n",
       "    <tr>\n",
       "      <th>0</th>\n",
       "      <td>1</td>\n",
       "      <td>9001021</td>\n",
       "      <td>900102</td>\n",
       "      <td>99037</td>\n",
       "      <td>99037</td>\n",
       "      <td>99037</td>\n",
       "      <td>99037</td>\n",
       "      <td>99037</td>\n",
       "      <td>99037</td>\n",
       "      <td>99037</td>\n",
       "      <td>...</td>\n",
       "      <td>1</td>\n",
       "      <td>1</td>\n",
       "      <td>9001021_99037_1</td>\n",
       "      <td></td>\n",
       "      <td>99037</td>\n",
       "      <td>900102199037</td>\n",
       "      <td>90010299037</td>\n",
       "      <td>4.743159e+09</td>\n",
       "      <td>321202.859065</td>\n",
       "      <td>POLYGON ((-117.8806128314039 34.76361625108276...</td>\n",
       "    </tr>\n",
       "    <tr>\n",
       "      <th>1</th>\n",
       "      <td>2</td>\n",
       "      <td>9800031</td>\n",
       "      <td>980003</td>\n",
       "      <td>99037</td>\n",
       "      <td>99037</td>\n",
       "      <td>99037</td>\n",
       "      <td>99037</td>\n",
       "      <td>99037</td>\n",
       "      <td>99037</td>\n",
       "      <td>99037</td>\n",
       "      <td>...</td>\n",
       "      <td>1</td>\n",
       "      <td>1</td>\n",
       "      <td>9800031_99037_1</td>\n",
       "      <td></td>\n",
       "      <td>99037</td>\n",
       "      <td>980003199037</td>\n",
       "      <td>98000399037</td>\n",
       "      <td>2.079120e+09</td>\n",
       "      <td>273106.909554</td>\n",
       "      <td>POLYGON ((-118.1400751750954 34.82085077349104...</td>\n",
       "    </tr>\n",
       "    <tr>\n",
       "      <th>2</th>\n",
       "      <td>3</td>\n",
       "      <td>9012091</td>\n",
       "      <td>901209</td>\n",
       "      <td>99037</td>\n",
       "      <td>99037</td>\n",
       "      <td>99037</td>\n",
       "      <td>99037</td>\n",
       "      <td>99037</td>\n",
       "      <td>99037</td>\n",
       "      <td>99037</td>\n",
       "      <td>...</td>\n",
       "      <td>1</td>\n",
       "      <td>1</td>\n",
       "      <td>9012091_99037_1</td>\n",
       "      <td></td>\n",
       "      <td>99037</td>\n",
       "      <td>901209199037</td>\n",
       "      <td>90120999037</td>\n",
       "      <td>6.420949e+09</td>\n",
       "      <td>567539.493446</td>\n",
       "      <td>POLYGON ((-118.3250820264543 34.75189784834308...</td>\n",
       "    </tr>\n",
       "  </tbody>\n",
       "</table>\n",
       "<p>3 rows × 41 columns</p>\n",
       "</div>"
      ],
      "text/plain": [
       "   OBJECTID     BG10    CT10  FIP10  FIP11  FIP12  FIP13  FIP14  FIP15  FIP16  \\\n",
       "0         1  9001021  900102  99037  99037  99037  99037  99037  99037  99037   \n",
       "1         2  9800031  980003  99037  99037  99037  99037  99037  99037  99037   \n",
       "2         3  9012091  901209  99037  99037  99037  99037  99037  99037  99037   \n",
       "\n",
       "                         ...                         PART PARTS  \\\n",
       "0                        ...                            1     1   \n",
       "1                        ...                            1     1   \n",
       "2                        ...                            1     1   \n",
       "\n",
       "           BASA_ID MERGED  FIP17     BG10FIP17    CT10FIP17    Shape_STAr  \\\n",
       "0  9001021_99037_1         99037  900102199037  90010299037  4.743159e+09   \n",
       "1  9800031_99037_1         99037  980003199037  98000399037  2.079120e+09   \n",
       "2  9012091_99037_1         99037  901209199037  90120999037  6.420949e+09   \n",
       "\n",
       "      Shape_STLe                                           geometry  \n",
       "0  321202.859065  POLYGON ((-117.8806128314039 34.76361625108276...  \n",
       "1  273106.909554  POLYGON ((-118.1400751750954 34.82085077349104...  \n",
       "2  567539.493446  POLYGON ((-118.3250820264543 34.75189784834308...  \n",
       "\n",
       "[3 rows x 41 columns]"
      ]
     },
     "execution_count": 47,
     "metadata": {},
     "output_type": "execute_result"
    }
   ],
   "source": [
    "#Split 2010 Block Group/City – Community Statistical Area (formerly BASA)\n",
    "url = \"http://egis3.lacounty.gov/dataportal/wp-content/uploads/2015/12/\" \\\n",
    "      \"EGIS_BG10FIPxx_CSA_20170118.zip\"\n",
    "community_stat_area = download_egis3(url, 'EGIS_BG10FIPxx_CSA_20170118.zip', 'community_stat_area', 'EGIS_BG10FIPxx_CSA_20170118.shp')\n",
    "dfname_list.append('community_stat_area')\n",
    "\n",
    "checkdf(community_stat_area)"
   ]
  },
  {
   "cell_type": "code",
   "execution_count": 48,
   "metadata": {
    "ExecuteTime": {
     "end_time": "2018-01-04T23:31:50.998342Z",
     "start_time": "2018-01-04T23:31:50.677706Z"
    }
   },
   "outputs": [
    {
     "data": {
      "text/html": [
       "<div>\n",
       "<style scoped>\n",
       "    .dataframe tbody tr th:only-of-type {\n",
       "        vertical-align: middle;\n",
       "    }\n",
       "\n",
       "    .dataframe tbody tr th {\n",
       "        vertical-align: top;\n",
       "    }\n",
       "\n",
       "    .dataframe thead th {\n",
       "        text-align: right;\n",
       "    }\n",
       "</style>\n",
       "<table border=\"1\" class=\"dataframe\">\n",
       "  <thead>\n",
       "    <tr style=\"text-align: right;\">\n",
       "      <th></th>\n",
       "      <th>BASA</th>\n",
       "      <th>BASA_ID</th>\n",
       "      <th>geometry</th>\n",
       "    </tr>\n",
       "  </thead>\n",
       "  <tbody>\n",
       "    <tr>\n",
       "      <th>0</th>\n",
       "      <td>Hi Vista</td>\n",
       "      <td>9001021_99037_1</td>\n",
       "      <td>POLYGON ((-117.8806128314039 34.76361625108276...</td>\n",
       "    </tr>\n",
       "    <tr>\n",
       "      <th>1</th>\n",
       "      <td>South Edwards</td>\n",
       "      <td>9800031_99037_1</td>\n",
       "      <td>POLYGON ((-118.1400751750954 34.82085077349104...</td>\n",
       "    </tr>\n",
       "    <tr>\n",
       "      <th>2</th>\n",
       "      <td>West Antelope Valley</td>\n",
       "      <td>9012091_99037_1</td>\n",
       "      <td>POLYGON ((-118.3250820264543 34.75189784834308...</td>\n",
       "    </tr>\n",
       "  </tbody>\n",
       "</table>\n",
       "</div>"
      ],
      "text/plain": [
       "                   BASA          BASA_ID  \\\n",
       "0              Hi Vista  9001021_99037_1   \n",
       "1         South Edwards  9800031_99037_1   \n",
       "2  West Antelope Valley  9012091_99037_1   \n",
       "\n",
       "                                            geometry  \n",
       "0  POLYGON ((-117.8806128314039 34.76361625108276...  \n",
       "1  POLYGON ((-118.1400751750954 34.82085077349104...  \n",
       "2  POLYGON ((-118.3250820264543 34.75189784834308...  "
      ]
     },
     "execution_count": 48,
     "metadata": {},
     "output_type": "execute_result"
    }
   ],
   "source": [
    "droplist = ['BG10', 'CT10', 'FIP10', 'FIP11', 'FIP12', 'FIP13', 'FIP14',\n",
    "       'FIP15', 'FIP16', 'CITY_TYPE', 'LCITY', 'LABEL', 'SOURCE', 'CT10FIP17',\n",
    "            'DISTRICT', 'NOTES', 'PART', 'PARTS', 'MERGED', 'FIP17',\n",
    "       'BG10FIP10', 'BG10FIP11', 'BG10FIP12', 'BG10FIP13', 'BG10FIP14',\n",
    "       'BG10FIP15', 'BG10FIP16', 'CT10FIP10', 'CT10FIP11', 'CT10FIP12',\n",
    "       'CT10FIP13', 'CT10FIP14', 'CT10FIP15', 'CT10FIP16', 'BG10FIP17', \n",
    "       'Shape_STAr', 'Shape_STLe']\n",
    "cleandf(community_stat_area, droplist)"
   ]
  },
  {
   "cell_type": "raw",
   "metadata": {
    "ExecuteTime": {
     "end_time": "2018-01-04T23:39:02.922904Z",
     "start_time": "2018-01-04T23:39:00.378187Z"
    }
   },
   "source": [
    "community_stat_area.plot()"
   ]
  },
  {
   "cell_type": "code",
   "execution_count": 51,
   "metadata": {
    "ExecuteTime": {
     "end_time": "2018-01-05T00:27:32.317572Z",
     "start_time": "2018-01-05T00:27:31.294988Z"
    }
   },
   "outputs": [
    {
     "name": "stdout",
     "output_type": "stream",
     "text": [
      "Total polygon number: 25\n",
      "number of null and unique values in each column:\n",
      "OBJECTID: null 0, unique 25\n",
      "Id: null 0, unique 1\n",
      "SupDist: null 0, unique 5\n",
      "CertDate: null 25, unique 1\n",
      "NAME: null 0, unique 21\n",
      "SUB_REGION: null 0, unique 6\n",
      "TYPE: null 0, unique 1\n",
      "DRP_NOTES: null 0, unique 16\n",
      "Shape_STAr: null 0, unique 25\n",
      "Shape_STLe: null 0, unique 25\n"
     ]
    },
    {
     "data": {
      "text/html": [
       "<div>\n",
       "<style scoped>\n",
       "    .dataframe tbody tr th:only-of-type {\n",
       "        vertical-align: middle;\n",
       "    }\n",
       "\n",
       "    .dataframe tbody tr th {\n",
       "        vertical-align: top;\n",
       "    }\n",
       "\n",
       "    .dataframe thead th {\n",
       "        text-align: right;\n",
       "    }\n",
       "</style>\n",
       "<table border=\"1\" class=\"dataframe\">\n",
       "  <thead>\n",
       "    <tr style=\"text-align: right;\">\n",
       "      <th></th>\n",
       "      <th>OBJECTID</th>\n",
       "      <th>Id</th>\n",
       "      <th>SupDist</th>\n",
       "      <th>CertDate</th>\n",
       "      <th>NAME</th>\n",
       "      <th>SUB_REGION</th>\n",
       "      <th>TYPE</th>\n",
       "      <th>DRP_NOTES</th>\n",
       "      <th>Shape_STAr</th>\n",
       "      <th>Shape_STLe</th>\n",
       "      <th>geometry</th>\n",
       "    </tr>\n",
       "  </thead>\n",
       "  <tbody>\n",
       "    <tr>\n",
       "      <th>0</th>\n",
       "      <td>1</td>\n",
       "      <td>0</td>\n",
       "      <td>5</td>\n",
       "      <td>None</td>\n",
       "      <td>Juniper Hills Town Council</td>\n",
       "      <td></td>\n",
       "      <td></td>\n",
       "      <td>done</td>\n",
       "      <td>1.412556e+09</td>\n",
       "      <td>162222.345363</td>\n",
       "      <td>POLYGON ((-117.9228713428042 34.48373342444793...</td>\n",
       "    </tr>\n",
       "    <tr>\n",
       "      <th>1</th>\n",
       "      <td>2</td>\n",
       "      <td>0</td>\n",
       "      <td>5</td>\n",
       "      <td>None</td>\n",
       "      <td>Leona Valley Town Council</td>\n",
       "      <td></td>\n",
       "      <td></td>\n",
       "      <td>CSD referenced in bylaws</td>\n",
       "      <td>4.161558e+08</td>\n",
       "      <td>159039.502427</td>\n",
       "      <td>POLYGON ((-118.3237207085177 34.63380740048827...</td>\n",
       "    </tr>\n",
       "    <tr>\n",
       "      <th>2</th>\n",
       "      <td>3</td>\n",
       "      <td>0</td>\n",
       "      <td>5</td>\n",
       "      <td>None</td>\n",
       "      <td>Acton Town Council</td>\n",
       "      <td></td>\n",
       "      <td></td>\n",
       "      <td>CSD</td>\n",
       "      <td>3.104176e+09</td>\n",
       "      <td>302459.764141</td>\n",
       "      <td>POLYGON ((-118.2066130257172 34.53937158856911...</td>\n",
       "    </tr>\n",
       "  </tbody>\n",
       "</table>\n",
       "</div>"
      ],
      "text/plain": [
       "   OBJECTID  Id  SupDist CertDate                        NAME SUB_REGION TYPE  \\\n",
       "0         1   0        5     None  Juniper Hills Town Council                   \n",
       "1         2   0        5     None   Leona Valley Town Council                   \n",
       "2         3   0        5     None          Acton Town Council                   \n",
       "\n",
       "                  DRP_NOTES    Shape_STAr     Shape_STLe  \\\n",
       "0                      done  1.412556e+09  162222.345363   \n",
       "1  CSD referenced in bylaws  4.161558e+08  159039.502427   \n",
       "2                       CSD  3.104176e+09  302459.764141   \n",
       "\n",
       "                                            geometry  \n",
       "0  POLYGON ((-117.9228713428042 34.48373342444793...  \n",
       "1  POLYGON ((-118.3237207085177 34.63380740048827...  \n",
       "2  POLYGON ((-118.2066130257172 34.53937158856911...  "
      ]
     },
     "execution_count": 51,
     "metadata": {},
     "output_type": "execute_result"
    }
   ],
   "source": [
    "#LA County TOWN_COUNCILS\n",
    "url = \"http://egis3.lacounty.gov/dataportal/wp-content/uploads/2014/12/\" \\\n",
    "      \"DRP_TOWN_COUNCIL_AREAS.zip\"\n",
    "town_councils = download_egis3(url, 'DRP_TOWN_COUNCIL_AREAS.zip', 'town_councils', 'DRP_TOWN_COUNCIL_AREAS.shp')\n",
    "dfname_list.append('town_councils')\n",
    "\n",
    "checkdf(town_councils)"
   ]
  },
  {
   "cell_type": "code",
   "execution_count": 53,
   "metadata": {
    "ExecuteTime": {
     "end_time": "2018-01-05T00:30:43.092709Z",
     "start_time": "2018-01-05T00:30:43.043357Z"
    }
   },
   "outputs": [
    {
     "data": {
      "text/html": [
       "<div>\n",
       "<style scoped>\n",
       "    .dataframe tbody tr th:only-of-type {\n",
       "        vertical-align: middle;\n",
       "    }\n",
       "\n",
       "    .dataframe tbody tr th {\n",
       "        vertical-align: top;\n",
       "    }\n",
       "\n",
       "    .dataframe thead th {\n",
       "        text-align: right;\n",
       "    }\n",
       "</style>\n",
       "<table border=\"1\" class=\"dataframe\">\n",
       "  <thead>\n",
       "    <tr style=\"text-align: right;\">\n",
       "      <th></th>\n",
       "      <th>NAME</th>\n",
       "      <th>geometry</th>\n",
       "    </tr>\n",
       "  </thead>\n",
       "  <tbody>\n",
       "    <tr>\n",
       "      <th>0</th>\n",
       "      <td>Juniper Hills Town Council</td>\n",
       "      <td>POLYGON ((-117.9228713428042 34.48373342444793...</td>\n",
       "    </tr>\n",
       "    <tr>\n",
       "      <th>1</th>\n",
       "      <td>Leona Valley Town Council</td>\n",
       "      <td>POLYGON ((-118.3237207085177 34.63380740048827...</td>\n",
       "    </tr>\n",
       "    <tr>\n",
       "      <th>2</th>\n",
       "      <td>Acton Town Council</td>\n",
       "      <td>POLYGON ((-118.2066130257172 34.53937158856911...</td>\n",
       "    </tr>\n",
       "  </tbody>\n",
       "</table>\n",
       "</div>"
      ],
      "text/plain": [
       "                         NAME  \\\n",
       "0  Juniper Hills Town Council   \n",
       "1   Leona Valley Town Council   \n",
       "2          Acton Town Council   \n",
       "\n",
       "                                            geometry  \n",
       "0  POLYGON ((-117.9228713428042 34.48373342444793...  \n",
       "1  POLYGON ((-118.3237207085177 34.63380740048827...  \n",
       "2  POLYGON ((-118.2066130257172 34.53937158856911...  "
      ]
     },
     "execution_count": 53,
     "metadata": {},
     "output_type": "execute_result"
    }
   ],
   "source": [
    "droplist = ['Id', 'SupDist', 'CertDate', 'SUB_REGION', 'TYPE',\n",
    "       'DRP_NOTES', 'Shape_STAr', 'Shape_STLe']\n",
    "cleandf(town_councils, droplist)"
   ]
  },
  {
   "cell_type": "raw",
   "metadata": {
    "ExecuteTime": {
     "end_time": "2018-01-05T00:31:41.586951Z",
     "start_time": "2018-01-05T00:31:41.372658Z"
    }
   },
   "source": [
    "town_councils.plot()"
   ]
  },
  {
   "cell_type": "code",
   "execution_count": 56,
   "metadata": {
    "ExecuteTime": {
     "end_time": "2018-01-05T00:47:30.455237Z",
     "start_time": "2018-01-05T00:47:29.021653Z"
    }
   },
   "outputs": [
    {
     "name": "stdout",
     "output_type": "stream",
     "text": [
      "Total polygon number: 9\n",
      "number of null and unique values in each column:\n",
      "OBJECTID: null 0, unique 9\n",
      "DIV: null 0, unique 9\n",
      "Shape_Leng: null 0, unique 9\n",
      "Shape_STAr: null 0, unique 9\n",
      "Shape_STLe: null 0, unique 9\n"
     ]
    },
    {
     "data": {
      "text/html": [
       "<div>\n",
       "<style scoped>\n",
       "    .dataframe tbody tr th:only-of-type {\n",
       "        vertical-align: middle;\n",
       "    }\n",
       "\n",
       "    .dataframe tbody tr th {\n",
       "        vertical-align: top;\n",
       "    }\n",
       "\n",
       "    .dataframe thead th {\n",
       "        text-align: right;\n",
       "    }\n",
       "</style>\n",
       "<table border=\"1\" class=\"dataframe\">\n",
       "  <thead>\n",
       "    <tr style=\"text-align: right;\">\n",
       "      <th></th>\n",
       "      <th>OBJECTID</th>\n",
       "      <th>DIV</th>\n",
       "      <th>Shape_Leng</th>\n",
       "      <th>Shape_STAr</th>\n",
       "      <th>Shape_STLe</th>\n",
       "      <th>geometry</th>\n",
       "    </tr>\n",
       "  </thead>\n",
       "  <tbody>\n",
       "    <tr>\n",
       "      <th>0</th>\n",
       "      <td>1</td>\n",
       "      <td>I</td>\n",
       "      <td>8.334326e+05</td>\n",
       "      <td>4.066853e+09</td>\n",
       "      <td>8.334326e+05</td>\n",
       "      <td>(POLYGON ((-118.6060576865897 33.4791081369531...</td>\n",
       "    </tr>\n",
       "    <tr>\n",
       "      <th>1</th>\n",
       "      <td>2</td>\n",
       "      <td>II</td>\n",
       "      <td>6.055937e+05</td>\n",
       "      <td>8.351965e+09</td>\n",
       "      <td>6.055937e+05</td>\n",
       "      <td>POLYGON ((-117.7457043664994 34.33837148403114...</td>\n",
       "    </tr>\n",
       "    <tr>\n",
       "      <th>2</th>\n",
       "      <td>3</td>\n",
       "      <td>III</td>\n",
       "      <td>1.470782e+06</td>\n",
       "      <td>2.491402e+10</td>\n",
       "      <td>1.470782e+06</td>\n",
       "      <td>(POLYGON ((-118.8804273943463 34.8178403050801...</td>\n",
       "    </tr>\n",
       "  </tbody>\n",
       "</table>\n",
       "</div>"
      ],
      "text/plain": [
       "   OBJECTID  DIV    Shape_Leng    Shape_STAr    Shape_STLe  \\\n",
       "0         1    I  8.334326e+05  4.066853e+09  8.334326e+05   \n",
       "1         2   II  6.055937e+05  8.351965e+09  6.055937e+05   \n",
       "2         3  III  1.470782e+06  2.491402e+10  1.470782e+06   \n",
       "\n",
       "                                            geometry  \n",
       "0  (POLYGON ((-118.6060576865897 33.4791081369531...  \n",
       "1  POLYGON ((-117.7457043664994 34.33837148403114...  \n",
       "2  (POLYGON ((-118.8804273943463 34.8178403050801...  "
      ]
     },
     "execution_count": 56,
     "metadata": {},
     "output_type": "execute_result"
    }
   ],
   "source": [
    "#FIRE_DIVISION_BOUNDARIES\n",
    "url = \"http://egis3.lacounty.gov/dataportal/wp-content/uploads/\" \\\n",
    "      \"ShapefilePackages/FIRE_DIVISION_BOUNDARIES.zip\"\n",
    "fire_division = download_egis3(url, 'FIRE_DIVISION_BOUNDARIES.zip', 'fire_division', 'FIRE_DIVISION_BOUNDARIES.shp')\n",
    "dfname_list.append('fire_division')\n",
    "checkdf(fire_division)"
   ]
  },
  {
   "cell_type": "code",
   "execution_count": 59,
   "metadata": {
    "ExecuteTime": {
     "end_time": "2018-01-05T00:53:22.666238Z",
     "start_time": "2018-01-05T00:53:22.565629Z"
    }
   },
   "outputs": [
    {
     "data": {
      "text/html": [
       "<div>\n",
       "<style scoped>\n",
       "    .dataframe tbody tr th:only-of-type {\n",
       "        vertical-align: middle;\n",
       "    }\n",
       "\n",
       "    .dataframe tbody tr th {\n",
       "        vertical-align: top;\n",
       "    }\n",
       "\n",
       "    .dataframe thead th {\n",
       "        text-align: right;\n",
       "    }\n",
       "</style>\n",
       "<table border=\"1\" class=\"dataframe\">\n",
       "  <thead>\n",
       "    <tr style=\"text-align: right;\">\n",
       "      <th></th>\n",
       "      <th>DIV</th>\n",
       "      <th>geometry</th>\n",
       "    </tr>\n",
       "  </thead>\n",
       "  <tbody>\n",
       "    <tr>\n",
       "      <th>0</th>\n",
       "      <td>I</td>\n",
       "      <td>(POLYGON ((-118.6060576865897 33.4791081369531...</td>\n",
       "    </tr>\n",
       "    <tr>\n",
       "      <th>1</th>\n",
       "      <td>II</td>\n",
       "      <td>POLYGON ((-117.7457043664994 34.33837148403114...</td>\n",
       "    </tr>\n",
       "    <tr>\n",
       "      <th>2</th>\n",
       "      <td>III</td>\n",
       "      <td>(POLYGON ((-118.8804273943463 34.8178403050801...</td>\n",
       "    </tr>\n",
       "  </tbody>\n",
       "</table>\n",
       "</div>"
      ],
      "text/plain": [
       "   DIV                                           geometry\n",
       "0    I  (POLYGON ((-118.6060576865897 33.4791081369531...\n",
       "1   II  POLYGON ((-117.7457043664994 34.33837148403114...\n",
       "2  III  (POLYGON ((-118.8804273943463 34.8178403050801..."
      ]
     },
     "execution_count": 59,
     "metadata": {},
     "output_type": "execute_result"
    }
   ],
   "source": [
    "droplist = ['Shape_Leng', 'Shape_STAr', 'Shape_STLe']\n",
    "cleandf(fire_division, droplist)"
   ]
  },
  {
   "cell_type": "code",
   "execution_count": 61,
   "metadata": {
    "ExecuteTime": {
     "end_time": "2018-01-05T01:08:22.876853Z",
     "start_time": "2018-01-05T01:08:21.541568Z"
    }
   },
   "outputs": [
    {
     "name": "stdout",
     "output_type": "stream",
     "text": [
      "Total polygon number: 22\n",
      "number of null and unique values in each column:\n",
      "OBJECTID: null 0, unique 22\n",
      "BATTID: null 0, unique 22\n",
      "Shape_Leng: null 0, unique 22\n",
      "Shape_STAr: null 0, unique 22\n",
      "Shape_STLe: null 0, unique 22\n"
     ]
    },
    {
     "data": {
      "text/html": [
       "<div>\n",
       "<style scoped>\n",
       "    .dataframe tbody tr th:only-of-type {\n",
       "        vertical-align: middle;\n",
       "    }\n",
       "\n",
       "    .dataframe tbody tr th {\n",
       "        vertical-align: top;\n",
       "    }\n",
       "\n",
       "    .dataframe thead th {\n",
       "        text-align: right;\n",
       "    }\n",
       "</style>\n",
       "<table border=\"1\" class=\"dataframe\">\n",
       "  <thead>\n",
       "    <tr style=\"text-align: right;\">\n",
       "      <th></th>\n",
       "      <th>OBJECTID</th>\n",
       "      <th>BATTID</th>\n",
       "      <th>Shape_Leng</th>\n",
       "      <th>Shape_STAr</th>\n",
       "      <th>Shape_STLe</th>\n",
       "      <th>geometry</th>\n",
       "    </tr>\n",
       "  </thead>\n",
       "  <tbody>\n",
       "    <tr>\n",
       "      <th>0</th>\n",
       "      <td>1</td>\n",
       "      <td>1</td>\n",
       "      <td>225880.985263</td>\n",
       "      <td>2.742210e+08</td>\n",
       "      <td>225880.985263</td>\n",
       "      <td>(POLYGON ((-118.3626353408748 34.0063866246520...</td>\n",
       "    </tr>\n",
       "    <tr>\n",
       "      <th>1</th>\n",
       "      <td>2</td>\n",
       "      <td>2</td>\n",
       "      <td>453772.402871</td>\n",
       "      <td>3.146341e+09</td>\n",
       "      <td>453772.402871</td>\n",
       "      <td>POLYGON ((-117.6587123201178 34.24037857785586...</td>\n",
       "    </tr>\n",
       "    <tr>\n",
       "      <th>2</th>\n",
       "      <td>3</td>\n",
       "      <td>3</td>\n",
       "      <td>158516.064622</td>\n",
       "      <td>5.869450e+08</td>\n",
       "      <td>158516.064622</td>\n",
       "      <td>(POLYGON ((-118.1777734260421 34.0622946700525...</td>\n",
       "    </tr>\n",
       "  </tbody>\n",
       "</table>\n",
       "</div>"
      ],
      "text/plain": [
       "   OBJECTID  BATTID     Shape_Leng    Shape_STAr     Shape_STLe  \\\n",
       "0         1       1  225880.985263  2.742210e+08  225880.985263   \n",
       "1         2       2  453772.402871  3.146341e+09  453772.402871   \n",
       "2         3       3  158516.064622  5.869450e+08  158516.064622   \n",
       "\n",
       "                                            geometry  \n",
       "0  (POLYGON ((-118.3626353408748 34.0063866246520...  \n",
       "1  POLYGON ((-117.6587123201178 34.24037857785586...  \n",
       "2  (POLYGON ((-118.1777734260421 34.0622946700525...  "
      ]
     },
     "execution_count": 61,
     "metadata": {},
     "output_type": "execute_result"
    }
   ],
   "source": [
    "#Los Angeles County Fire Department Battalion Boundaries\n",
    "url = \"http://egis3.lacounty.gov/dataportal/wp-content/uploads/\" \\\n",
    "      \"ShapefilePackages/FIRE_BATTALION_BOUNDARIES.zip\"\n",
    "fire_battalion = download_egis3(url, 'FIRE_BATTALION_BOUNDARIES.zip', 'fire_battalion', 'FIRE_BATTALION_BOUNDARIES.shp')\n",
    "dfname_list.append('fire_battalion')\n",
    "checkdf(fire_battalion)"
   ]
  },
  {
   "cell_type": "code",
   "execution_count": 62,
   "metadata": {
    "ExecuteTime": {
     "end_time": "2018-01-05T01:09:31.112928Z",
     "start_time": "2018-01-05T01:09:31.055604Z"
    }
   },
   "outputs": [
    {
     "data": {
      "text/html": [
       "<div>\n",
       "<style scoped>\n",
       "    .dataframe tbody tr th:only-of-type {\n",
       "        vertical-align: middle;\n",
       "    }\n",
       "\n",
       "    .dataframe tbody tr th {\n",
       "        vertical-align: top;\n",
       "    }\n",
       "\n",
       "    .dataframe thead th {\n",
       "        text-align: right;\n",
       "    }\n",
       "</style>\n",
       "<table border=\"1\" class=\"dataframe\">\n",
       "  <thead>\n",
       "    <tr style=\"text-align: right;\">\n",
       "      <th></th>\n",
       "      <th>BATTID</th>\n",
       "      <th>geometry</th>\n",
       "    </tr>\n",
       "  </thead>\n",
       "  <tbody>\n",
       "    <tr>\n",
       "      <th>0</th>\n",
       "      <td>1</td>\n",
       "      <td>(POLYGON ((-118.3626353408748 34.0063866246520...</td>\n",
       "    </tr>\n",
       "    <tr>\n",
       "      <th>1</th>\n",
       "      <td>2</td>\n",
       "      <td>POLYGON ((-117.6587123201178 34.24037857785586...</td>\n",
       "    </tr>\n",
       "    <tr>\n",
       "      <th>2</th>\n",
       "      <td>3</td>\n",
       "      <td>(POLYGON ((-118.1777734260421 34.0622946700525...</td>\n",
       "    </tr>\n",
       "  </tbody>\n",
       "</table>\n",
       "</div>"
      ],
      "text/plain": [
       "   BATTID                                           geometry\n",
       "0       1  (POLYGON ((-118.3626353408748 34.0063866246520...\n",
       "1       2  POLYGON ((-117.6587123201178 34.24037857785586...\n",
       "2       3  (POLYGON ((-118.1777734260421 34.0622946700525..."
      ]
     },
     "execution_count": 62,
     "metadata": {},
     "output_type": "execute_result"
    }
   ],
   "source": [
    "droplist = ['Shape_Leng', 'Shape_STAr', 'Shape_STLe']\n",
    "cleandf(fire_battalion, droplist)"
   ]
  },
  {
   "cell_type": "markdown",
   "metadata": {},
   "source": [
    "#### Including geometries as:\n",
    "- [2011 Supervisorial District Boundaries (Official)](http://egis3.lacounty.gov/dataportal/2011/12/06/supervisorial-districts/)\n",
    "- [LA City Council Districts (2012)](http://egis3.lacounty.gov/dataportal/2012/08/07/la-city-council-districts-2012/)\n",
    "- [State Assembly Districts (State Legislative District – Lower Chamber)](http://egis3.lacounty.gov/dataportal/2011/11/08/california-state-assembly-districts-2011/)\n",
    "- [Registrar Recorder Precincts](https://egis3.lacounty.gov/dataportal/2012/12/20/2012-precincts-as-of-march-9th/)"
   ]
  },
  {
   "cell_type": "code",
   "execution_count": 66,
   "metadata": {
    "ExecuteTime": {
     "end_time": "2018-01-05T02:19:01.627799Z",
     "start_time": "2018-01-05T02:19:00.704271Z"
    }
   },
   "outputs": [
    {
     "name": "stdout",
     "output_type": "stream",
     "text": [
      "Total polygon number: 5\n",
      "number of null and unique values in each column:\n",
      "OBJECTID: null 0, unique 5\n",
      "SUP_DIST_N: null 0, unique 5\n",
      "SYMBOL: null 0, unique 1\n",
      "PERIMETER: null 0, unique 1\n",
      "AREA_SQ_MI: null 0, unique 5\n",
      "SHAPE_AREA: null 0, unique 5\n",
      "SHAPE_LEN: null 0, unique 5\n"
     ]
    },
    {
     "data": {
      "text/html": [
       "<div>\n",
       "<style scoped>\n",
       "    .dataframe tbody tr th:only-of-type {\n",
       "        vertical-align: middle;\n",
       "    }\n",
       "\n",
       "    .dataframe tbody tr th {\n",
       "        vertical-align: top;\n",
       "    }\n",
       "\n",
       "    .dataframe thead th {\n",
       "        text-align: right;\n",
       "    }\n",
       "</style>\n",
       "<table border=\"1\" class=\"dataframe\">\n",
       "  <thead>\n",
       "    <tr style=\"text-align: right;\">\n",
       "      <th></th>\n",
       "      <th>OBJECTID</th>\n",
       "      <th>SUP_DIST_N</th>\n",
       "      <th>SYMBOL</th>\n",
       "      <th>PERIMETER</th>\n",
       "      <th>AREA_SQ_MI</th>\n",
       "      <th>SHAPE_AREA</th>\n",
       "      <th>SHAPE_LEN</th>\n",
       "      <th>geometry</th>\n",
       "    </tr>\n",
       "  </thead>\n",
       "  <tbody>\n",
       "    <tr>\n",
       "      <th>0</th>\n",
       "      <td>1601</td>\n",
       "      <td>1</td>\n",
       "      <td>0</td>\n",
       "      <td>0.0</td>\n",
       "      <td>246.202</td>\n",
       "      <td>6.863264e+09</td>\n",
       "      <td>946818.102008</td>\n",
       "      <td>POLYGON ((-118.2845039326605 34.08665464600393...</td>\n",
       "    </tr>\n",
       "    <tr>\n",
       "      <th>1</th>\n",
       "      <td>1602</td>\n",
       "      <td>2</td>\n",
       "      <td>0</td>\n",
       "      <td>0.0</td>\n",
       "      <td>161.825</td>\n",
       "      <td>4.511450e+09</td>\n",
       "      <td>477092.243642</td>\n",
       "      <td>POLYGON ((-118.3063679014772 34.09079201094933...</td>\n",
       "    </tr>\n",
       "    <tr>\n",
       "      <th>2</th>\n",
       "      <td>1603</td>\n",
       "      <td>3</td>\n",
       "      <td>0</td>\n",
       "      <td>0.0</td>\n",
       "      <td>431.197</td>\n",
       "      <td>1.202126e+10</td>\n",
       "      <td>759927.656095</td>\n",
       "      <td>POLYGON ((-118.506688035281 34.33409190867378,...</td>\n",
       "    </tr>\n",
       "  </tbody>\n",
       "</table>\n",
       "</div>"
      ],
      "text/plain": [
       "   OBJECTID SUP_DIST_N  SYMBOL  PERIMETER  AREA_SQ_MI    SHAPE_AREA  \\\n",
       "0      1601          1       0        0.0     246.202  6.863264e+09   \n",
       "1      1602          2       0        0.0     161.825  4.511450e+09   \n",
       "2      1603          3       0        0.0     431.197  1.202126e+10   \n",
       "\n",
       "       SHAPE_LEN                                           geometry  \n",
       "0  946818.102008  POLYGON ((-118.2845039326605 34.08665464600393...  \n",
       "1  477092.243642  POLYGON ((-118.3063679014772 34.09079201094933...  \n",
       "2  759927.656095  POLYGON ((-118.506688035281 34.33409190867378,...  "
      ]
     },
     "execution_count": 66,
     "metadata": {},
     "output_type": "execute_result"
    }
   ],
   "source": [
    "#2011 Supervisorial District Boundaries (Official)\n",
    "url = \"http://egis3.lacounty.gov/dataportal/wp-content/uploads/2011/12/\" \\\n",
    "      \"DPW-Supervisorial-District.zip\"\n",
    "supervisorial_district = download_egis3(url, 'DPW-Supervisorial-District.zip', 'supervisorial_district', 'sup_dist_2011.shp')\n",
    "dfname_list.append('supervisorial_district')\n",
    "checkdf(supervisorial_district)"
   ]
  },
  {
   "cell_type": "code",
   "execution_count": 68,
   "metadata": {
    "ExecuteTime": {
     "end_time": "2018-01-05T02:20:43.598480Z",
     "start_time": "2018-01-05T02:20:43.553629Z"
    }
   },
   "outputs": [
    {
     "data": {
      "text/html": [
       "<div>\n",
       "<style scoped>\n",
       "    .dataframe tbody tr th:only-of-type {\n",
       "        vertical-align: middle;\n",
       "    }\n",
       "\n",
       "    .dataframe tbody tr th {\n",
       "        vertical-align: top;\n",
       "    }\n",
       "\n",
       "    .dataframe thead th {\n",
       "        text-align: right;\n",
       "    }\n",
       "</style>\n",
       "<table border=\"1\" class=\"dataframe\">\n",
       "  <thead>\n",
       "    <tr style=\"text-align: right;\">\n",
       "      <th></th>\n",
       "      <th>SUP_DIST_N</th>\n",
       "      <th>geometry</th>\n",
       "    </tr>\n",
       "  </thead>\n",
       "  <tbody>\n",
       "    <tr>\n",
       "      <th>0</th>\n",
       "      <td>1</td>\n",
       "      <td>POLYGON ((-118.2845039326605 34.08665464600393...</td>\n",
       "    </tr>\n",
       "    <tr>\n",
       "      <th>1</th>\n",
       "      <td>2</td>\n",
       "      <td>POLYGON ((-118.3063679014772 34.09079201094933...</td>\n",
       "    </tr>\n",
       "    <tr>\n",
       "      <th>2</th>\n",
       "      <td>3</td>\n",
       "      <td>POLYGON ((-118.506688035281 34.33409190867378,...</td>\n",
       "    </tr>\n",
       "  </tbody>\n",
       "</table>\n",
       "</div>"
      ],
      "text/plain": [
       "  SUP_DIST_N                                           geometry\n",
       "0          1  POLYGON ((-118.2845039326605 34.08665464600393...\n",
       "1          2  POLYGON ((-118.3063679014772 34.09079201094933...\n",
       "2          3  POLYGON ((-118.506688035281 34.33409190867378,..."
      ]
     },
     "execution_count": 68,
     "metadata": {},
     "output_type": "execute_result"
    }
   ],
   "source": [
    "droplist = ['SYMBOL', 'PERIMETER', 'AREA_SQ_MI', 'SHAPE_AREA', 'SHAPE_LEN']\n",
    "cleandf(supervisorial_district, droplist)"
   ]
  },
  {
   "cell_type": "raw",
   "metadata": {
    "ExecuteTime": {
     "end_time": "2018-01-05T02:21:19.940610Z",
     "start_time": "2018-01-05T02:21:19.536102Z"
    }
   },
   "source": [
    "supervisorial_district.plot()"
   ]
  },
  {
   "cell_type": "code",
   "execution_count": 70,
   "metadata": {
    "ExecuteTime": {
     "end_time": "2018-01-05T02:26:45.313475Z",
     "start_time": "2018-01-05T02:26:44.122547Z"
    }
   },
   "outputs": [
    {
     "name": "stdout",
     "output_type": "stream",
     "text": [
      "Total polygon number: 15\n",
      "number of null and unique values in each column:\n",
      "AREA: null 0, unique 15\n",
      "PERIMETER: null 0, unique 15\n",
      "CDMEMBER: null 0, unique 15\n",
      "DISTRICT: null 0, unique 15\n",
      "SQ_MI: null 0, unique 15\n",
      "SHADESYM: null 0, unique 1\n",
      "Revised: null 0, unique 1\n",
      "Comments: null 0, unique 1\n",
      "SHAPE_Leng: null 0, unique 15\n",
      "SHAPE_Area: null 0, unique 15\n"
     ]
    },
    {
     "data": {
      "text/html": [
       "<div>\n",
       "<style scoped>\n",
       "    .dataframe tbody tr th:only-of-type {\n",
       "        vertical-align: middle;\n",
       "    }\n",
       "\n",
       "    .dataframe tbody tr th {\n",
       "        vertical-align: top;\n",
       "    }\n",
       "\n",
       "    .dataframe thead th {\n",
       "        text-align: right;\n",
       "    }\n",
       "</style>\n",
       "<table border=\"1\" class=\"dataframe\">\n",
       "  <thead>\n",
       "    <tr style=\"text-align: right;\">\n",
       "      <th></th>\n",
       "      <th>AREA</th>\n",
       "      <th>PERIMETER</th>\n",
       "      <th>CDMEMBER</th>\n",
       "      <th>DISTRICT</th>\n",
       "      <th>SQ_MI</th>\n",
       "      <th>SHADESYM</th>\n",
       "      <th>Revised</th>\n",
       "      <th>Comments</th>\n",
       "      <th>SHAPE_Leng</th>\n",
       "      <th>SHAPE_Area</th>\n",
       "      <th>geometry</th>\n",
       "    </tr>\n",
       "  </thead>\n",
       "  <tbody>\n",
       "    <tr>\n",
       "      <th>0</th>\n",
       "      <td>1.508806e+09</td>\n",
       "      <td>345479.674422</td>\n",
       "      <td>Felipe Fuentes</td>\n",
       "      <td>7</td>\n",
       "      <td>54.12</td>\n",
       "      <td>10</td>\n",
       "      <td>07/02/2012</td>\n",
       "      <td>ORD 182168</td>\n",
       "      <td>345539.115290</td>\n",
       "      <td>1.508899e+09</td>\n",
       "      <td>POLYGON ((-118.5084667256651 34.33379445567272...</td>\n",
       "    </tr>\n",
       "    <tr>\n",
       "      <th>1</th>\n",
       "      <td>1.637593e+09</td>\n",
       "      <td>254031.923325</td>\n",
       "      <td>Mitchell Englander</td>\n",
       "      <td>12</td>\n",
       "      <td>58.74</td>\n",
       "      <td>10</td>\n",
       "      <td>07/02/2012</td>\n",
       "      <td>ORD 182168</td>\n",
       "      <td>253975.218622</td>\n",
       "      <td>1.637537e+09</td>\n",
       "      <td>POLYGON ((-118.5084667256651 34.33379445567272...</td>\n",
       "    </tr>\n",
       "    <tr>\n",
       "      <th>2</th>\n",
       "      <td>7.579624e+08</td>\n",
       "      <td>191215.747144</td>\n",
       "      <td>Nury Martinez</td>\n",
       "      <td>6</td>\n",
       "      <td>27.19</td>\n",
       "      <td>10</td>\n",
       "      <td>07/02/2012</td>\n",
       "      <td>ORD 182168</td>\n",
       "      <td>191215.747039</td>\n",
       "      <td>7.579624e+08</td>\n",
       "      <td>POLYGON ((-118.4729681280253 34.23192967092903...</td>\n",
       "    </tr>\n",
       "  </tbody>\n",
       "</table>\n",
       "</div>"
      ],
      "text/plain": [
       "           AREA      PERIMETER            CDMEMBER DISTRICT  SQ_MI  SHADESYM  \\\n",
       "0  1.508806e+09  345479.674422      Felipe Fuentes        7  54.12        10   \n",
       "1  1.637593e+09  254031.923325  Mitchell Englander       12  58.74        10   \n",
       "2  7.579624e+08  191215.747144       Nury Martinez        6  27.19        10   \n",
       "\n",
       "      Revised    Comments     SHAPE_Leng    SHAPE_Area  \\\n",
       "0  07/02/2012  ORD 182168  345539.115290  1.508899e+09   \n",
       "1  07/02/2012  ORD 182168  253975.218622  1.637537e+09   \n",
       "2  07/02/2012  ORD 182168  191215.747039  7.579624e+08   \n",
       "\n",
       "                                            geometry  \n",
       "0  POLYGON ((-118.5084667256651 34.33379445567272...  \n",
       "1  POLYGON ((-118.5084667256651 34.33379445567272...  \n",
       "2  POLYGON ((-118.4729681280253 34.23192967092903...  "
      ]
     },
     "execution_count": 70,
     "metadata": {},
     "output_type": "execute_result"
    }
   ],
   "source": [
    "#LA City Council Districts (2012)\n",
    "url = \"http://egis3.lacounty.gov/dataportal/wp-content/uploads/2012/08/\" \\\n",
    "      \"CnclDist_July2012.zip\"\n",
    "LAcity_council_dist = download_egis3(url, 'CnclDist_July2012.zip', 'LAcity_council_dist', 'CnclDist_July2012.shp')\n",
    "dfname_list.append('LAcity_council_dist')\n",
    "checkdf(LAcity_council_dist)"
   ]
  },
  {
   "cell_type": "code",
   "execution_count": 72,
   "metadata": {
    "ExecuteTime": {
     "end_time": "2018-01-05T02:29:39.443093Z",
     "start_time": "2018-01-05T02:29:39.410130Z"
    }
   },
   "outputs": [
    {
     "data": {
      "text/html": [
       "<div>\n",
       "<style scoped>\n",
       "    .dataframe tbody tr th:only-of-type {\n",
       "        vertical-align: middle;\n",
       "    }\n",
       "\n",
       "    .dataframe tbody tr th {\n",
       "        vertical-align: top;\n",
       "    }\n",
       "\n",
       "    .dataframe thead th {\n",
       "        text-align: right;\n",
       "    }\n",
       "</style>\n",
       "<table border=\"1\" class=\"dataframe\">\n",
       "  <thead>\n",
       "    <tr style=\"text-align: right;\">\n",
       "      <th></th>\n",
       "      <th>DISTRICT</th>\n",
       "      <th>geometry</th>\n",
       "    </tr>\n",
       "  </thead>\n",
       "  <tbody>\n",
       "    <tr>\n",
       "      <th>0</th>\n",
       "      <td>7</td>\n",
       "      <td>POLYGON ((-118.5084667256651 34.33379445567272...</td>\n",
       "    </tr>\n",
       "    <tr>\n",
       "      <th>1</th>\n",
       "      <td>12</td>\n",
       "      <td>POLYGON ((-118.5084667256651 34.33379445567272...</td>\n",
       "    </tr>\n",
       "    <tr>\n",
       "      <th>2</th>\n",
       "      <td>6</td>\n",
       "      <td>POLYGON ((-118.4729681280253 34.23192967092903...</td>\n",
       "    </tr>\n",
       "  </tbody>\n",
       "</table>\n",
       "</div>"
      ],
      "text/plain": [
       "  DISTRICT                                           geometry\n",
       "0        7  POLYGON ((-118.5084667256651 34.33379445567272...\n",
       "1       12  POLYGON ((-118.5084667256651 34.33379445567272...\n",
       "2        6  POLYGON ((-118.4729681280253 34.23192967092903..."
      ]
     },
     "execution_count": 72,
     "metadata": {},
     "output_type": "execute_result"
    }
   ],
   "source": [
    "droplist = ['AREA', 'PERIMETER', 'CDMEMBER', 'SQ_MI', 'SHADESYM',\n",
    "       'Revised', 'Comments', 'SHAPE_Leng', 'SHAPE_Area']\n",
    "cleandf(LAcity_council_dist, droplist)"
   ]
  },
  {
   "cell_type": "code",
   "execution_count": 78,
   "metadata": {
    "ExecuteTime": {
     "end_time": "2018-01-05T04:24:38.225661Z",
     "start_time": "2018-01-05T04:24:29.685715Z"
    }
   },
   "outputs": [
    {
     "name": "stdout",
     "output_type": "stream",
     "text": [
      "--2018-01-04 23:24:29--  https://www2.census.gov/geo/tiger/GENZ2016/shp/cb_2016_06_sldl_500k.zip\n",
      "Resolving www2.census.gov... 2600:1408:24:5aa::208c, 2600:1408:24:599::208c, 104.121.83.95\n",
      "Connecting to www2.census.gov|2600:1408:24:5aa::208c|:443... connected.\n",
      "HTTP request sent, awaiting response... 200 OK\n",
      "Length: 612466 (598K) [application/zip]\n",
      "Saving to: 'cb_2016_06_sldl_500k.zip'\n",
      "\n",
      "cb_2016_06_sldl_500 100%[===================>] 598.11K   698KB/s    in 0.9s    \n",
      "\n",
      "2018-01-04 23:24:36 (698 KB/s) - 'cb_2016_06_sldl_500k.zip' saved [612466/612466]\n",
      "\n",
      "Total polygon number: 80\n",
      "number of null and unique values in each column:\n",
      "STATEFP: null 0, unique 1\n",
      "SLDLST: null 0, unique 80\n",
      "AFFGEOID: null 0, unique 80\n",
      "GEOID: null 0, unique 80\n",
      "NAME: null 0, unique 80\n",
      "LSAD: null 0, unique 1\n",
      "LSY: null 0, unique 1\n",
      "ALAND: null 0, unique 80\n",
      "AWATER: null 0, unique 80\n"
     ]
    },
    {
     "data": {
      "text/html": [
       "<div>\n",
       "<style scoped>\n",
       "    .dataframe tbody tr th:only-of-type {\n",
       "        vertical-align: middle;\n",
       "    }\n",
       "\n",
       "    .dataframe tbody tr th {\n",
       "        vertical-align: top;\n",
       "    }\n",
       "\n",
       "    .dataframe thead th {\n",
       "        text-align: right;\n",
       "    }\n",
       "</style>\n",
       "<table border=\"1\" class=\"dataframe\">\n",
       "  <thead>\n",
       "    <tr style=\"text-align: right;\">\n",
       "      <th></th>\n",
       "      <th>STATEFP</th>\n",
       "      <th>SLDLST</th>\n",
       "      <th>AFFGEOID</th>\n",
       "      <th>GEOID</th>\n",
       "      <th>NAME</th>\n",
       "      <th>LSAD</th>\n",
       "      <th>LSY</th>\n",
       "      <th>ALAND</th>\n",
       "      <th>AWATER</th>\n",
       "      <th>geometry</th>\n",
       "    </tr>\n",
       "  </thead>\n",
       "  <tbody>\n",
       "    <tr>\n",
       "      <th>0</th>\n",
       "      <td>06</td>\n",
       "      <td>036</td>\n",
       "      <td>620L500US06036</td>\n",
       "      <td>06036</td>\n",
       "      <td>36</td>\n",
       "      <td>L3</td>\n",
       "      <td>2016</td>\n",
       "      <td>7179257039</td>\n",
       "      <td>28222885</td>\n",
       "      <td>POLYGON ((-118.894474 34.817972, -118.884388 3...</td>\n",
       "    </tr>\n",
       "    <tr>\n",
       "      <th>1</th>\n",
       "      <td>06</td>\n",
       "      <td>057</td>\n",
       "      <td>620L500US06057</td>\n",
       "      <td>06057</td>\n",
       "      <td>57</td>\n",
       "      <td>L3</td>\n",
       "      <td>2016</td>\n",
       "      <td>237746318</td>\n",
       "      <td>2222703</td>\n",
       "      <td>POLYGON ((-118.099942 33.904934, -118.099517 3...</td>\n",
       "    </tr>\n",
       "    <tr>\n",
       "      <th>2</th>\n",
       "      <td>06</td>\n",
       "      <td>055</td>\n",
       "      <td>620L500US06055</td>\n",
       "      <td>06055</td>\n",
       "      <td>55</td>\n",
       "      <td>L3</td>\n",
       "      <td>2016</td>\n",
       "      <td>410765132</td>\n",
       "      <td>1985765</td>\n",
       "      <td>POLYGON ((-117.976692 33.910614, -117.976571 3...</td>\n",
       "    </tr>\n",
       "  </tbody>\n",
       "</table>\n",
       "</div>"
      ],
      "text/plain": [
       "  STATEFP SLDLST        AFFGEOID  GEOID NAME LSAD   LSY       ALAND    AWATER  \\\n",
       "0      06    036  620L500US06036  06036   36   L3  2016  7179257039  28222885   \n",
       "1      06    057  620L500US06057  06057   57   L3  2016   237746318   2222703   \n",
       "2      06    055  620L500US06055  06055   55   L3  2016   410765132   1985765   \n",
       "\n",
       "                                            geometry  \n",
       "0  POLYGON ((-118.894474 34.817972, -118.884388 3...  \n",
       "1  POLYGON ((-118.099942 33.904934, -118.099517 3...  \n",
       "2  POLYGON ((-117.976692 33.910614, -117.976571 3...  "
      ]
     },
     "execution_count": 78,
     "metadata": {},
     "output_type": "execute_result"
    }
   ],
   "source": [
    "#State Assembly Districts (State Legislative District – Lower Chamber)\n",
    "!wget https://www2.census.gov/geo/tiger/GENZ2016/shp/cb_2016_06_sldl_500k.zip\n",
    "legislative_lower = read_census('cb_2016_06_sldl_500k.zip', 'legislative_lower', 'cb_2016_06_sldl_500k.shp')\n",
    "dfname_list.append('legislative_lower')\n",
    "\n",
    "checkdf(legislative_lower)"
   ]
  },
  {
   "cell_type": "code",
   "execution_count": 79,
   "metadata": {
    "ExecuteTime": {
     "end_time": "2018-01-05T04:41:34.495409Z",
     "start_time": "2018-01-05T04:40:40.167455Z"
    }
   },
   "outputs": [
    {
     "name": "stdout",
     "output_type": "stream",
     "text": [
      "Total polygon number: 33601\n",
      "number of null and unique values in each column:\n",
      "PRECINCT: null 0, unique 33601\n",
      "CITY_EST: null 0, unique 7992\n",
      "SUBCODE: null 0, unique 26\n",
      "MAP1: null 0, unique 1\n",
      "DIST_RES: null 0, unique 1\n",
      "DIST_CONG: null 0, unique 18\n",
      "DIST_STSEN: null 0, unique 15\n",
      "DIST_STASS: null 0, unique 24\n",
      "DIST_SUP: null 0, unique 5\n",
      "DIST_MCRT: null 0, unique 1\n",
      "DIST_BEQ: null 0, unique 2\n",
      "DST_CITY: null 0, unique 89\n",
      "DIV_CITY: null 0, unique 95\n",
      "DST_RES2: null 0, unique 1\n",
      "DIV_RES2: null 0, unique 1\n",
      "DST_JRC: null 0, unique 15\n",
      "DIV_JRC: null 0, unique 8\n",
      "DST_USD: null 0, unique 50\n",
      "DIV_USD: null 0, unique 8\n",
      "DST_HSD: null 0, unique 8\n",
      "DIV_HSD: null 0, unique 6\n",
      "DST_ESD: null 0, unique 30\n",
      "DIV_ESD: null 0, unique 6\n",
      "DST_HOSP: null 0, unique 3\n",
      "DIV_HOSP: null 0, unique 1\n",
      "DST_PARK: null 0, unique 5\n",
      "DIV_PARK: null 0, unique 3\n",
      "DST_WA: null 0, unique 2\n",
      "DIV_WA: null 0, unique 1\n",
      "DST_MWD: null 0, unique 9\n",
      "DIV_MWD: null 0, unique 8\n",
      "DST_WR: null 0, unique 2\n",
      "DIV_WR: null 0, unique 6\n",
      "DST_WAG: null 0, unique 3\n",
      "DIV_WAG: null 0, unique 8\n",
      "DST_CW: null 0, unique 14\n",
      "DIV_CW: null 0, unique 6\n",
      "DST_IRR: null 0, unique 7\n",
      "DIV_IRR: null 0, unique 6\n",
      "DST_CS: null 0, unique 1\n",
      "DIV_CS: null 0, unique 1\n",
      "DST_LIB: null 0, unique 5\n",
      "DIV_LIB: null 0, unique 1\n",
      "DST_RC: null 0, unique 4\n",
      "DIV_RC: null 0, unique 1\n",
      "DST_CAW: null 0, unique 2\n",
      "DIV_CAW: null 0, unique 6\n",
      "DST_CEM: null 0, unique 1\n",
      "DIV_CEM: null 0, unique 1\n",
      "DST_MOS: null 0, unique 6\n",
      "DIV_MOS: null 0, unique 1\n",
      "DST_SAN: null 0, unique 2\n",
      "DIV_SAN: null 0, unique 1\n",
      "DST_TRN: null 0, unique 1\n",
      "DIV_TRN: null 0, unique 1\n",
      "DST_RES3: null 0, unique 1\n",
      "DIV_RES3: null 0, unique 1\n",
      "DST_FIR: null 0, unique 2\n",
      "DIV_FIR: null 0, unique 1\n",
      "DST_FLD: null 0, unique 2\n",
      "DIV_FLD: null 0, unique 1\n",
      "DST_GARB: null 0, unique 8\n",
      "DIV_GARB: null 0, unique 1\n",
      "DIST_OLDC: null 0, unique 18\n",
      "DIST_OLDS: null 0, unique 14\n",
      "DIST_OLDA: null 0, unique 26\n",
      "DST_CL: null 0, unique 1\n",
      "DIV_CL: null 0, unique 1\n",
      "DST_SM: null 0, unique 1\n",
      "DIV_SM: null 0, unique 1\n",
      "DST_RD: null 0, unique 1\n",
      "DIV_RD: null 0, unique 1\n",
      "DST_MISC1: null 0, unique 7\n",
      "DIV_MISC1: null 0, unique 1\n",
      "DST_MISC2: null 0, unique 1\n",
      "DIV_MISC2: null 0, unique 1\n",
      "DST_MISC3: null 0, unique 4\n",
      "DIV_MISC3: null 0, unique 1\n",
      "DST_MISC4: null 0, unique 1\n",
      "DIV_MISC4: null 0, unique 1\n",
      "DST_MISC5: null 0, unique 5\n",
      "DIV_MISC5: null 0, unique 1\n",
      "DST_MISC6: null 0, unique 3\n",
      "DIV_MISC6: null 0, unique 1\n",
      "DST_ANX1: null 0, unique 1\n",
      "DIV_ANX1: null 0, unique 1\n",
      "DST_ANX2: null 0, unique 1\n",
      "DIV_ANX2: null 0, unique 1\n",
      "DST_ANX3: null 0, unique 1\n",
      "DIV_ANX3: null 0, unique 1\n",
      "DST_ANX4: null 0, unique 1\n",
      "DIV_ANX4: null 0, unique 1\n",
      "DST_ANX5: null 0, unique 1\n",
      "DIV_ANX5: null 0, unique 1\n",
      "CT_YEAR1: null 0, unique 1\n",
      "CT_YEAR2: null 0, unique 1\n",
      "CTRACT1: null 0, unique 2343\n",
      "CTRACT2: null 0, unique 2054\n",
      "COMM_CODE: null 0, unique 170\n",
      "COMM_NAME: null 0, unique 170\n",
      "AREA_CODE: null 0, unique 36\n",
      "AREA_NAME: null 0, unique 36\n",
      "PRC_NAME: null 0, unique 170\n",
      "CITY: null 0, unique 170\n",
      "ESTAB: null 0, unique 3100\n",
      "Shape_STAr: null 0, unique 33601\n",
      "Shape_STLe: null 0, unique 33601\n"
     ]
    },
    {
     "data": {
      "text/html": [
       "<div>\n",
       "<style scoped>\n",
       "    .dataframe tbody tr th:only-of-type {\n",
       "        vertical-align: middle;\n",
       "    }\n",
       "\n",
       "    .dataframe tbody tr th {\n",
       "        vertical-align: top;\n",
       "    }\n",
       "\n",
       "    .dataframe thead th {\n",
       "        text-align: right;\n",
       "    }\n",
       "</style>\n",
       "<table border=\"1\" class=\"dataframe\">\n",
       "  <thead>\n",
       "    <tr style=\"text-align: right;\">\n",
       "      <th></th>\n",
       "      <th>PRECINCT</th>\n",
       "      <th>CITY_EST</th>\n",
       "      <th>SUBCODE</th>\n",
       "      <th>MAP1</th>\n",
       "      <th>DIST_RES</th>\n",
       "      <th>DIST_CONG</th>\n",
       "      <th>DIST_STSEN</th>\n",
       "      <th>DIST_STASS</th>\n",
       "      <th>DIST_SUP</th>\n",
       "      <th>DIST_MCRT</th>\n",
       "      <th>...</th>\n",
       "      <th>COMM_CODE</th>\n",
       "      <th>COMM_NAME</th>\n",
       "      <th>AREA_CODE</th>\n",
       "      <th>AREA_NAME</th>\n",
       "      <th>PRC_NAME</th>\n",
       "      <th>CITY</th>\n",
       "      <th>ESTAB</th>\n",
       "      <th>Shape_STAr</th>\n",
       "      <th>Shape_STLe</th>\n",
       "      <th>geometry</th>\n",
       "    </tr>\n",
       "  </thead>\n",
       "  <tbody>\n",
       "    <tr>\n",
       "      <th>0</th>\n",
       "      <td>9001742B</td>\n",
       "      <td>9001742</td>\n",
       "      <td>B</td>\n",
       "      <td>0.0</td>\n",
       "      <td></td>\n",
       "      <td>34.0</td>\n",
       "      <td>24.0</td>\n",
       "      <td>53.0</td>\n",
       "      <td>1.0</td>\n",
       "      <td></td>\n",
       "      <td>...</td>\n",
       "      <td>900.0</td>\n",
       "      <td>LOS ANGELES</td>\n",
       "      <td>809.0</td>\n",
       "      <td>CENTRAL AREA</td>\n",
       "      <td>LOS ANGELES</td>\n",
       "      <td>900</td>\n",
       "      <td>1742</td>\n",
       "      <td>453984.737305</td>\n",
       "      <td>2713.125981</td>\n",
       "      <td>POLYGON ((-118.2776159595675 34.05073225085379...</td>\n",
       "    </tr>\n",
       "    <tr>\n",
       "      <th>1</th>\n",
       "      <td>9001742C</td>\n",
       "      <td>9001742</td>\n",
       "      <td>C</td>\n",
       "      <td>0.0</td>\n",
       "      <td></td>\n",
       "      <td>34.0</td>\n",
       "      <td>24.0</td>\n",
       "      <td>53.0</td>\n",
       "      <td>1.0</td>\n",
       "      <td></td>\n",
       "      <td>...</td>\n",
       "      <td>900.0</td>\n",
       "      <td>LOS ANGELES</td>\n",
       "      <td>809.0</td>\n",
       "      <td>CENTRAL AREA</td>\n",
       "      <td>LOS ANGELES</td>\n",
       "      <td>900</td>\n",
       "      <td>1742</td>\n",
       "      <td>766784.173828</td>\n",
       "      <td>3820.588904</td>\n",
       "      <td>POLYGON ((-118.2828304354189 34.04931735342003...</td>\n",
       "    </tr>\n",
       "    <tr>\n",
       "      <th>2</th>\n",
       "      <td>9001742E</td>\n",
       "      <td>9001742</td>\n",
       "      <td>E</td>\n",
       "      <td>0.0</td>\n",
       "      <td></td>\n",
       "      <td>34.0</td>\n",
       "      <td>24.0</td>\n",
       "      <td>53.0</td>\n",
       "      <td>1.0</td>\n",
       "      <td></td>\n",
       "      <td>...</td>\n",
       "      <td>900.0</td>\n",
       "      <td>LOS ANGELES</td>\n",
       "      <td>809.0</td>\n",
       "      <td>CENTRAL AREA</td>\n",
       "      <td>LOS ANGELES</td>\n",
       "      <td>900</td>\n",
       "      <td>1742</td>\n",
       "      <td>566946.030273</td>\n",
       "      <td>3362.362112</td>\n",
       "      <td>POLYGON ((-118.2835241269783 34.05237068362484...</td>\n",
       "    </tr>\n",
       "  </tbody>\n",
       "</table>\n",
       "<p>3 rows × 108 columns</p>\n",
       "</div>"
      ],
      "text/plain": [
       "   PRECINCT CITY_EST SUBCODE  MAP1 DIST_RES  DIST_CONG  DIST_STSEN  \\\n",
       "0  9001742B  9001742       B   0.0                34.0        24.0   \n",
       "1  9001742C  9001742       C   0.0                34.0        24.0   \n",
       "2  9001742E  9001742       E   0.0                34.0        24.0   \n",
       "\n",
       "   DIST_STASS  DIST_SUP DIST_MCRT  \\\n",
       "0        53.0       1.0             \n",
       "1        53.0       1.0             \n",
       "2        53.0       1.0             \n",
       "\n",
       "                         ...                          COMM_CODE    COMM_NAME  \\\n",
       "0                        ...                              900.0  LOS ANGELES   \n",
       "1                        ...                              900.0  LOS ANGELES   \n",
       "2                        ...                              900.0  LOS ANGELES   \n",
       "\n",
       "   AREA_CODE     AREA_NAME     PRC_NAME  CITY  ESTAB     Shape_STAr  \\\n",
       "0      809.0  CENTRAL AREA  LOS ANGELES   900   1742  453984.737305   \n",
       "1      809.0  CENTRAL AREA  LOS ANGELES   900   1742  766784.173828   \n",
       "2      809.0  CENTRAL AREA  LOS ANGELES   900   1742  566946.030273   \n",
       "\n",
       "    Shape_STLe                                           geometry  \n",
       "0  2713.125981  POLYGON ((-118.2776159595675 34.05073225085379...  \n",
       "1  3820.588904  POLYGON ((-118.2828304354189 34.04931735342003...  \n",
       "2  3362.362112  POLYGON ((-118.2835241269783 34.05237068362484...  \n",
       "\n",
       "[3 rows x 108 columns]"
      ]
     },
     "execution_count": 79,
     "metadata": {},
     "output_type": "execute_result"
    }
   ],
   "source": [
    "#Registrar Recorder Precincts\n",
    "url = \"http://egis3.lacounty.gov/dataportal/wp-content/uploads/\" \\\n",
    "      \"ShapefilePackages/RRCC_PRECINCTS.zip\"\n",
    "election_precinct = download_egis3(url, 'RRCC_PRECINCTS.zip', 'election_precinct', 'RRCC_PRECINCTS.shp')\n",
    "dfname_list.append('election_precinct')\n",
    "checkdf(election_precinct)"
   ]
  },
  {
   "cell_type": "code",
   "execution_count": null,
   "metadata": {},
   "outputs": [],
   "source": []
  },
  {
   "cell_type": "code",
   "execution_count": null,
   "metadata": {},
   "outputs": [],
   "source": []
  },
  {
   "cell_type": "code",
   "execution_count": null,
   "metadata": {},
   "outputs": [],
   "source": []
  },
  {
   "cell_type": "code",
   "execution_count": null,
   "metadata": {},
   "outputs": [],
   "source": []
  }
 ],
 "metadata": {
  "kernelspec": {
   "display_name": "Python 3",
   "language": "python",
   "name": "python3"
  },
  "language_info": {
   "codemirror_mode": {
    "name": "ipython",
    "version": 3
   },
   "file_extension": ".py",
   "mimetype": "text/x-python",
   "name": "python",
   "nbconvert_exporter": "python",
   "pygments_lexer": "ipython3",
   "version": "3.6.1"
  }
 },
 "nbformat": 4,
 "nbformat_minor": 2
}
